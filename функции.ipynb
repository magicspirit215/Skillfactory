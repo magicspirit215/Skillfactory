{
 "cells": [
  {
   "cell_type": "code",
   "execution_count": 1,
   "id": "abf3de18",
   "metadata": {},
   "outputs": [
    {
     "ename": "NameError",
     "evalue": "name 'pow_' is not defined",
     "output_type": "error",
     "traceback": [
      "\u001b[1;31m---------------------------------------------------------------------------\u001b[0m",
      "\u001b[1;31mNameError\u001b[0m                                 Traceback (most recent call last)",
      "\u001b[1;32m<ipython-input-1-16aa3d7b0f81>\u001b[0m in \u001b[0;36m<module>\u001b[1;34m\u001b[0m\n\u001b[0;32m      6\u001b[0m         \u001b[0moutp\u001b[0m\u001b[1;33m.\u001b[0m\u001b[0mappend\u001b[0m\u001b[1;33m(\u001b[0m\u001b[0mfunc\u001b[0m\u001b[1;33m(\u001b[0m\u001b[0msome_list\u001b[0m\u001b[1;33m[\u001b[0m\u001b[0mi\u001b[0m\u001b[1;33m]\u001b[0m\u001b[1;33m)\u001b[0m\u001b[1;33m)\u001b[0m\u001b[1;33m\u001b[0m\u001b[1;33m\u001b[0m\u001b[0m\n\u001b[0;32m      7\u001b[0m     \u001b[1;32mreturn\u001b[0m \u001b[0moutp\u001b[0m\u001b[1;33m\u001b[0m\u001b[1;33m\u001b[0m\u001b[0m\n\u001b[1;32m----> 8\u001b[1;33m \u001b[0mprint\u001b[0m\u001b[1;33m(\u001b[0m\u001b[0mlist\u001b[0m\u001b[1;33m(\u001b[0m\u001b[0mmap\u001b[0m\u001b[1;33m(\u001b[0m\u001b[0mpow_\u001b[0m\u001b[1;33m,\u001b[0m \u001b[0ma_list\u001b[0m\u001b[1;33m)\u001b[0m\u001b[1;33m)\u001b[0m\u001b[1;33m)\u001b[0m  \u001b[1;31m# [1, 4, 9]\u001b[0m\u001b[1;33m\u001b[0m\u001b[1;33m\u001b[0m\u001b[0m\n\u001b[0m\u001b[0;32m      9\u001b[0m \u001b[1;33m\u001b[0m\u001b[0m\n\u001b[0;32m     10\u001b[0m \u001b[1;32mfor\u001b[0m \u001b[0mi\u001b[0m \u001b[1;32min\u001b[0m \u001b[0mmap\u001b[0m\u001b[1;33m(\u001b[0m\u001b[0mpow_\u001b[0m\u001b[1;33m,\u001b[0m \u001b[0ma_list\u001b[0m\u001b[1;33m)\u001b[0m\u001b[1;33m:\u001b[0m\u001b[1;33m\u001b[0m\u001b[1;33m\u001b[0m\u001b[0m\n",
      "\u001b[1;31mNameError\u001b[0m: name 'pow_' is not defined"
     ]
    }
   ],
   "source": [
    "def map_(func, some_list):\n",
    "    # some_list — объект, над которым будет производиться преобразование\n",
    "    # func — функция, которая должна выполняться над каждым объектом\n",
    "    outp = []\n",
    "    for i in range(len(some_list)):\n",
    "        outp.append(func(some_list[i]))\n",
    "    return outp\n",
    "print(list(map(pow_, a_list)))  # [1, 4, 9]\n",
    "\n",
    "for i in map(pow_, a_list):\n",
    "    pass"
   ]
  },
  {
   "cell_type": "code",
   "execution_count": 2,
   "id": "190c09eb",
   "metadata": {},
   "outputs": [
    {
     "name": "stdout",
     "output_type": "stream",
     "text": [
      "9\n",
      "None\n"
     ]
    }
   ],
   "source": [
    "def pow_func(base, n=2):\n",
    "    print(base ** n)\n",
    "\n",
    "print(pow_func(3)) "
   ]
  },
  {
   "cell_type": "code",
   "execution_count": 3,
   "id": "f658a7ea",
   "metadata": {},
   "outputs": [
    {
     "data": {
      "text/plain": [
       "3"
      ]
     },
     "execution_count": 3,
     "metadata": {},
     "output_type": "execute_result"
    }
   ],
   "source": [
    "def get_multipliers(a):\n",
    "    count = 0\n",
    "    for n in range(1, a + 1):\n",
    "        if a % n == 0:\n",
    "            count += 1\n",
    "\n",
    "    return count\n",
    "\n",
    "get_multipliers(5)  # 2\n",
    "get_multipliers(4)  # 3"
   ]
  },
  {
   "cell_type": "code",
   "execution_count": 4,
   "id": "0e7a273e",
   "metadata": {},
   "outputs": [
    {
     "data": {
      "text/plain": [
       "True"
      ]
     },
     "execution_count": 4,
     "metadata": {},
     "output_type": "execute_result"
    }
   ],
   "source": [
    "def check_palindrome(str_):\n",
    "    str_ = str_.lower()\n",
    "    str_ = str_.replace(\" \", \"\")\n",
    "\n",
    "    if str_ == str_[::-1]:\n",
    "        return True\n",
    "    else:\n",
    "        return False\n",
    "\n",
    "check_palindrome(\"test\")  # False\n",
    "check_palindrome(\"Кит на море не романтик\")  # True"
   ]
  },
  {
   "cell_type": "code",
   "execution_count": 7,
   "id": "521c6c4b",
   "metadata": {},
   "outputs": [
    {
     "name": "stdout",
     "output_type": "stream",
     "text": [
      "0\n",
      "1\n",
      "3\n",
      "6\n"
     ]
    }
   ],
   "source": [
    "def adder(*nums):\n",
    "    sum_ = 0\n",
    "    for n in nums:\n",
    "        sum_ += n\n",
    "  \n",
    "    return sum_\n",
    "\n",
    "\n",
    "print(adder())  # 0\n",
    "print(adder(1))  # 1\n",
    "print(adder(1, 2))  # 3\n",
    "print(adder(1, 2, 3))  # 6"
   ]
  },
  {
   "cell_type": "code",
   "execution_count": 8,
   "id": "199ea46d",
   "metadata": {},
   "outputs": [
    {
     "name": "stdout",
     "output_type": "stream",
     "text": [
      "1\n",
      "1\n",
      "2\n",
      "6\n"
     ]
    }
   ],
   "source": [
    "def adder(*nums):\n",
    "    sum_ = 1\n",
    "    for n in nums:\n",
    "        sum_ *= n\n",
    "  \n",
    "    return sum_\n",
    "\n",
    "\n",
    "print(adder())  # 0\n",
    "print(adder(1))  # 1\n",
    "print(adder(1, 2))  # 3\n",
    "print(adder(1, 2, 3))  # 6"
   ]
  },
  {
   "cell_type": "code",
   "execution_count": 9,
   "id": "924b67a7",
   "metadata": {},
   "outputs": [
    {
     "ename": "SyntaxError",
     "evalue": "invalid syntax (<ipython-input-9-35ae317df93d>, line 1)",
     "output_type": "error",
     "traceback": [
      "\u001b[1;36m  File \u001b[1;32m\"<ipython-input-9-35ae317df93d>\"\u001b[1;36m, line \u001b[1;32m1\u001b[0m\n\u001b[1;33m    def count(start-1, step=1):\u001b[0m\n\u001b[1;37m                   ^\u001b[0m\n\u001b[1;31mSyntaxError\u001b[0m\u001b[1;31m:\u001b[0m invalid syntax\n"
     ]
    }
   ],
   "source": [
    "def count(start-1, step=1):\n",
    "    counter = start\n",
    "    while True:\n",
    "        yield counter\n",
    "        counter += step"
   ]
  },
  {
   "cell_type": "code",
   "execution_count": 10,
   "id": "86be3666",
   "metadata": {},
   "outputs": [
    {
     "ename": "NameError",
     "evalue": "name 'repeat_list' is not defined",
     "output_type": "error",
     "traceback": [
      "\u001b[1;31m---------------------------------------------------------------------------\u001b[0m",
      "\u001b[1;31mNameError\u001b[0m                                 Traceback (most recent call last)",
      "\u001b[1;32m<ipython-input-10-9abcb4b6879b>\u001b[0m in \u001b[0;36m<module>\u001b[1;34m\u001b[0m\n\u001b[0;32m      5\u001b[0m     \u001b[1;32myield\u001b[0m \u001b[0mvalue\u001b[0m\u001b[1;33m\u001b[0m\u001b[1;33m\u001b[0m\u001b[0m\n\u001b[0;32m      6\u001b[0m \u001b[1;33m\u001b[0m\u001b[0m\n\u001b[1;32m----> 7\u001b[1;33m \u001b[1;32mfor\u001b[0m \u001b[0mi\u001b[0m \u001b[1;32min\u001b[0m \u001b[0mrepeat_list\u001b[0m\u001b[1;33m(\u001b[0m\u001b[1;33m[\u001b[0m\u001b[1;36m1\u001b[0m\u001b[1;33m,\u001b[0m \u001b[1;36m2\u001b[0m\u001b[1;33m,\u001b[0m \u001b[1;36m3\u001b[0m\u001b[1;33m]\u001b[0m\u001b[1;33m)\u001b[0m\u001b[1;33m:\u001b[0m\u001b[1;33m\u001b[0m\u001b[1;33m\u001b[0m\u001b[0m\n\u001b[0m\u001b[0;32m      8\u001b[0m     \u001b[0mprint\u001b[0m\u001b[1;33m(\u001b[0m\u001b[0mi\u001b[0m\u001b[1;33m)\u001b[0m\u001b[1;33m\u001b[0m\u001b[1;33m\u001b[0m\u001b[0m\n",
      "\u001b[1;31mNameError\u001b[0m: name 'repeat_list' is not defined"
     ]
    }
   ],
   "source": [
    "def repear_list(list_):\n",
    "    list_values = list_.copy()\n",
    "    value = list_values.pop(0)\n",
    "    list_values.append(value)\n",
    "    yield value\n",
    "    \n",
    "for i in repeat_list([1, 2, 3]):\n",
    "    print(i)"
   ]
  },
  {
   "cell_type": "code",
   "execution_count": 76,
   "id": "3ae75d74",
   "metadata": {},
   "outputs": [
    {
     "name": "stdout",
     "output_type": "stream",
     "text": [
      "1 5 1\n",
      "1 5 6\n",
      "5 1 7\n",
      "5 9 7\n",
      "6 5 7\n",
      "9 5 7\n"
     ]
    }
   ],
   "source": [
    "list_ = [1, 4, 5, 6, 7, 9] # условие 4\n",
    "for a in list_:\n",
    "    for b in list_:\n",
    "        for c in list_:\n",
    "            if a==1 or c==7: #условие 1\n",
    "                if a==5 or b==5: #условие 5\n",
    "                    if ((a==6 or a==9) or (b==1 or b==9) or (c==1 or c==6)): #условие 2\n",
    "                        if (a!=5 or a!=1) or (b!=7 or b!=1) or (c!=7 or c!=5): #условие 3\n",
    "                            print(a, b, c)"
   ]
  },
  {
   "cell_type": "code",
   "execution_count": 116,
   "id": "133b4ba0",
   "metadata": {},
   "outputs": [
    {
     "name": "stdout",
     "output_type": "stream",
     "text": [
      "5 9 7\n"
     ]
    }
   ],
   "source": [
    "list_ = [1, 4, 5, 6, 7, 9] # условие 4\n",
    "lst = [[1,3,7], [1,6,9], [7,5,1], [2,3,5]]\n",
    "for a in list_:\n",
    "    for b in list_:\n",
    "        for c in list_:\n",
    "            if a==lst[0][0]: #условие 1  a==1\n",
    "                if b==5: #условие 5\n",
    "                    if a==lst[1][0]: # a==1\n",
    "                        break\n",
    "                    else:    \n",
    "                        b==lst[1][2] or c==lst[1][1] #условие 2 b==9 or c==6 \n",
    "                        if (a!=5 or a!=1) or (b!=7 or b!=1) or (c!=7 or c!=5): #условие 3\n",
    "                            print(a, b, c)\n",
    "            elif c==lst[0][2]: # условие 1 c==7\n",
    "                if a==lst[3][2] or b==lst[3][2]: #условие 5 a==5 or b==5\n",
    "                    if b==lst[1][2]: #условие 2 b==9\n",
    "                        if (a!=5 or a!=1) or (b!=7 or b!=1) or (c!=7 or c!=5): #условие 3\n",
    "                            print(a, b, c)\n",
    "                "
   ]
  },
  {
   "cell_type": "code",
   "execution_count": 118,
   "id": "87ba09eb",
   "metadata": {},
   "outputs": [
    {
     "data": {
      "text/plain": [
       "6"
      ]
     },
     "execution_count": 118,
     "metadata": {},
     "output_type": "execute_result"
    }
   ],
   "source": [
    "aaa = [1,3,7], [1,6,9], [7,5,1], [2,3,5]\n",
    "aaa[1][1]"
   ]
  },
  {
   "cell_type": "code",
   "execution_count": null,
   "id": "7e9f6673",
   "metadata": {},
   "outputs": [],
   "source": []
  },
  {
   "cell_type": "code",
   "execution_count": null,
   "id": "8ab43cb5",
   "metadata": {},
   "outputs": [],
   "source": []
  },
  {
   "cell_type": "code",
   "execution_count": null,
   "id": "8a163656",
   "metadata": {},
   "outputs": [],
   "source": []
  },
  {
   "cell_type": "code",
   "execution_count": null,
   "id": "6bee5b32",
   "metadata": {},
   "outputs": [],
   "source": []
  },
  {
   "cell_type": "code",
   "execution_count": null,
   "id": "1b73f78d",
   "metadata": {},
   "outputs": [],
   "source": []
  }
 ],
 "metadata": {
  "kernelspec": {
   "display_name": "Python 3",
   "language": "python",
   "name": "python3"
  },
  "language_info": {
   "codemirror_mode": {
    "name": "ipython",
    "version": 3
   },
   "file_extension": ".py",
   "mimetype": "text/x-python",
   "name": "python",
   "nbconvert_exporter": "python",
   "pygments_lexer": "ipython3",
   "version": "3.8.8"
  }
 },
 "nbformat": 4,
 "nbformat_minor": 5
}
