{
 "cells": [
  {
   "cell_type": "code",
   "execution_count": 2,
   "id": "45a84f4e",
   "metadata": {},
   "outputs": [],
   "source": [
    "import pandas as pd\n",
    "import numpy as np\n",
    "import matplotlib.pyplot as plt\n",
    "%matplotlib inline\n",
    "import seaborn as sns"
   ]
  },
  {
   "cell_type": "code",
   "execution_count": 75,
   "id": "8cc5e28f",
   "metadata": {
    "scrolled": true
   },
   "outputs": [
    {
     "data": {
      "text/html": [
       "<div>\n",
       "<style scoped>\n",
       "    .dataframe tbody tr th:only-of-type {\n",
       "        vertical-align: middle;\n",
       "    }\n",
       "\n",
       "    .dataframe tbody tr th {\n",
       "        vertical-align: top;\n",
       "    }\n",
       "\n",
       "    .dataframe thead th {\n",
       "        text-align: right;\n",
       "    }\n",
       "</style>\n",
       "<table border=\"1\" class=\"dataframe\">\n",
       "  <thead>\n",
       "    <tr style=\"text-align: right;\">\n",
       "      <th></th>\n",
       "      <th>id</th>\n",
       "      <th>full_sq</th>\n",
       "      <th>life_sq</th>\n",
       "      <th>floor</th>\n",
       "      <th>sub_area</th>\n",
       "      <th>preschool_quota</th>\n",
       "      <th>preschool_education_centers_raion</th>\n",
       "      <th>school_quota</th>\n",
       "      <th>school_education_centers_raion</th>\n",
       "      <th>school_education_centers_top_20_raion</th>\n",
       "      <th>...</th>\n",
       "      <th>office_km</th>\n",
       "      <th>additional_education_km</th>\n",
       "      <th>preschool_km</th>\n",
       "      <th>big_church_km</th>\n",
       "      <th>church_synagogue_km</th>\n",
       "      <th>theater_km</th>\n",
       "      <th>museum_km</th>\n",
       "      <th>ecology</th>\n",
       "      <th>mosque_count_1000</th>\n",
       "      <th>price_doc</th>\n",
       "    </tr>\n",
       "  </thead>\n",
       "  <tbody>\n",
       "    <tr>\n",
       "      <th>0</th>\n",
       "      <td>1</td>\n",
       "      <td>43</td>\n",
       "      <td>27.0</td>\n",
       "      <td>4.0</td>\n",
       "      <td>Bibirevo</td>\n",
       "      <td>5001.0</td>\n",
       "      <td>5</td>\n",
       "      <td>11065.0</td>\n",
       "      <td>5</td>\n",
       "      <td>0</td>\n",
       "      <td>...</td>\n",
       "      <td>0.637189</td>\n",
       "      <td>0.947962</td>\n",
       "      <td>0.177975</td>\n",
       "      <td>0.625783</td>\n",
       "      <td>0.628187</td>\n",
       "      <td>14.053047</td>\n",
       "      <td>7.389498</td>\n",
       "      <td>good</td>\n",
       "      <td>0</td>\n",
       "      <td>5850000</td>\n",
       "    </tr>\n",
       "    <tr>\n",
       "      <th>1</th>\n",
       "      <td>2</td>\n",
       "      <td>34</td>\n",
       "      <td>19.0</td>\n",
       "      <td>3.0</td>\n",
       "      <td>Nagatinskij Zaton</td>\n",
       "      <td>3119.0</td>\n",
       "      <td>5</td>\n",
       "      <td>6237.0</td>\n",
       "      <td>8</td>\n",
       "      <td>0</td>\n",
       "      <td>...</td>\n",
       "      <td>0.688796</td>\n",
       "      <td>1.072315</td>\n",
       "      <td>0.273345</td>\n",
       "      <td>0.967821</td>\n",
       "      <td>0.471447</td>\n",
       "      <td>6.829889</td>\n",
       "      <td>0.709260</td>\n",
       "      <td>excellent</td>\n",
       "      <td>0</td>\n",
       "      <td>6000000</td>\n",
       "    </tr>\n",
       "    <tr>\n",
       "      <th>2</th>\n",
       "      <td>3</td>\n",
       "      <td>43</td>\n",
       "      <td>29.0</td>\n",
       "      <td>2.0</td>\n",
       "      <td>Tekstil'shhiki</td>\n",
       "      <td>1463.0</td>\n",
       "      <td>4</td>\n",
       "      <td>5580.0</td>\n",
       "      <td>7</td>\n",
       "      <td>0</td>\n",
       "      <td>...</td>\n",
       "      <td>1.543049</td>\n",
       "      <td>0.391957</td>\n",
       "      <td>0.158072</td>\n",
       "      <td>3.178751</td>\n",
       "      <td>0.755946</td>\n",
       "      <td>4.273200</td>\n",
       "      <td>3.156423</td>\n",
       "      <td>poor</td>\n",
       "      <td>0</td>\n",
       "      <td>5700000</td>\n",
       "    </tr>\n",
       "    <tr>\n",
       "      <th>3</th>\n",
       "      <td>4</td>\n",
       "      <td>89</td>\n",
       "      <td>50.0</td>\n",
       "      <td>9.0</td>\n",
       "      <td>Mitino</td>\n",
       "      <td>6839.0</td>\n",
       "      <td>9</td>\n",
       "      <td>17063.0</td>\n",
       "      <td>10</td>\n",
       "      <td>0</td>\n",
       "      <td>...</td>\n",
       "      <td>0.934273</td>\n",
       "      <td>0.892674</td>\n",
       "      <td>0.236455</td>\n",
       "      <td>1.031777</td>\n",
       "      <td>1.561505</td>\n",
       "      <td>16.990677</td>\n",
       "      <td>16.041521</td>\n",
       "      <td>good</td>\n",
       "      <td>0</td>\n",
       "      <td>13100000</td>\n",
       "    </tr>\n",
       "    <tr>\n",
       "      <th>4</th>\n",
       "      <td>5</td>\n",
       "      <td>77</td>\n",
       "      <td>77.0</td>\n",
       "      <td>4.0</td>\n",
       "      <td>Basmannoe</td>\n",
       "      <td>3240.0</td>\n",
       "      <td>7</td>\n",
       "      <td>7770.0</td>\n",
       "      <td>9</td>\n",
       "      <td>0</td>\n",
       "      <td>...</td>\n",
       "      <td>0.077901</td>\n",
       "      <td>0.810801</td>\n",
       "      <td>0.376838</td>\n",
       "      <td>0.378756</td>\n",
       "      <td>0.121681</td>\n",
       "      <td>1.112486</td>\n",
       "      <td>1.800125</td>\n",
       "      <td>excellent</td>\n",
       "      <td>0</td>\n",
       "      <td>16331452</td>\n",
       "    </tr>\n",
       "  </tbody>\n",
       "</table>\n",
       "<p>5 rows × 61 columns</p>\n",
       "</div>"
      ],
      "text/plain": [
       "   id  full_sq  life_sq  floor           sub_area  preschool_quota  \\\n",
       "0   1       43     27.0    4.0           Bibirevo           5001.0   \n",
       "1   2       34     19.0    3.0  Nagatinskij Zaton           3119.0   \n",
       "2   3       43     29.0    2.0     Tekstil'shhiki           1463.0   \n",
       "3   4       89     50.0    9.0             Mitino           6839.0   \n",
       "4   5       77     77.0    4.0          Basmannoe           3240.0   \n",
       "\n",
       "   preschool_education_centers_raion  school_quota  \\\n",
       "0                                  5       11065.0   \n",
       "1                                  5        6237.0   \n",
       "2                                  4        5580.0   \n",
       "3                                  9       17063.0   \n",
       "4                                  7        7770.0   \n",
       "\n",
       "   school_education_centers_raion  school_education_centers_top_20_raion  ...  \\\n",
       "0                               5                                      0  ...   \n",
       "1                               8                                      0  ...   \n",
       "2                               7                                      0  ...   \n",
       "3                              10                                      0  ...   \n",
       "4                               9                                      0  ...   \n",
       "\n",
       "   office_km  additional_education_km  preschool_km  big_church_km  \\\n",
       "0   0.637189                 0.947962      0.177975       0.625783   \n",
       "1   0.688796                 1.072315      0.273345       0.967821   \n",
       "2   1.543049                 0.391957      0.158072       3.178751   \n",
       "3   0.934273                 0.892674      0.236455       1.031777   \n",
       "4   0.077901                 0.810801      0.376838       0.378756   \n",
       "\n",
       "   church_synagogue_km  theater_km  museum_km    ecology mosque_count_1000  \\\n",
       "0             0.628187   14.053047   7.389498       good                 0   \n",
       "1             0.471447    6.829889   0.709260  excellent                 0   \n",
       "2             0.755946    4.273200   3.156423       poor                 0   \n",
       "3             1.561505   16.990677  16.041521       good                 0   \n",
       "4             0.121681    1.112486   1.800125  excellent                 0   \n",
       "\n",
       "  price_doc  \n",
       "0   5850000  \n",
       "1   6000000  \n",
       "2   5700000  \n",
       "3  13100000  \n",
       "4  16331452  \n",
       "\n",
       "[5 rows x 61 columns]"
      ]
     },
     "execution_count": 75,
     "metadata": {},
     "output_type": "execute_result"
    }
   ],
   "source": [
    "sber_data = pd.read_csv('data/sber_data.csv')\n",
    "sber_data.head()"
   ]
  },
  {
   "cell_type": "code",
   "execution_count": 4,
   "id": "7fe4d3aa",
   "metadata": {
    "scrolled": true
   },
   "outputs": [
    {
     "data": {
      "text/html": [
       "<div>\n",
       "<style scoped>\n",
       "    .dataframe tbody tr th:only-of-type {\n",
       "        vertical-align: middle;\n",
       "    }\n",
       "\n",
       "    .dataframe tbody tr th {\n",
       "        vertical-align: top;\n",
       "    }\n",
       "\n",
       "    .dataframe thead th {\n",
       "        text-align: right;\n",
       "    }\n",
       "</style>\n",
       "<table border=\"1\" class=\"dataframe\">\n",
       "  <thead>\n",
       "    <tr style=\"text-align: right;\">\n",
       "      <th></th>\n",
       "      <th>id</th>\n",
       "      <th>full_sq</th>\n",
       "      <th>life_sq</th>\n",
       "      <th>floor</th>\n",
       "      <th>sub_area</th>\n",
       "      <th>preschool_quota</th>\n",
       "      <th>preschool_education_centers_raion</th>\n",
       "      <th>school_quota</th>\n",
       "      <th>school_education_centers_raion</th>\n",
       "      <th>school_education_centers_top_20_raion</th>\n",
       "      <th>...</th>\n",
       "      <th>office_km</th>\n",
       "      <th>additional_education_km</th>\n",
       "      <th>preschool_km</th>\n",
       "      <th>big_church_km</th>\n",
       "      <th>church_synagogue_km</th>\n",
       "      <th>theater_km</th>\n",
       "      <th>museum_km</th>\n",
       "      <th>ecology</th>\n",
       "      <th>mosque_count_1000</th>\n",
       "      <th>price_doc</th>\n",
       "    </tr>\n",
       "  </thead>\n",
       "  <tbody>\n",
       "    <tr>\n",
       "      <th>30466</th>\n",
       "      <td>30469</td>\n",
       "      <td>44</td>\n",
       "      <td>27.0</td>\n",
       "      <td>7.0</td>\n",
       "      <td>Otradnoe</td>\n",
       "      <td>5088.0</td>\n",
       "      <td>4</td>\n",
       "      <td>12721.0</td>\n",
       "      <td>4</td>\n",
       "      <td>0</td>\n",
       "      <td>...</td>\n",
       "      <td>1.103579</td>\n",
       "      <td>0.167718</td>\n",
       "      <td>0.349899</td>\n",
       "      <td>1.235066</td>\n",
       "      <td>0.612359</td>\n",
       "      <td>7.482165</td>\n",
       "      <td>4.836787</td>\n",
       "      <td>good</td>\n",
       "      <td>0</td>\n",
       "      <td>7400000</td>\n",
       "    </tr>\n",
       "    <tr>\n",
       "      <th>30467</th>\n",
       "      <td>30470</td>\n",
       "      <td>86</td>\n",
       "      <td>59.0</td>\n",
       "      <td>3.0</td>\n",
       "      <td>Tverskoe</td>\n",
       "      <td>1874.0</td>\n",
       "      <td>4</td>\n",
       "      <td>6772.0</td>\n",
       "      <td>4</td>\n",
       "      <td>1</td>\n",
       "      <td>...</td>\n",
       "      <td>0.069986</td>\n",
       "      <td>0.086552</td>\n",
       "      <td>0.362681</td>\n",
       "      <td>0.850385</td>\n",
       "      <td>0.310021</td>\n",
       "      <td>0.778428</td>\n",
       "      <td>1.450108</td>\n",
       "      <td>poor</td>\n",
       "      <td>0</td>\n",
       "      <td>25000000</td>\n",
       "    </tr>\n",
       "    <tr>\n",
       "      <th>30468</th>\n",
       "      <td>30471</td>\n",
       "      <td>45</td>\n",
       "      <td>NaN</td>\n",
       "      <td>10.0</td>\n",
       "      <td>Poselenie Vnukovskoe</td>\n",
       "      <td>NaN</td>\n",
       "      <td>0</td>\n",
       "      <td>NaN</td>\n",
       "      <td>0</td>\n",
       "      <td>0</td>\n",
       "      <td>...</td>\n",
       "      <td>4.338453</td>\n",
       "      <td>1.339078</td>\n",
       "      <td>1.234235</td>\n",
       "      <td>1.192543</td>\n",
       "      <td>1.186621</td>\n",
       "      <td>13.459593</td>\n",
       "      <td>9.890758</td>\n",
       "      <td>no data</td>\n",
       "      <td>0</td>\n",
       "      <td>6970959</td>\n",
       "    </tr>\n",
       "    <tr>\n",
       "      <th>30469</th>\n",
       "      <td>30472</td>\n",
       "      <td>64</td>\n",
       "      <td>32.0</td>\n",
       "      <td>5.0</td>\n",
       "      <td>Obruchevskoe</td>\n",
       "      <td>2372.0</td>\n",
       "      <td>6</td>\n",
       "      <td>6083.0</td>\n",
       "      <td>8</td>\n",
       "      <td>0</td>\n",
       "      <td>...</td>\n",
       "      <td>1.204798</td>\n",
       "      <td>1.340017</td>\n",
       "      <td>0.130667</td>\n",
       "      <td>1.644053</td>\n",
       "      <td>0.476021</td>\n",
       "      <td>2.088193</td>\n",
       "      <td>4.119706</td>\n",
       "      <td>satisfactory</td>\n",
       "      <td>0</td>\n",
       "      <td>13500000</td>\n",
       "    </tr>\n",
       "    <tr>\n",
       "      <th>30470</th>\n",
       "      <td>30473</td>\n",
       "      <td>43</td>\n",
       "      <td>28.0</td>\n",
       "      <td>1.0</td>\n",
       "      <td>Novogireevo</td>\n",
       "      <td>2215.0</td>\n",
       "      <td>4</td>\n",
       "      <td>5824.0</td>\n",
       "      <td>4</td>\n",
       "      <td>0</td>\n",
       "      <td>...</td>\n",
       "      <td>2.108265</td>\n",
       "      <td>0.825811</td>\n",
       "      <td>0.378950</td>\n",
       "      <td>0.480531</td>\n",
       "      <td>0.867332</td>\n",
       "      <td>0.688707</td>\n",
       "      <td>0.127867</td>\n",
       "      <td>poor</td>\n",
       "      <td>0</td>\n",
       "      <td>5600000</td>\n",
       "    </tr>\n",
       "  </tbody>\n",
       "</table>\n",
       "<p>5 rows × 61 columns</p>\n",
       "</div>"
      ],
      "text/plain": [
       "          id  full_sq  life_sq  floor              sub_area  preschool_quota  \\\n",
       "30466  30469       44     27.0    7.0              Otradnoe           5088.0   \n",
       "30467  30470       86     59.0    3.0              Tverskoe           1874.0   \n",
       "30468  30471       45      NaN   10.0  Poselenie Vnukovskoe              NaN   \n",
       "30469  30472       64     32.0    5.0          Obruchevskoe           2372.0   \n",
       "30470  30473       43     28.0    1.0           Novogireevo           2215.0   \n",
       "\n",
       "       preschool_education_centers_raion  school_quota  \\\n",
       "30466                                  4       12721.0   \n",
       "30467                                  4        6772.0   \n",
       "30468                                  0           NaN   \n",
       "30469                                  6        6083.0   \n",
       "30470                                  4        5824.0   \n",
       "\n",
       "       school_education_centers_raion  school_education_centers_top_20_raion  \\\n",
       "30466                               4                                      0   \n",
       "30467                               4                                      1   \n",
       "30468                               0                                      0   \n",
       "30469                               8                                      0   \n",
       "30470                               4                                      0   \n",
       "\n",
       "       ...  office_km  additional_education_km  preschool_km  big_church_km  \\\n",
       "30466  ...   1.103579                 0.167718      0.349899       1.235066   \n",
       "30467  ...   0.069986                 0.086552      0.362681       0.850385   \n",
       "30468  ...   4.338453                 1.339078      1.234235       1.192543   \n",
       "30469  ...   1.204798                 1.340017      0.130667       1.644053   \n",
       "30470  ...   2.108265                 0.825811      0.378950       0.480531   \n",
       "\n",
       "       church_synagogue_km  theater_km  museum_km       ecology  \\\n",
       "30466             0.612359    7.482165   4.836787          good   \n",
       "30467             0.310021    0.778428   1.450108          poor   \n",
       "30468             1.186621   13.459593   9.890758       no data   \n",
       "30469             0.476021    2.088193   4.119706  satisfactory   \n",
       "30470             0.867332    0.688707   0.127867          poor   \n",
       "\n",
       "      mosque_count_1000 price_doc  \n",
       "30466                 0   7400000  \n",
       "30467                 0  25000000  \n",
       "30468                 0   6970959  \n",
       "30469                 0  13500000  \n",
       "30470                 0   5600000  \n",
       "\n",
       "[5 rows x 61 columns]"
      ]
     },
     "metadata": {},
     "output_type": "display_data"
    }
   ],
   "source": [
    "display(sber_data.tail())"
   ]
  },
  {
   "cell_type": "code",
   "execution_count": 5,
   "id": "30d70746",
   "metadata": {},
   "outputs": [
    {
     "data": {
      "text/plain": [
       "146"
      ]
     },
     "metadata": {},
     "output_type": "display_data"
    }
   ],
   "source": [
    "display(len(sber_data['sub_area'].unique()))"
   ]
  },
  {
   "cell_type": "code",
   "execution_count": 6,
   "id": "35093d40",
   "metadata": {
    "scrolled": true
   },
   "outputs": [
    {
     "data": {
      "text/plain": [
       "array(['Bibirevo', 'Nagatinskij Zaton', \"Tekstil'shhiki\", 'Mitino',\n",
       "       'Basmannoe', 'Nizhegorodskoe', \"Sokol'niki\", 'Koptevo', 'Kuncevo',\n",
       "       'Kosino-Uhtomskoe', 'Zapadnoe Degunino', 'Presnenskoe',\n",
       "       'Lefortovo', \"Mar'ino\", \"Kuz'minki\", 'Nagornoe', \"Gol'janovo\",\n",
       "       'Vnukovo', 'Juzhnoe Tushino', 'Severnoe Tushino',\n",
       "       \"Chertanovo Central'noe\", 'Fili Davydkovo', 'Otradnoe',\n",
       "       'Novo-Peredelkino', 'Bogorodskoe', 'Jaroslavskoe', 'Strogino',\n",
       "       'Hovrino', \"Moskvorech'e-Saburovo\", 'Staroe Krjukovo', 'Ljublino',\n",
       "       'Caricyno', 'Veshnjaki', 'Danilovskoe', 'Preobrazhenskoe',\n",
       "       \"Kon'kovo\", 'Brateevo', 'Vostochnoe Izmajlovo', 'Vyhino-Zhulebino',\n",
       "       'Donskoe', 'Novogireevo', 'Juzhnoe Butovo', 'Sokol', 'Kurkino',\n",
       "       'Izmajlovo', 'Severnoe Medvedkovo', 'Rostokino',\n",
       "       'Orehovo-Borisovo Severnoe', 'Ochakovo-Matveevskoe', 'Taganskoe',\n",
       "       'Dmitrovskoe', 'Orehovo-Borisovo Juzhnoe', 'Teplyj Stan',\n",
       "       'Babushkinskoe', 'Pokrovskoe Streshnevo', 'Obruchevskoe',\n",
       "       'Filevskij Park', 'Troparevo-Nikulino', 'Severnoe Butovo',\n",
       "       'Hamovniki', 'Solncevo', 'Dorogomilovo', 'Timirjazevskoe',\n",
       "       'Lianozovo', 'Pechatniki', 'Krjukovo', 'Jasenevo',\n",
       "       'Chertanovo Severnoe', 'Rjazanskij', 'Silino', 'Ivanovskoe',\n",
       "       'Golovinskoe', 'Novokosino', 'Nagatino-Sadovniki',\n",
       "       'Birjulevo Vostochnoe', 'Severnoe Izmajlovo', 'Sokolinaja Gora',\n",
       "       'Vostochnoe Degunino', 'Prospekt Vernadskogo', 'Savelki',\n",
       "       'Ajeroport', 'Vojkovskoe', 'Beskudnikovskoe', 'Krylatskoe',\n",
       "       'Juzhnoportovoe', 'Perovo', 'Akademicheskoe', 'Horoshevo-Mnevniki',\n",
       "       'Shhukino', 'Kapotnja', 'Horoshevskoe', 'Marfino',\n",
       "       'Chertanovo Juzhnoe', 'Savelovskoe', 'Birjulevo Zapadnoe',\n",
       "       'Nekrasovka', 'Cheremushki', 'Sviblovo', 'Alekseevskoe',\n",
       "       \"Krasnosel'skoe\", 'Kotlovka', 'Zjuzino', 'Ostankinskoe',\n",
       "       'Tverskoe', 'Losinoostrovskoe', 'Butyrskoe', 'Matushkino',\n",
       "       'Metrogorodok', 'Juzhnoe Medvedkovo', 'Lomonosovskoe', 'Jakimanka',\n",
       "       'Mozhajskoe', 'Levoberezhnoe', \"Mar'ina Roshha\", 'Gagarinskoe',\n",
       "       \"Zamoskvorech'e\", \"Altuf'evskoe\", 'Ramenki', 'Zjablikovo',\n",
       "       'Meshhanskoe', 'Severnoe', 'Begovoe', 'Arbat',\n",
       "       'Poselenie Sosenskoe', 'Poselenie Moskovskij',\n",
       "       'Poselenie Pervomajskoe', 'Poselenie Desjonovskoe',\n",
       "       'Poselenie Voskresenskoe', 'Poselenie Mosrentgen',\n",
       "       'Troickij okrug', 'Poselenie Shherbinka',\n",
       "       'Poselenie Filimonkovskoe', 'Poselenie Vnukovskoe',\n",
       "       'Poselenie Marushkinskoe', 'Poselenie Shhapovskoe',\n",
       "       'Poselenie Rjazanovskoe', 'Poselenie Kokoshkino', 'Vostochnoe',\n",
       "       'Poselenie Krasnopahorskoe', 'Poselenie Novofedorovskoe',\n",
       "       'Poselenie Voronovskoe', 'Poselenie Klenovskoe',\n",
       "       'Poselenie Rogovskoe', 'Poselenie Kievskij', 'Molzhaninovskoe',\n",
       "       'Poselenie Mihajlovo-Jarcevskoe'], dtype=object)"
      ]
     },
     "metadata": {},
     "output_type": "display_data"
    }
   ],
   "source": [
    "display(sber_data['sub_area'].unique())"
   ]
  },
  {
   "cell_type": "code",
   "execution_count": 7,
   "id": "0a346a08",
   "metadata": {},
   "outputs": [
    {
     "data": {
      "text/plain": [
       "111111112"
      ]
     },
     "metadata": {},
     "output_type": "display_data"
    }
   ],
   "source": [
    "display(sber_data['price_doc'].max())"
   ]
  },
  {
   "cell_type": "code",
   "execution_count": 8,
   "id": "9bdfb565",
   "metadata": {},
   "outputs": [
    {
     "data": {
      "text/plain": [
       "<AxesSubplot:xlabel='price_doc', ylabel='ecology'>"
      ]
     },
     "execution_count": 8,
     "metadata": {},
     "output_type": "execute_result"
    },
    {
     "data": {
      "image/png": "[encoded data removed]",
      "text/plain": [
       "<Figure size 432x288 with 1 Axes>"
      ]
     },
     "metadata": {
      "needs_background": "light"
     },
     "output_type": "display_data"
    }
   ],
   "source": [
    "sns.boxplot(x=sber_data['price_doc'], y=sber_data['ecology'])"
   ]
  },
  {
   "cell_type": "code",
   "execution_count": 9,
   "id": "7e7217d6",
   "metadata": {},
   "outputs": [
    {
     "data": {
      "image/png": "[encoded data removed]",
      "text/plain": [
       "<Figure size 576x288 with 1 Axes>"
      ]
     },
     "metadata": {
      "needs_background": "light"
     },
     "output_type": "display_data"
    }
   ],
   "source": [
    "fig = plt.figure(figsize=(8, 4))\n",
    "axes = fig.add_axes([0, 0, 1, 1])\n",
    "axes.scatter(\n",
    "    x=sber_data['price_doc'], \n",
    "    y=sber_data['kremlin_km'], \n",
    "    s=10,\n",
    "    marker='o',\n",
    "    c = 'blue'\n",
    ");"
   ]
  },
  {
   "cell_type": "code",
   "execution_count": 10,
   "id": "36d57517",
   "metadata": {},
   "outputs": [
    {
     "data": {
      "text/html": [
       "<div>\n",
       "<style scoped>\n",
       "    .dataframe tbody tr th:only-of-type {\n",
       "        vertical-align: middle;\n",
       "    }\n",
       "\n",
       "    .dataframe tbody tr th {\n",
       "        vertical-align: top;\n",
       "    }\n",
       "\n",
       "    .dataframe thead th {\n",
       "        text-align: right;\n",
       "    }\n",
       "</style>\n",
       "<table border=\"1\" class=\"dataframe\">\n",
       "  <thead>\n",
       "    <tr style=\"text-align: right;\">\n",
       "      <th></th>\n",
       "      <th>id</th>\n",
       "      <th>full_sq</th>\n",
       "      <th>life_sq</th>\n",
       "      <th>floor</th>\n",
       "      <th>sub_area</th>\n",
       "      <th>preschool_quota</th>\n",
       "      <th>preschool_education_centers_raion</th>\n",
       "      <th>school_quota</th>\n",
       "      <th>school_education_centers_raion</th>\n",
       "      <th>school_education_centers_top_20_raion</th>\n",
       "      <th>...</th>\n",
       "      <th>office_km</th>\n",
       "      <th>additional_education_km</th>\n",
       "      <th>preschool_km</th>\n",
       "      <th>big_church_km</th>\n",
       "      <th>church_synagogue_km</th>\n",
       "      <th>theater_km</th>\n",
       "      <th>museum_km</th>\n",
       "      <th>ecology</th>\n",
       "      <th>mosque_count_1000</th>\n",
       "      <th>price_doc</th>\n",
       "    </tr>\n",
       "  </thead>\n",
       "  <tbody>\n",
       "    <tr>\n",
       "      <th>30466</th>\n",
       "      <td>False</td>\n",
       "      <td>False</td>\n",
       "      <td>False</td>\n",
       "      <td>False</td>\n",
       "      <td>False</td>\n",
       "      <td>False</td>\n",
       "      <td>False</td>\n",
       "      <td>False</td>\n",
       "      <td>False</td>\n",
       "      <td>False</td>\n",
       "      <td>...</td>\n",
       "      <td>False</td>\n",
       "      <td>False</td>\n",
       "      <td>False</td>\n",
       "      <td>False</td>\n",
       "      <td>False</td>\n",
       "      <td>False</td>\n",
       "      <td>False</td>\n",
       "      <td>False</td>\n",
       "      <td>False</td>\n",
       "      <td>False</td>\n",
       "    </tr>\n",
       "    <tr>\n",
       "      <th>30467</th>\n",
       "      <td>False</td>\n",
       "      <td>False</td>\n",
       "      <td>False</td>\n",
       "      <td>False</td>\n",
       "      <td>False</td>\n",
       "      <td>False</td>\n",
       "      <td>False</td>\n",
       "      <td>False</td>\n",
       "      <td>False</td>\n",
       "      <td>False</td>\n",
       "      <td>...</td>\n",
       "      <td>False</td>\n",
       "      <td>False</td>\n",
       "      <td>False</td>\n",
       "      <td>False</td>\n",
       "      <td>False</td>\n",
       "      <td>False</td>\n",
       "      <td>False</td>\n",
       "      <td>False</td>\n",
       "      <td>False</td>\n",
       "      <td>False</td>\n",
       "    </tr>\n",
       "    <tr>\n",
       "      <th>30468</th>\n",
       "      <td>False</td>\n",
       "      <td>False</td>\n",
       "      <td>True</td>\n",
       "      <td>False</td>\n",
       "      <td>False</td>\n",
       "      <td>True</td>\n",
       "      <td>False</td>\n",
       "      <td>True</td>\n",
       "      <td>False</td>\n",
       "      <td>False</td>\n",
       "      <td>...</td>\n",
       "      <td>False</td>\n",
       "      <td>False</td>\n",
       "      <td>False</td>\n",
       "      <td>False</td>\n",
       "      <td>False</td>\n",
       "      <td>False</td>\n",
       "      <td>False</td>\n",
       "      <td>False</td>\n",
       "      <td>False</td>\n",
       "      <td>False</td>\n",
       "    </tr>\n",
       "    <tr>\n",
       "      <th>30469</th>\n",
       "      <td>False</td>\n",
       "      <td>False</td>\n",
       "      <td>False</td>\n",
       "      <td>False</td>\n",
       "      <td>False</td>\n",
       "      <td>False</td>\n",
       "      <td>False</td>\n",
       "      <td>False</td>\n",
       "      <td>False</td>\n",
       "      <td>False</td>\n",
       "      <td>...</td>\n",
       "      <td>False</td>\n",
       "      <td>False</td>\n",
       "      <td>False</td>\n",
       "      <td>False</td>\n",
       "      <td>False</td>\n",
       "      <td>False</td>\n",
       "      <td>False</td>\n",
       "      <td>False</td>\n",
       "      <td>False</td>\n",
       "      <td>False</td>\n",
       "    </tr>\n",
       "    <tr>\n",
       "      <th>30470</th>\n",
       "      <td>False</td>\n",
       "      <td>False</td>\n",
       "      <td>False</td>\n",
       "      <td>False</td>\n",
       "      <td>False</td>\n",
       "      <td>False</td>\n",
       "      <td>False</td>\n",
       "      <td>False</td>\n",
       "      <td>False</td>\n",
       "      <td>False</td>\n",
       "      <td>...</td>\n",
       "      <td>False</td>\n",
       "      <td>False</td>\n",
       "      <td>False</td>\n",
       "      <td>False</td>\n",
       "      <td>False</td>\n",
       "      <td>False</td>\n",
       "      <td>False</td>\n",
       "      <td>False</td>\n",
       "      <td>False</td>\n",
       "      <td>False</td>\n",
       "    </tr>\n",
       "  </tbody>\n",
       "</table>\n",
       "<p>5 rows × 61 columns</p>\n",
       "</div>"
      ],
      "text/plain": [
       "          id  full_sq  life_sq  floor  sub_area  preschool_quota  \\\n",
       "30466  False    False    False  False     False            False   \n",
       "30467  False    False    False  False     False            False   \n",
       "30468  False    False     True  False     False             True   \n",
       "30469  False    False    False  False     False            False   \n",
       "30470  False    False    False  False     False            False   \n",
       "\n",
       "       preschool_education_centers_raion  school_quota  \\\n",
       "30466                              False         False   \n",
       "30467                              False         False   \n",
       "30468                              False          True   \n",
       "30469                              False         False   \n",
       "30470                              False         False   \n",
       "\n",
       "       school_education_centers_raion  school_education_centers_top_20_raion  \\\n",
       "30466                           False                                  False   \n",
       "30467                           False                                  False   \n",
       "30468                           False                                  False   \n",
       "30469                           False                                  False   \n",
       "30470                           False                                  False   \n",
       "\n",
       "       ...  office_km  additional_education_km  preschool_km  big_church_km  \\\n",
       "30466  ...      False                    False         False          False   \n",
       "30467  ...      False                    False         False          False   \n",
       "30468  ...      False                    False         False          False   \n",
       "30469  ...      False                    False         False          False   \n",
       "30470  ...      False                    False         False          False   \n",
       "\n",
       "       church_synagogue_km  theater_km  museum_km  ecology  mosque_count_1000  \\\n",
       "30466                False       False      False    False              False   \n",
       "30467                False       False      False    False              False   \n",
       "30468                False       False      False    False              False   \n",
       "30469                False       False      False    False              False   \n",
       "30470                False       False      False    False              False   \n",
       "\n",
       "       price_doc  \n",
       "30466      False  \n",
       "30467      False  \n",
       "30468      False  \n",
       "30469      False  \n",
       "30470      False  \n",
       "\n",
       "[5 rows x 61 columns]"
      ]
     },
     "metadata": {},
     "output_type": "display_data"
    }
   ],
   "source": [
    "display(sber_data.isnull().tail())"
   ]
  },
  {
   "cell_type": "code",
   "execution_count": 11,
   "id": "ccb68acf",
   "metadata": {},
   "outputs": [
    {
     "data": {
      "text/plain": [
       "hospital_beds_raion          47.392603\n",
       "preschool_quota              21.948738\n",
       "school_quota                 21.938893\n",
       "life_sq                      20.947786\n",
       "floor                         0.548062\n",
       "metro_min_walk                0.082045\n",
       "metro_km_walk                 0.082045\n",
       "railroad_station_walk_km      0.082045\n",
       "railroad_station_walk_min     0.082045\n",
       "dtype: float64"
      ]
     },
     "metadata": {},
     "output_type": "display_data"
    }
   ],
   "source": [
    "cols_null_persent = sber_data.isnull().mean() * 100\n",
    "cols_with_null = cols_null_persent[cols_null_persent>0].sort_values(ascending=False)\n",
    "display(cols_with_null)"
   ]
  },
  {
   "cell_type": "code",
   "execution_count": 12,
   "id": "97778bc2",
   "metadata": {},
   "outputs": [
    {
     "data": {
      "image/png": "[encoded data removed]",
      "text/plain": [
       "<Figure size 720x288 with 1 Axes>"
      ]
     },
     "metadata": {
      "needs_background": "light"
     },
     "output_type": "display_data"
    }
   ],
   "source": [
    "cols_with_null.plot(\n",
    "    kind='bar',\n",
    "    figsize=(10, 4),\n",
    "    title='Распределение пропусков в данных'\n",
    ");"
   ]
  },
  {
   "cell_type": "code",
   "execution_count": 13,
   "id": "b10f3ba6",
   "metadata": {},
   "outputs": [
    {
     "data": {
      "image/png": "[encoded data removed]",
      "text/plain": [
       "<Figure size 720x288 with 2 Axes>"
      ]
     },
     "metadata": {
      "needs_background": "light"
     },
     "output_type": "display_data"
    }
   ],
   "source": [
    "colors = ['blue', 'yellow'] \n",
    "fig = plt.figure(figsize=(10, 4))\n",
    "cols = cols_with_null.index\n",
    "ax = sns.heatmap(\n",
    "    sber_data[cols].isnull(),\n",
    "    cmap=sns.color_palette(colors),\n",
    ")"
   ]
  },
  {
   "cell_type": "code",
   "execution_count": 14,
   "id": "e31870e5",
   "metadata": {},
   "outputs": [
    {
     "data": {
      "text/plain": [
       "id                                       0.0\n",
       "full_sq                                  0.0\n",
       "life_sq                                  0.0\n",
       "floor                                    0.0\n",
       "sub_area                                 0.0\n",
       "preschool_quota                          0.0\n",
       "preschool_education_centers_raion        0.0\n",
       "school_quota                             0.0\n",
       "school_education_centers_raion           0.0\n",
       "school_education_centers_top_20_raion    0.0\n",
       "healthcare_centers_raion                 0.0\n",
       "university_top_20_raion                  0.0\n",
       "sport_objects_raion                      0.0\n",
       "additional_education_raion               0.0\n",
       "culture_objects_top_25_raion             0.0\n",
       "shopping_centers_raion                   0.0\n",
       "office_raion                             0.0\n",
       "oil_chemistry_raion                      0.0\n",
       "railroad_terminal_raion                  0.0\n",
       "nuclear_reactor_raion                    0.0\n",
       "metro_min_avto                           0.0\n",
       "metro_km_avto                            0.0\n",
       "metro_min_walk                           0.0\n",
       "metro_km_walk                            0.0\n",
       "kindergarten_km                          0.0\n",
       "school_km                                0.0\n",
       "park_km                                  0.0\n",
       "green_zone_km                            0.0\n",
       "industrial_km                            0.0\n",
       "railroad_station_walk_km                 0.0\n",
       "railroad_station_walk_min                0.0\n",
       "public_transport_station_km              0.0\n",
       "public_transport_station_min_walk        0.0\n",
       "mkad_km                                  0.0\n",
       "ttk_km                                   0.0\n",
       "sadovoe_km                               0.0\n",
       "bulvar_ring_km                           0.0\n",
       "kremlin_km                               0.0\n",
       "big_road1_1line                          0.0\n",
       "big_market_km                            0.0\n",
       "market_shop_km                           0.0\n",
       "fitness_km                               0.0\n",
       "swim_pool_km                             0.0\n",
       "ice_rink_km                              0.0\n",
       "stadium_km                               0.0\n",
       "basketball_km                            0.0\n",
       "hospice_morgue_km                        0.0\n",
       "university_km                            0.0\n",
       "workplaces_km                            0.0\n",
       "shopping_centers_km                      0.0\n",
       "office_km                                0.0\n",
       "additional_education_km                  0.0\n",
       "preschool_km                             0.0\n",
       "big_church_km                            0.0\n",
       "church_synagogue_km                      0.0\n",
       "theater_km                               0.0\n",
       "museum_km                                0.0\n",
       "ecology                                  0.0\n",
       "mosque_count_1000                        0.0\n",
       "price_doc                                0.0\n",
       "dtype: float64"
      ]
     },
     "execution_count": 14,
     "metadata": {},
     "output_type": "execute_result"
    }
   ],
   "source": [
    "#создаем копию исходной таблицы\n",
    "drop_data = sber_data.copy()\n",
    "#задаем минимальный порог: вычисляем 70% от числа строк\n",
    "thresh = drop_data.shape[0]*0.7\n",
    "#удаляем столбцы, в которых более 30% (100-70) пропусков\n",
    "drop_data = drop_data.dropna(how='any', thresh=thresh, axis=1)\n",
    "#удаляем записи, в которых есть хотя бы 1 пропуск\n",
    "drop_data = drop_data.dropna(how='any', axis=0)\n",
    "#отображаем результирующую долю пропусков\n",
    "drop_data.isnull().mean()"
   ]
  },
  {
   "cell_type": "code",
   "execution_count": 15,
   "id": "eb0d5b9b",
   "metadata": {},
   "outputs": [
    {
     "name": "stdout",
     "output_type": "stream",
     "text": [
      "(20888, 60)\n"
     ]
    }
   ],
   "source": [
    "print(drop_data.shape)"
   ]
  },
  {
   "cell_type": "code",
   "execution_count": 16,
   "id": "06605a9b",
   "metadata": {},
   "outputs": [
    {
     "data": {
      "image/png": "[encoded data removed]",
      "text/plain": [
       "<Figure size 1440x576 with 9 Axes>"
      ]
     },
     "metadata": {
      "needs_background": "light"
     },
     "output_type": "display_data"
    }
   ],
   "source": [
    "cols = cols_with_null.index\n",
    "sber_data[cols].hist(figsize=(20, 8));"
   ]
  },
  {
   "cell_type": "code",
   "execution_count": 17,
   "id": "955dda2f",
   "metadata": {},
   "outputs": [
    {
     "data": {
      "text/plain": [
       "id                   0.0\n",
       "full_sq              0.0\n",
       "life_sq              0.0\n",
       "floor                0.0\n",
       "sub_area             0.0\n",
       "                    ... \n",
       "theater_km           0.0\n",
       "museum_km            0.0\n",
       "ecology              0.0\n",
       "mosque_count_1000    0.0\n",
       "price_doc            0.0\n",
       "Length: 61, dtype: float64"
      ]
     },
     "execution_count": 17,
     "metadata": {},
     "output_type": "execute_result"
    }
   ],
   "source": [
    "#создаем копию исходной таблицы\n",
    "fill_data = sber_data.copy()\n",
    "#создаем словарь имя столбца: число(признак) на который надо заменить пропуски\n",
    "values = {\n",
    "    'life_sq': fill_data['full_sq'],\n",
    "    'metro_min_walk': fill_data['metro_min_walk'].median(),\n",
    "    'metro_km_walk': fill_data['metro_km_walk'].median(),\n",
    "    'railroad_station_walk_km': fill_data['railroad_station_walk_km'].median(),\n",
    "    'railroad_station_walk_min': fill_data['railroad_station_walk_min'].median(),\n",
    "    'hospital_beds_raion': fill_data['hospital_beds_raion'].mode()[0],\n",
    "    'preschool_quota': fill_data['preschool_quota'].mode()[0],\n",
    "    'school_quota': fill_data['school_quota'].mode()[0],\n",
    "    'floor': fill_data['floor'].mode()[0]\n",
    "}\n",
    "#заполняем пропуски в соответствии с заявленным словарем\n",
    "fill_data = fill_data.fillna(values)\n",
    "#выводим результирующую долю пропусков\n",
    "fill_data.isnull().mean()"
   ]
  },
  {
   "cell_type": "code",
   "execution_count": 18,
   "id": "19a98a9c",
   "metadata": {},
   "outputs": [
    {
     "data": {
      "image/png": "[encoded data removed]",
      "text/plain": [
       "<Figure size 1440x576 with 9 Axes>"
      ]
     },
     "metadata": {
      "needs_background": "light"
     },
     "output_type": "display_data"
    }
   ],
   "source": [
    "cols = cols_with_null.index\n",
    "fill_data[cols].hist(figsize=(20, 8));"
   ]
  },
  {
   "cell_type": "code",
   "execution_count": 19,
   "id": "358dcec6",
   "metadata": {},
   "outputs": [
    {
     "data": {
      "text/plain": [
       "id                                       0.0\n",
       "full_sq                                  0.0\n",
       "life_sq                                  0.0\n",
       "floor                                    0.0\n",
       "sub_area                                 0.0\n",
       "preschool_quota                          0.0\n",
       "preschool_education_centers_raion        0.0\n",
       "school_quota                             0.0\n",
       "school_education_centers_raion           0.0\n",
       "school_education_centers_top_20_raion    0.0\n",
       "healthcare_centers_raion                 0.0\n",
       "university_top_20_raion                  0.0\n",
       "sport_objects_raion                      0.0\n",
       "additional_education_raion               0.0\n",
       "culture_objects_top_25_raion             0.0\n",
       "shopping_centers_raion                   0.0\n",
       "office_raion                             0.0\n",
       "oil_chemistry_raion                      0.0\n",
       "railroad_terminal_raion                  0.0\n",
       "nuclear_reactor_raion                    0.0\n",
       "metro_min_avto                           0.0\n",
       "metro_km_avto                            0.0\n",
       "metro_min_walk                           0.0\n",
       "metro_km_walk                            0.0\n",
       "kindergarten_km                          0.0\n",
       "school_km                                0.0\n",
       "park_km                                  0.0\n",
       "green_zone_km                            0.0\n",
       "industrial_km                            0.0\n",
       "railroad_station_walk_km                 0.0\n",
       "railroad_station_walk_min                0.0\n",
       "public_transport_station_km              0.0\n",
       "public_transport_station_min_walk        0.0\n",
       "mkad_km                                  0.0\n",
       "ttk_km                                   0.0\n",
       "sadovoe_km                               0.0\n",
       "bulvar_ring_km                           0.0\n",
       "kremlin_km                               0.0\n",
       "big_road1_1line                          0.0\n",
       "big_market_km                            0.0\n",
       "market_shop_km                           0.0\n",
       "fitness_km                               0.0\n",
       "swim_pool_km                             0.0\n",
       "ice_rink_km                              0.0\n",
       "stadium_km                               0.0\n",
       "basketball_km                            0.0\n",
       "hospice_morgue_km                        0.0\n",
       "university_km                            0.0\n",
       "workplaces_km                            0.0\n",
       "shopping_centers_km                      0.0\n",
       "office_km                                0.0\n",
       "additional_education_km                  0.0\n",
       "preschool_km                             0.0\n",
       "big_church_km                            0.0\n",
       "church_synagogue_km                      0.0\n",
       "theater_km                               0.0\n",
       "museum_km                                0.0\n",
       "ecology                                  0.0\n",
       "mosque_count_1000                        0.0\n",
       "price_doc                                0.0\n",
       "dtype: float64"
      ]
     },
     "metadata": {},
     "output_type": "display_data"
    }
   ],
   "source": [
    "#создаём копию исходной таблицы\n",
    "combine_data = sber_data.copy()\n",
    "\n",
    "#отбрасываем столбцы с числом пропусков более 30% (100-70)\n",
    "n = combine_data.shape[0] #число строк в таблице\n",
    "thresh = n*0.7\n",
    "combine_data = combine_data.dropna(how='any', thresh=thresh, axis=1)\n",
    "\n",
    "#отбрасываем строки с числом пропусков более 2 в строке\n",
    "m = combine_data.shape[1] #число признаков после удаления столбцов\n",
    "combine_data = combine_data.dropna(how='any', thresh=m-2, axis=0)\n",
    "\n",
    "#создаём словарь 'имя_столбца': число (признак), на который надо заменить пропуски \n",
    "values = {\n",
    "    'life_sq': combine_data['full_sq'],\n",
    "    'metro_min_walk': combine_data['metro_min_walk'].median(),\n",
    "    'metro_km_walk': combine_data['metro_km_walk'].median(),\n",
    "    'railroad_station_walk_km': combine_data['railroad_station_walk_km'].median(),\n",
    "    'railroad_station_walk_min': combine_data['railroad_station_walk_min'].median(),\n",
    "    'preschool_quota': combine_data['preschool_quota'].mode()[0],\n",
    "    'school_quota': combine_data['school_quota'].mode()[0],\n",
    "    'floor': combine_data['floor'].mode()[0]\n",
    "}\n",
    "#заполняем оставшиеся записи константами в соответствии со словарем values\n",
    "combine_data = combine_data.fillna(values)\n",
    "#выводим результирующую долю пропусков\n",
    "display(combine_data.isnull().mean())"
   ]
  },
  {
   "cell_type": "code",
   "execution_count": 20,
   "id": "88097bb6",
   "metadata": {},
   "outputs": [
    {
     "name": "stdout",
     "output_type": "stream",
     "text": [
      "(26800, 60)\n"
     ]
    }
   ],
   "source": [
    "print(combine_data.shape)"
   ]
  },
  {
   "cell_type": "markdown",
   "id": "b07cae44",
   "metadata": {},
   "source": [
    "Найдём число квартир с нулевой жилой площадью:"
   ]
  },
  {
   "cell_type": "code",
   "execution_count": 21,
   "id": "0d3aa2fe",
   "metadata": {},
   "outputs": [
    {
     "data": {
      "text/plain": [
       "count    24088.000000\n",
       "mean        34.403271\n",
       "std         52.285733\n",
       "min          0.000000\n",
       "25%         20.000000\n",
       "50%         30.000000\n",
       "75%         43.000000\n",
       "max       7478.000000\n",
       "Name: life_sq, dtype: float64"
      ]
     },
     "execution_count": 21,
     "metadata": {},
     "output_type": "execute_result"
    }
   ],
   "source": [
    "sber_data['life_sq'].describe()"
   ]
  },
  {
   "cell_type": "code",
   "execution_count": 22,
   "id": "34b6f9fc",
   "metadata": {},
   "outputs": [
    {
     "name": "stdout",
     "output_type": "stream",
     "text": [
      "45\n"
     ]
    }
   ],
   "source": [
    "print(sber_data[sber_data['life_sq'] == 0].shape[0])"
   ]
  },
  {
   "cell_type": "code",
   "execution_count": 23,
   "id": "e423cada",
   "metadata": {},
   "outputs": [
    {
     "data": {
      "text/html": [
       "<div>\n",
       "<style scoped>\n",
       "    .dataframe tbody tr th:only-of-type {\n",
       "        vertical-align: middle;\n",
       "    }\n",
       "\n",
       "    .dataframe tbody tr th {\n",
       "        vertical-align: top;\n",
       "    }\n",
       "\n",
       "    .dataframe thead th {\n",
       "        text-align: right;\n",
       "    }\n",
       "</style>\n",
       "<table border=\"1\" class=\"dataframe\">\n",
       "  <thead>\n",
       "    <tr style=\"text-align: right;\">\n",
       "      <th></th>\n",
       "      <th>id</th>\n",
       "      <th>full_sq</th>\n",
       "      <th>life_sq</th>\n",
       "      <th>floor</th>\n",
       "      <th>sub_area</th>\n",
       "      <th>preschool_quota</th>\n",
       "      <th>preschool_education_centers_raion</th>\n",
       "      <th>school_quota</th>\n",
       "      <th>school_education_centers_raion</th>\n",
       "      <th>school_education_centers_top_20_raion</th>\n",
       "      <th>...</th>\n",
       "      <th>office_km</th>\n",
       "      <th>additional_education_km</th>\n",
       "      <th>preschool_km</th>\n",
       "      <th>big_church_km</th>\n",
       "      <th>church_synagogue_km</th>\n",
       "      <th>theater_km</th>\n",
       "      <th>museum_km</th>\n",
       "      <th>ecology</th>\n",
       "      <th>mosque_count_1000</th>\n",
       "      <th>price_doc</th>\n",
       "    </tr>\n",
       "  </thead>\n",
       "  <tbody>\n",
       "    <tr>\n",
       "      <th>13546</th>\n",
       "      <td>13549</td>\n",
       "      <td>79</td>\n",
       "      <td>7478.0</td>\n",
       "      <td>8.0</td>\n",
       "      <td>Poselenie Voskresenskoe</td>\n",
       "      <td>NaN</td>\n",
       "      <td>0</td>\n",
       "      <td>NaN</td>\n",
       "      <td>0</td>\n",
       "      <td>0</td>\n",
       "      <td>...</td>\n",
       "      <td>5.072389</td>\n",
       "      <td>1.210613</td>\n",
       "      <td>0.826052</td>\n",
       "      <td>1.582378</td>\n",
       "      <td>0.756119</td>\n",
       "      <td>21.472421</td>\n",
       "      <td>14.917332</td>\n",
       "      <td>no data</td>\n",
       "      <td>0</td>\n",
       "      <td>7705000</td>\n",
       "    </tr>\n",
       "  </tbody>\n",
       "</table>\n",
       "<p>1 rows × 61 columns</p>\n",
       "</div>"
      ],
      "text/plain": [
       "          id  full_sq  life_sq  floor                 sub_area  \\\n",
       "13546  13549       79   7478.0    8.0  Poselenie Voskresenskoe   \n",
       "\n",
       "       preschool_quota  preschool_education_centers_raion  school_quota  \\\n",
       "13546              NaN                                  0           NaN   \n",
       "\n",
       "       school_education_centers_raion  school_education_centers_top_20_raion  \\\n",
       "13546                               0                                      0   \n",
       "\n",
       "       ...  office_km  additional_education_km  preschool_km  big_church_km  \\\n",
       "13546  ...   5.072389                 1.210613      0.826052       1.582378   \n",
       "\n",
       "       church_synagogue_km  theater_km  museum_km  ecology mosque_count_1000  \\\n",
       "13546             0.756119   21.472421  14.917332  no data                 0   \n",
       "\n",
       "      price_doc  \n",
       "13546   7705000  \n",
       "\n",
       "[1 rows x 61 columns]"
      ]
     },
     "metadata": {},
     "output_type": "display_data"
    }
   ],
   "source": [
    "display(sber_data[sber_data['life_sq'] > 7000])"
   ]
  },
  {
   "cell_type": "code",
   "execution_count": 24,
   "id": "48d5c171",
   "metadata": {},
   "outputs": [
    {
     "name": "stdout",
     "output_type": "stream",
     "text": [
      "37\n"
     ]
    }
   ],
   "source": [
    "outliers = sber_data[sber_data['life_sq'] > sber_data['full_sq']]\n",
    "print(outliers.shape[0])"
   ]
  },
  {
   "cell_type": "code",
   "execution_count": 25,
   "id": "2bac7ca9",
   "metadata": {},
   "outputs": [
    {
     "name": "stdout",
     "output_type": "stream",
     "text": [
      "Результирующее число записей: 30434\n"
     ]
    }
   ],
   "source": [
    "cleaned = sber_data.drop(outliers.index, axis=0)\n",
    "print(f'Результирующее число записей: {cleaned.shape[0]}')"
   ]
  },
  {
   "cell_type": "code",
   "execution_count": 26,
   "id": "5629d802",
   "metadata": {},
   "outputs": [
    {
     "data": {
      "text/plain": [
       "count    30304.000000\n",
       "mean         7.670803\n",
       "std          5.319989\n",
       "min          0.000000\n",
       "25%          3.000000\n",
       "50%          6.500000\n",
       "75%         11.000000\n",
       "max         77.000000\n",
       "Name: floor, dtype: float64"
      ]
     },
     "metadata": {},
     "output_type": "display_data"
    }
   ],
   "source": [
    "display(sber_data['floor'].describe())"
   ]
  },
  {
   "cell_type": "code",
   "execution_count": 27,
   "id": "a1930afe",
   "metadata": {},
   "outputs": [
    {
     "data": {
      "text/html": [
       "<div>\n",
       "<style scoped>\n",
       "    .dataframe tbody tr th:only-of-type {\n",
       "        vertical-align: middle;\n",
       "    }\n",
       "\n",
       "    .dataframe tbody tr th {\n",
       "        vertical-align: top;\n",
       "    }\n",
       "\n",
       "    .dataframe thead th {\n",
       "        text-align: right;\n",
       "    }\n",
       "</style>\n",
       "<table border=\"1\" class=\"dataframe\">\n",
       "  <thead>\n",
       "    <tr style=\"text-align: right;\">\n",
       "      <th></th>\n",
       "      <th>id</th>\n",
       "      <th>full_sq</th>\n",
       "      <th>life_sq</th>\n",
       "      <th>floor</th>\n",
       "      <th>sub_area</th>\n",
       "      <th>preschool_quota</th>\n",
       "      <th>preschool_education_centers_raion</th>\n",
       "      <th>school_quota</th>\n",
       "      <th>school_education_centers_raion</th>\n",
       "      <th>school_education_centers_top_20_raion</th>\n",
       "      <th>...</th>\n",
       "      <th>office_km</th>\n",
       "      <th>additional_education_km</th>\n",
       "      <th>preschool_km</th>\n",
       "      <th>big_church_km</th>\n",
       "      <th>church_synagogue_km</th>\n",
       "      <th>theater_km</th>\n",
       "      <th>museum_km</th>\n",
       "      <th>ecology</th>\n",
       "      <th>mosque_count_1000</th>\n",
       "      <th>price_doc</th>\n",
       "    </tr>\n",
       "  </thead>\n",
       "  <tbody>\n",
       "    <tr>\n",
       "      <th>23584</th>\n",
       "      <td>23587</td>\n",
       "      <td>57</td>\n",
       "      <td>33.0</td>\n",
       "      <td>77.0</td>\n",
       "      <td>Lomonosovskoe</td>\n",
       "      <td>3091.0</td>\n",
       "      <td>5</td>\n",
       "      <td>8359.0</td>\n",
       "      <td>7</td>\n",
       "      <td>1</td>\n",
       "      <td>...</td>\n",
       "      <td>0.310557</td>\n",
       "      <td>0.731683</td>\n",
       "      <td>0.489763</td>\n",
       "      <td>0.86354</td>\n",
       "      <td>0.863266</td>\n",
       "      <td>2.920671</td>\n",
       "      <td>2.757058</td>\n",
       "      <td>satisfactory</td>\n",
       "      <td>0</td>\n",
       "      <td>13700000</td>\n",
       "    </tr>\n",
       "  </tbody>\n",
       "</table>\n",
       "<p>1 rows × 61 columns</p>\n",
       "</div>"
      ],
      "text/plain": [
       "          id  full_sq  life_sq  floor       sub_area  preschool_quota  \\\n",
       "23584  23587       57     33.0   77.0  Lomonosovskoe           3091.0   \n",
       "\n",
       "       preschool_education_centers_raion  school_quota  \\\n",
       "23584                                  5        8359.0   \n",
       "\n",
       "       school_education_centers_raion  school_education_centers_top_20_raion  \\\n",
       "23584                               7                                      1   \n",
       "\n",
       "       ...  office_km  additional_education_km  preschool_km  big_church_km  \\\n",
       "23584  ...   0.310557                 0.731683      0.489763        0.86354   \n",
       "\n",
       "       church_synagogue_km  theater_km  museum_km       ecology  \\\n",
       "23584             0.863266    2.920671   2.757058  satisfactory   \n",
       "\n",
       "      mosque_count_1000 price_doc  \n",
       "23584                 0  13700000  \n",
       "\n",
       "[1 rows x 61 columns]"
      ]
     },
     "metadata": {},
     "output_type": "display_data"
    }
   ],
   "source": [
    "display(sber_data[sber_data['floor']> 50])"
   ]
  },
  {
   "cell_type": "code",
   "execution_count": 28,
   "id": "60796707",
   "metadata": {},
   "outputs": [
    {
     "data": {
      "image/png": "[encoded data removed]",
      "text/plain": [
       "<Figure size 1080x288 with 2 Axes>"
      ]
     },
     "metadata": {
      "needs_background": "light"
     },
     "output_type": "display_data"
    }
   ],
   "source": [
    "fig, axes = plt.subplots(nrows=1, ncols=2, figsize=(15, 4))\n",
    "histplot = sns.histplot(data=sber_data, x='full_sq', ax=axes[0]);\n",
    "histplot.set_title('Full Square Distribution');\n",
    "boxplot = sns.boxplot(data=sber_data, x='full_sq', ax=axes[1]);\n",
    "boxplot.set_title('Full Square Boxplot');"
   ]
  },
  {
   "cell_type": "code",
   "execution_count": 30,
   "id": "0826fa72",
   "metadata": {},
   "outputs": [],
   "source": [
    "def outliers_iqr(data, feature):\n",
    "    x = data[feature]\n",
    "    quartile_1, quartile_3 = x.quantile(0.25), x.quantile(0.75),\n",
    "    iqr = quartile_3 - quartile_1\n",
    "    lower_bound = quartile_1 - (iqr * 1.5)\n",
    "    upper_bound = quartile_3 + (iqr * 1.5)\n",
    "    outliers = data[(x<lower_bound) | (x > upper_bound)]\n",
    "    cleaned = data[(x>lower_bound) & (x < upper_bound)]\n",
    "    return outliers, cleaned"
   ]
  },
  {
   "cell_type": "code",
   "execution_count": 33,
   "id": "564cd92c",
   "metadata": {},
   "outputs": [
    {
     "name": "stdout",
     "output_type": "stream",
     "text": [
      "Число выбросов по методу Тьюки: 963\n",
      "Результирующее число записей: 29508\n"
     ]
    }
   ],
   "source": [
    "outliers, cleaned = outliers_iqr(sber_data, 'full_sq')\n",
    "print(f'Число выбросов по методу Тьюки: {outliers.shape[0]}')\n",
    "print(f'Результирующее число записей: {cleaned.shape[0]}')"
   ]
  },
  {
   "cell_type": "code",
   "execution_count": 32,
   "id": "9dc4289b",
   "metadata": {},
   "outputs": [
    {
     "data": {
      "image/png": "[encoded data removed]",
      "text/plain": [
       "<Figure size 1080x288 with 2 Axes>"
      ]
     },
     "metadata": {
      "needs_background": "light"
     },
     "output_type": "display_data"
    }
   ],
   "source": [
    "fig, axes = plt.subplots(nrows=1, ncols=2, figsize=(15, 4))\n",
    "histplot = sns.histplot(data=cleaned, x='full_sq', ax=axes[0]);\n",
    "histplot.set_title('Cleaned Full Square Distribution');\n",
    "boxplot = sns.boxplot(data=cleaned, x='full_sq', ax=axes[1]);\n",
    "boxplot.set_title('Cleaned Full Square Boxplot');\n"
   ]
  },
  {
   "cell_type": "code",
   "execution_count": 61,
   "id": "04b0808f",
   "metadata": {},
   "outputs": [
    {
     "name": "stdout",
     "output_type": "stream",
     "text": [
      "92\n"
     ]
    }
   ],
   "source": [
    "def outliers_iqr_mod(data, feature, left = 3, right = 3, log_scale =False):\n",
    "    \"\"\"\n",
    "    Давайте немного модифицируем нашу функцию outliers_iqr(). \n",
    "    Добавьте в нее параметры left и right, которые задают число IQR влево и вправо от границ ящика (пусть по умолчанию они равны 1.5).\n",
    "    Функция, как и раньше должна возвращать потенциальные выбросы и очищенный DataFrame.\n",
    "    \"\"\"\n",
    "    if log_scale:\n",
    "        x = np.log(data[feature])\n",
    "    else:\n",
    "        x = data[feature]\n",
    "    quartile_1, quartile_3 = x.quantile(0.25), x.quantile(0.75),\n",
    "    iqr = quartile_3 - quartile_1\n",
    "    lower_bound = quartile_1 - (iqr * left)\n",
    "    upper_bound = quartile_3 + (iqr * right)\n",
    "    outliers = data[(x<lower_bound) | (x > upper_bound)]\n",
    "    cleaned = data[(x>lower_bound) & (x < upper_bound)]\n",
    "    return outliers, cleaned\n",
    "    \n",
    "\n",
    "outliers, cleaned = outliers_iqr_mod(sber_data, 'price_doc', log_scale = True)\n",
    "print(outliers.shape[0])"
   ]
  },
  {
   "cell_type": "code",
   "execution_count": 37,
   "id": "5d9b6671",
   "metadata": {},
   "outputs": [
    {
     "data": {
      "image/png": "[encoded data removed]",
      "text/plain": [
       "<Figure size 1080x288 with 2 Axes>"
      ]
     },
     "metadata": {
      "needs_background": "light"
     },
     "output_type": "display_data"
    }
   ],
   "source": [
    "fig, axes = plt.subplots(nrows=1, ncols=2, figsize=(15, 4))\n",
    "histplot = sns.histplot(data=cleaned, x='full_sq', ax=axes[0]);\n",
    "histplot.set_title('Cleaned Full Square Distribution');\n",
    "boxplot = sns.boxplot(data=cleaned, x='full_sq', ax=axes[1]);\n",
    "boxplot.set_title('Cleaned Full Square Boxplot');"
   ]
  },
  {
   "cell_type": "code",
   "execution_count": 38,
   "id": "8779a00c",
   "metadata": {},
   "outputs": [
    {
     "data": {
      "image/png": "[encoded data removed]",
      "text/plain": [
       "<Figure size 1080x288 with 2 Axes>"
      ]
     },
     "metadata": {
      "needs_background": "light"
     },
     "output_type": "display_data"
    }
   ],
   "source": [
    "fig, axes = plt.subplots(1, 2, figsize=(15, 4))\n",
    "\n",
    "#гистограмма исходного признака\n",
    "histplot = sns.histplot(sber_data['mkad_km'], bins=30, ax=axes[0])\n",
    "histplot.set_title('MKAD Km Distribution');\n",
    "\n",
    "#гистограмма в логарифмическом масштабе\n",
    "log_mkad_km= np.log(sber_data['mkad_km'] + 1)\n",
    "histplot = sns.histplot(log_mkad_km , bins=30, ax=axes[1])\n",
    "histplot.set_title('Log MKAD Km Distribution');"
   ]
  },
  {
   "cell_type": "code",
   "execution_count": 39,
   "id": "506ba115",
   "metadata": {},
   "outputs": [],
   "source": [
    "def outliers_z_score(data, feature, log_scale=False):\n",
    "    if log_scale:\n",
    "        x = np.log(data[feature]+1)\n",
    "    else:\n",
    "        x = data[feature]\n",
    "    mu = x.mean()\n",
    "    sigma = x.std()\n",
    "    lower_bound = mu - 3 * sigma\n",
    "    upper_bound = mu + 3 * sigma\n",
    "    outliers = data[(x < lower_bound) | (x > upper_bound)]\n",
    "    cleaned = data[(x > lower_bound) & (x < upper_bound)]\n",
    "    return outliers, cleaned"
   ]
  },
  {
   "cell_type": "code",
   "execution_count": 40,
   "id": "7a37630a",
   "metadata": {},
   "outputs": [
    {
     "name": "stdout",
     "output_type": "stream",
     "text": [
      "Число выбросов по методу z-отклонения: 33\n",
      "Результирующее число записей: 30438\n"
     ]
    }
   ],
   "source": [
    "outliers, cleaned = outliers_z_score(sber_data, 'mkad_km', log_scale=True)\n",
    "print(f'Число выбросов по методу z-отклонения: {outliers.shape[0]}')\n",
    "print(f'Результирующее число записей: {cleaned.shape[0]}')"
   ]
  },
  {
   "cell_type": "code",
   "execution_count": 41,
   "id": "024658c4",
   "metadata": {},
   "outputs": [
    {
     "name": "stdout",
     "output_type": "stream",
     "text": [
      "['Poselenie Rogovskoe' 'Poselenie Kievskij']\n"
     ]
    }
   ],
   "source": [
    "print(outliers['sub_area'].unique())"
   ]
  },
  {
   "cell_type": "code",
   "execution_count": 58,
   "id": "27a8c15d",
   "metadata": {},
   "outputs": [
    {
     "name": "stdout",
     "output_type": "stream",
     "text": [
      "146\n",
      "30325\n"
     ]
    }
   ],
   "source": [
    "def outliers_z_score_mod(sber_data, feature, left = 3, right = 3, log_scale=False):\n",
    "    \"\"\"\n",
    "    Давайте расширим правило 3ех сигм, чтобы иметь возможность учитывать ассиметричность данных.\n",
    "    Добавьте в функцию outliers_z_score() параметры left и right, которые будут задавать число сигм (стандартных отклонений) \n",
    "    влево и вправо соответственно, которые определяют границы метода z-отклонения. \n",
    "    По умолчанию оба параметры равны 3\n",
    "    \"\"\"\n",
    "    \n",
    "    if log_scale:\n",
    "        x = np.log(sber_data[feature]+1)\n",
    "    else:\n",
    "        x = sber_data[feature]\n",
    "    mu = x.mean()\n",
    "    sigma = x.std()\n",
    "    lower_bound = mu - left * sigma\n",
    "    upper_bound = mu + right * sigma\n",
    "    outliers = sber_data[(x < lower_bound) | (x > upper_bound)]\n",
    "    cleaned = sber_data[(x > lower_bound) & (x < upper_bound)]\n",
    "    return outliers, cleaned\n",
    "    \n",
    "outliers, cleaned = outliers_z_score_mod(sber_data, 'price_doc', left = 3, right = 3, log_scale=True)\n",
    "print(outliers.shape[0])\n",
    "print(cleaned.shape[0])"
   ]
  },
  {
   "cell_type": "code",
   "execution_count": 60,
   "id": "35e34916",
   "metadata": {
    "scrolled": true
   },
   "outputs": [
    {
     "data": {
      "image/png": "[encoded data removed]",
      "text/plain": [
       "<Figure size 1080x288 with 2 Axes>"
      ]
     },
     "metadata": {
      "needs_background": "light"
     },
     "output_type": "display_data"
    }
   ],
   "source": [
    "fig, axes = plt.subplots(1, 2, figsize=(15, 4))\n",
    "\n",
    "#гистограмма исходного признака\n",
    "histplot = sns.histplot(sber_data['price_doc'], bins=30, ax=axes[0])\n",
    "histplot.set_title('price');\n",
    "\n",
    "#гистограмма в логарифмическом масштабе\n",
    "log_mkad_km= np.log(sber_data['price_doc'] + 1)\n",
    "histplot = sns.histplot(log_mkad_km , bins=30, ax=axes[1])\n",
    "histplot.set_title('price');"
   ]
  },
  {
   "cell_type": "code",
   "execution_count": 62,
   "id": "85abbe5c",
   "metadata": {},
   "outputs": [
    {
     "data": {
      "text/plain": [
       "True"
      ]
     },
     "execution_count": 62,
     "metadata": {},
     "output_type": "execute_result"
    }
   ],
   "source": [
    "sber_data['id'].nunique() == sber_data.shape[0]"
   ]
  },
  {
   "cell_type": "code",
   "execution_count": 63,
   "id": "6d036403",
   "metadata": {},
   "outputs": [
    {
     "name": "stdout",
     "output_type": "stream",
     "text": [
      "Число найденных дубликатов: 562\n"
     ]
    }
   ],
   "source": [
    "dupl_columns = list(sber_data.columns)\n",
    "dupl_columns.remove('id')\n",
    "\n",
    "mask = sber_data.duplicated(subset=dupl_columns)\n",
    "sber_duplicates = sber_data[mask]\n",
    "print(f'Число найденных дубликатов: {sber_duplicates.shape[0]}')"
   ]
  },
  {
   "cell_type": "code",
   "execution_count": 64,
   "id": "4a6a99c4",
   "metadata": {},
   "outputs": [
    {
     "name": "stdout",
     "output_type": "stream",
     "text": [
      "Результирующее число записей: 29909\n"
     ]
    }
   ],
   "source": [
    "sber_dedupped = sber_data.drop_duplicates(subset=dupl_columns)\n",
    "print(f'Результирующее число записей: {sber_dedupped.shape[0]}')"
   ]
  },
  {
   "cell_type": "code",
   "execution_count": 65,
   "id": "9f0ea6f7",
   "metadata": {},
   "outputs": [
    {
     "name": "stdout",
     "output_type": "stream",
     "text": [
      "id: 100.0% уникальных значений\n",
      "oil_chemistry_raion: 99.03% одинаковых значений\n",
      "railroad_terminal_raion: 96.27% одинаковых значений\n",
      "nuclear_reactor_raion: 97.17% одинаковых значений\n",
      "big_road1_1line: 97.44% одинаковых значений\n",
      "mosque_count_1000: 98.08% одинаковых значений\n"
     ]
    }
   ],
   "source": [
    "#список неинформативных признаков\n",
    "low_information_cols = [] \n",
    "\n",
    "#цикл по всем столбцам\n",
    "for col in sber_data.columns:\n",
    "    #наибольшая относительная частота в признаке\n",
    "    top_freq = sber_data[col].value_counts(normalize=True).max()\n",
    "    #доля уникальных значений от размера признака\n",
    "    nunique_ratio = sber_data[col].nunique() / sber_data[col].count()\n",
    "    # сравниваем наибольшую частоту с порогом\n",
    "    if top_freq > 0.95:\n",
    "        low_information_cols.append(col)\n",
    "        print(f'{col}: {round(top_freq*100, 2)}% одинаковых значений')\n",
    "    # сравниваем долю уникальных значений с порогом\n",
    "    if nunique_ratio > 0.95:\n",
    "        low_information_cols.append(col)\n",
    "        print(f'{col}: {round(nunique_ratio*100, 2)}% уникальных значений')"
   ]
  },
  {
   "cell_type": "code",
   "execution_count": 66,
   "id": "88c02858",
   "metadata": {},
   "outputs": [
    {
     "name": "stdout",
     "output_type": "stream",
     "text": [
      "Результирующее число признаков: 55\n"
     ]
    }
   ],
   "source": [
    "information_sber_data = sber_data.drop(low_information_cols, axis=1)\n",
    "print(f'Результирующее число признаков: {information_sber_data.shape[1]}')"
   ]
  },
  {
   "cell_type": "code",
   "execution_count": null,
   "id": "1d4b6734",
   "metadata": {},
   "outputs": [],
   "source": []
  },
  {
   "cell_type": "code",
   "execution_count": null,
   "id": "0cddb807",
   "metadata": {},
   "outputs": [],
   "source": []
  },
  {
   "cell_type": "code",
   "execution_count": null,
   "id": "e4e1dcc0",
   "metadata": {},
   "outputs": [],
   "source": []
  },
  {
   "cell_type": "code",
   "execution_count": null,
   "id": "1d0583bd",
   "metadata": {},
   "outputs": [],
   "source": []
  }
 ],
 "metadata": {
  "kernelspec": {
   "display_name": "Python 3 (ipykernel)",
   "language": "python",
   "name": "python3"
  },
  "language_info": {
   "codemirror_mode": {
    "name": "ipython",
    "version": 3
   },
   "file_extension": ".py",
   "mimetype": "text/x-python",
   "name": "python",
   "nbconvert_exporter": "python",
   "pygments_lexer": "ipython3",
   "version": "3.8.8"
  }
 },
 "nbformat": 4,
 "nbformat_minor": 5
}
