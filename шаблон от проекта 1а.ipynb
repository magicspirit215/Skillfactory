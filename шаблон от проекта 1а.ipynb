{
 "cells": [
  {
   "cell_type": "code",
   "execution_count": null,
   "id": "dea0fdd3",
   "metadata": {},
   "outputs": [],
   "source": [
    "data['Пол'] = data['Пол, возраст'].apply(get_sex)\n",
    "data['Возраст'] =  data['Пол, возраст'].apply(get_age)\n",
    "data = data.drop('Пол, возраст', axis = 1)\n",
    "\n",
    "print(round(data['Пол'].value_counts(normalize=True)['Ж']*100, 2))\n",
    "print(round(data['Возраст'].mean(), 2))\n"
   ]
  },
  {
   "cell_type": "code",
   "execution_count": null,
   "id": "a12191ce",
   "metadata": {},
   "outputs": [],
   "source": [
    "def get_experience(arg):\n",
    "    if arg is np.nan:\n",
    "        return None\n",
    "    year_words = ['год', 'года', 'лет']\n",
    "    month__words = ['месяц', 'месяца', 'месяцев']\n",
    "    arg_splitted = arg.split(' ')[:7]\n",
    "    years = 0\n",
    "    months = 0\n",
    "    for index, item in enumerate (arg_splitted):\n",
    "        if item in year_words:\n",
    "            years = int(arg_splitted[index-1])\n",
    "        if item in minth_words:\n",
    "            months = int(arg_splitted[index-1])\n",
    "    return int(years*12 + months)\n",
    "data['Опыт работы (месяц)'] = data['Опыт работы'].apply(get_experience)\n",
    "data = data.drop('Опыт работы', axis=1)\n",
    "print(rount(data['Опыт работы (месяц)'].median()))"
   ]
  },
  {
   "cell_type": "code",
   "execution_count": null,
   "id": "8e4d36c2",
   "metadata": {},
   "outputs": [],
   "source": [
    "def get_city(arg):\n",
    "    million_cities = ['Новосибирск', 'Екатеринбург', 'Нижний Новгород',\n",
    "                      'Казань', 'Челябинск', 'Омск', 'Самара', 'Ростов-на-Дону',\n",
    "                      'Уфа', 'Красноярск', 'Пермь', 'Воронеж', 'Волгоград'\n",
    "                     ]\n",
    "    city = arg.split(' , ')[0]\n",
    "    if (city == 'Москва') or (city == 'Санкт-Петербург'):\n",
    "        return city\n",
    "    elif city in millin_cities:\n",
    "        return 'город миллионник'\n",
    "    else:\n",
    "        return 'другие'\n",
    "    \n",
    "def get_ready_to_move(arg):\n",
    "    if('не готов к переезду' in arg) or ('не готова к переезду' in arg):\n",
    "        return False\n",
    "    else:\n",
    "        return True\n",
    "    \n",
    "def get_ready_for_bisiness_trips(arg):\n",
    "    if ('не готов к командировкам' in arg) or ('не готова к команировкам' in arg):\n",
    "        return False\n",
    "    else:\n",
    "        return True\n",
    "    \n",
    "data['Город'] = data['Город, переезд, командировки'].apply(get_city)\n",
    "data['Готовность к перезду'] = data['Город, переезд, командировки'].apply(get_ready_to_move)\n",
    "data['Готовность к командировкам'] = data['Город, переезд, командировки'].apply(get_ready_for_bisiness_trips)\n",
    "data = data.drop('Город, переезд, командировки', axis=1)\n",
    "print(round(data['Город'].value_counts(normalize=True)['Санкт-Петербург']*100))\n",
    "print(round(data[\n",
    "    data['Готовность к переезду'] & data['Готовность к командировка']\n",
    "].shape[0]/data.shape[0]*100))\n"
   ]
  },
  {
   "cell_type": "code",
   "execution_count": null,
   "id": "2a44617f",
   "metadata": {},
   "outputs": [],
   "source": [
    "emloyments = ['полная занятость', 'частичная занятовсть',\n",
    "             'проектная работа', 'волонтерство', 'стажировка']\n",
    "charts = ['полный день', 'сменный график',\n",
    "          'гибкий график', 'удаленная работа',\n",
    "         'вахтаовый метод']\n",
    "for emloyment, chart in zip(employments, charts):\n",
    "    data[employment] = data['Занятость'].apply(lambda x: employment in x)\n",
    "    data[chart] = data['График'].apply(lambda x: chart in x)\n",
    "data = data.drop('Занятость', axis=1)\n",
    "data = data.drop('График', axis=1)\n",
    "print(data[data['прокетная работа'] & data['волонтерство']].shape[0])\n",
    "print(data[data['вахтовый метод'] & data['гибкий график']].shape[0])\n",
    "data.head"
   ]
  },
  {
   "cell_type": "code",
   "execution_count": null,
   "id": "2f101dd1",
   "metadata": {},
   "outputs": [],
   "source": [
    "def get_salary_num(arg):\n",
    "    salary = float(arg.split(' ')[0])\n",
    "    return salary\n",
    "\n",
    "def get_salary_currency(arg):\n",
    "    currency_dict = {\n",
    "        'USD': 'USD', 'KZT': 'KZT',\n",
    "        'грн': 'UAH', 'белруб': \"BYN',\n",
    "        'EUR': 'EUR', 'KGS': 'KGS'\n",
    "        'сум': 'UZS', 'AZN': 'AZN'\n",
    "        \n",
    "    }\n",
    "    curr = arg.split(' ')[1].replace('.', '')\n",
    "    if curr == 'руб':\n",
    "        return 'RUB'\n",
    "    else:\n",
    "        return currency_dict[curr]\n",
    "    \n",
    "rates = pd.read_csv('data/ExchangeRates.csv')\n",
    "rates['data'] = pd.to_datatime(rates['date'])dt.date\n",
    "data['Обновление резюме'] = pd.to_datetime(data['Обновление резюме']).dt.date\n",
    "data['ЗП (tmp)'] = data['ЗП'].apply(get_salary_num)\n",
    "data['Курс (tmp)'] = data['ЗП'].apply(get_salary_currency)\n",
    "merged = data.merge(\n",
    "    rates,\n",
    "    left_on  = ['Курс(tmp)', 'Обновление резюме'],\n",
    "    right_on = ['currency', 'date',],\n",
    ")\n",
    "merged['close'] = merged['close'].fillna(1)\n",
    "merged['proportion'] = merged['proportion'].fillna(1)\n",
    "data['ЗП (руб)'] = merged['close'] * merged['ЗП (tmp)'] / merged['proportion']\n",
    "data = data.drop(['ЗП', 'ЗП (tmp)', 'Курс (tmp)'], axis=1)\n",
    "print(round(data['ЗП (руб)'].median()/1000))"
   ]
  },
  {
   "cell_type": "code",
   "execution_count": null,
   "id": "700fbd7b",
   "metadata": {},
   "outputs": [],
   "source": [
    "data.to_csv('data/hh_database_preprocessed.csv', index=False)"
   ]
  },
  {
   "cell_type": "code",
   "execution_count": null,
   "id": "f2dc352c",
   "metadata": {},
   "outputs": [],
   "source": [
    "fig = px.histogram(\n",
    "    data_frame = data,\n",
    "    x ='Возраст',\n",
    "    title ='Распредение возраста соискателей',\n",
    "    histnorm='percent',\n",
    "    width=500,\n",
    "    marginal='box',\n",
    ")\n",
    "fig.show()"
   ]
  },
  {
   "cell_type": "code",
   "execution_count": null,
   "id": "865c6f44",
   "metadata": {},
   "outputs": [],
   "source": [
    "fig = px.histogram(\n",
    "    data_frame=data,\n",
    "    x='Опыт работы (месяц)',\n",
    "    title='Распределение опыта работы соискателей',\n",
    "    histnorm='percent',\n",
    "    width=500,\n",
    "    marginal='box',\n",
    ")\n",
    "fig.show()"
   ]
  },
  {
   "cell_type": "code",
   "execution_count": null,
   "id": "4f7013d4",
   "metadata": {},
   "outputs": [],
   "source": [
    "fig = px.histogram(\n",
    "    data_frame=data,\n",
    "    x='ЗП (руб)',\n",
    "    title='Распределение желаемой з/п соискателей',\n",
    "    histnorm='percent',\n",
    "    width=500,\n",
    "    marginal='box',\n",
    ")\n",
    "fig.show()"
   ]
  },
  {
   "cell_type": "code",
   "execution_count": null,
   "id": "3fb78ae3",
   "metadata": {},
   "outputs": [],
   "source": [
    "bar_data = data[data['ЗП (руб)']<1e6].groupby('Образование', as_index=False).median()\n",
    "fig = px.bar(\n",
    "    data_frame=bar_data,\n",
    "    x='Образование',\n",
    "    y='ЗП (руб)',\n",
    "    title='Медианная з/п по уровню образования'\n",
    ")\n",
    "fig.show()"
   ]
  },
  {
   "cell_type": "code",
   "execution_count": null,
   "id": "f8f54259",
   "metadata": {},
   "outputs": [],
   "source": [
    "bar_data = data[data['ЗП (руб)']<1e6]\n",
    "fig = px.box(\n",
    "    data_frame=box_data,\n",
    "    x='Город',\n",
    "    y='ЗП (руб)',\n",
    "    title='Распределение з/п по городам'\n",
    ")\n",
    "fig.show()"
   ]
  },
  {
   "cell_type": "code",
   "execution_count": null,
   "id": "3473a6ed",
   "metadata": {},
   "outputs": [],
   "source": [
    "bar_data = data.groupby(\n",
    "    ['Готовность к перезду', 'Готовность к командировкам'],\n",
    "    as_index=False\n",
    ")['ЗП (руб)'].median()\n",
    "fig = px.bar(\n",
    "    data_frame=bar_data,\n",
    "    x='ЗП (руб)',\n",
    "    y='Готовность к перезду',\n",
    "    barmode=\"group\",\n",
    "    color='Готовность к командировкам',\n",
    "    orientation='h'\n",
    "    title='Медианная з/п по готовности к командировкам/переезду'\n",
    ")\n",
    "fig.show()"
   ]
  },
  {
   "cell_type": "code",
   "execution_count": null,
   "id": "d0a0a079",
   "metadata": {},
   "outputs": [],
   "source": [
    "pivot = data.pivot_table(\n",
    "    index='Образование',\n",
    "    columns='Возраст',\n",
    "    values='ЗП (руб)',\n",
    "    aggfunc='median',\n",
    "    fill_value=0\n",
    ")\n",
    "fig = px.imshow(\n",
    "    pivott,\n",
    "    aspect='auto',\n",
    "    barmode=\"group\",\n",
    "    color_continuous_scale='greens',\n",
    "    title='Медианная з/п по образованию и возрасту'\n",
    ")\n",
    "fig.show()"
   ]
  },
  {
   "cell_type": "code",
   "execution_count": null,
   "id": "4a14ddda",
   "metadata": {},
   "outputs": [],
   "source": [
    "\n",
    "\n",
    "fig = plt.figure(figsize=(10, 5))\n",
    "scatter_data = data.copy()\n",
    "sns.lineplot(x=[0, 100], y=[0, 100])\n",
    "ax = sns.scatterplot(\n",
    "    data=scatter_data,\n",
    "    x='Возраст',\n",
    "    y='Опыт работы (год)',\n",
    ")\n",
    "ax.set_title('Зависимсоть опыта работы от возраста');"
   ]
  },
  {
   "cell_type": "code",
   "execution_count": null,
   "id": "174cce22",
   "metadata": {},
   "outputs": [],
   "source": [
    "# Исключим зарплатные ошибочные данные\n",
    "mask1 = (hh_df['ЗП (руб'] < 1e6) & (hh_df['ЗП (руб)'] >= 5e3)\n",
    "# Список категорий мигалок занятости\n",
    "employment = ['полная занятость', 'проектная работа', 'частичная занятость', 'волонтерсво', 'стажировка']\n",
    "# Рабочее поля для графиков\n",
    "fig = px.box(\n",
    "    tile = 'Распредение заработной платы от занятости соискателей',\n",
    "    log_у=True,\n",
    ")\n",
    "\n",
    "# Добавляем последовательно коробчатые распределения заработной платы в зависимости от типа занятости\n",
    "for str in employment\n",
    "fig.add_box\n",
    "    y=hh_df[mask1 & hh_df[str]]['ЗП (руб)'],\n",
    "    name=str\n",
    ")\n",
    "\n",
    "fig.update_yaxes(title='Желаемая заработная плата, RUB')\n",
    "fig.update_layout(title_xanchor='center', title_x=0.5, legend_title='Занятость')\n",
    "fig.show()"
   ]
  },
  {
   "cell_type": "code",
   "execution_count": null,
   "id": "1e6485ef",
   "metadata": {},
   "outputs": [],
   "source": [
    "duplicates = data[data.duplicated(subset=data.columns)]\n",
    "data = data.drop_duplicates()\n",
    "print(duplicates.shape[0])"
   ]
  },
  {
   "cell_type": "code",
   "execution_count": null,
   "id": "56f41aca",
   "metadata": {},
   "outputs": [],
   "source": [
    "null_data = data.isnull().sum()\n",
    "display(null_data[null_data > 0])"
   ]
  },
  {
   "cell_type": "code",
   "execution_count": null,
   "id": "78bddefb",
   "metadata": {},
   "outputs": [],
   "source": [
    "data= data.dropna(subset=['Последнее /нынешнее место работы', 'Последняя / нынешняя должность'])\n",
    "data['Опыт работы (месяц'] = data['Опыт работы (месяц)'].fillna(data['Опыт работы (месяц)'].median())\n",
    "print(round(data['Опыт работы (месяц)'].mean(), 2))"
   ]
  },
  {
   "cell_type": "code",
   "execution_count": null,
   "id": "23ffab2b",
   "metadata": {},
   "outputs": [],
   "source": [
    "outliers = data[(data['ЗП (руб')] > 1e6) | (data['ЗП (руб)'] < 1e3)]\n",
    "data = data.drop(outliers.index)\n",
    "print(outliers.shape[0])"
   ]
  },
  {
   "cell_type": "code",
   "execution_count": null,
   "id": "a57ea907",
   "metadata": {},
   "outputs": [],
   "source": [
    "outliers = data[(data['Опыт работы (месяц))] > 1e6) | (data['Возрас'] < 1e3)]\n",
    "data = data.drop(outliers.index)\n",
    "print(outliers.shape[0])"
   ]
  },
  {
   "cell_type": "code",
   "execution_count": null,
   "id": "614aec91",
   "metadata": {},
   "outputs": [],
   "source": [
    "def outliers_z_score_mod(data, feature, left=3, right=3, log_scale=False):\n",
    "    if log_scale:\n",
    "        x = np.log(data[feature]=1)\n",
    "    else:\n",
    "        x = data[feature]\n",
    "    mu = x.mean()\n",
    "    sigma = x.std()\n",
    "    lower_bound = mu -left * sigma\n",
    "    upper_bound = mu + right * sigma\n",
    "    outliers = data[(x < lower_bound) | (x > upper_bound)]\n",
    "    cleaned = data[(x < lower_bound) & (x > upper_bound)]       \n",
    "    return outliers, cleanded\n",
    "outliers, data = outliers_z_score_mod(data, 'Возраст', left=3, right=3, log_scale=True)\n",
    "print(outliers.shape[0])"
   ]
  },
  {
   "cell_type": "code",
   "execution_count": null,
   "id": "e2bb3a40",
   "metadata": {},
   "outputs": [],
   "source": []
  },
  {
   "cell_type": "code",
   "execution_count": null,
   "id": "734ab821",
   "metadata": {},
   "outputs": [],
   "source": []
  }
 ],
 "metadata": {
  "kernelspec": {
   "display_name": "Python 3 (ipykernel)",
   "language": "python",
   "name": "python3"
  },
  "language_info": {
   "codemirror_mode": {
    "name": "ipython",
    "version": 3
   },
   "file_extension": ".py",
   "mimetype": "text/x-python",
   "name": "python",
   "nbconvert_exporter": "python",
   "pygments_lexer": "ipython3",
   "version": "3.8.8"
  }
 },
 "nbformat": 4,
 "nbformat_minor": 5
}
