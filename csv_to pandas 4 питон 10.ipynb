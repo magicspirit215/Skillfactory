{
 "cells": [
  {
   "cell_type": "code",
   "execution_count": 1,
   "id": "fc9d1815",
   "metadata": {},
   "outputs": [],
   "source": [
    "import pandas as pd"
   ]
  },
  {
   "cell_type": "code",
   "execution_count": 2,
   "id": "911ba431",
   "metadata": {},
   "outputs": [],
   "source": [
    "countries_df = pd.DataFrame({\n",
    "    'country': ['Англия', 'Канада', 'США', 'Россия', 'Украина', 'Беларусь', 'Казахстан'],\n",
    "    'population': [56.29, 38.05, 322.28, 146.24, 45.5, 9.5, 17.04],\n",
    "    'square': [133396, 9984670, 9826630, 17125191, 603628, 207600, 2724902]\n",
    "})\n",
    "\n",
    "countries_df.to_csv('countries.csv', index=False, sep=';')"
   ]
  },
  {
   "cell_type": "code",
   "execution_count": 3,
   "id": "f39c89cd",
   "metadata": {},
   "outputs": [
    {
     "data": {
      "text/html": [
       "<div>\n",
       "<style scoped>\n",
       "    .dataframe tbody tr th:only-of-type {\n",
       "        vertical-align: middle;\n",
       "    }\n",
       "\n",
       "    .dataframe tbody tr th {\n",
       "        vertical-align: top;\n",
       "    }\n",
       "\n",
       "    .dataframe thead th {\n",
       "        text-align: right;\n",
       "    }\n",
       "</style>\n",
       "<table border=\"1\" class=\"dataframe\">\n",
       "  <thead>\n",
       "    <tr style=\"text-align: right;\">\n",
       "      <th></th>\n",
       "      <th>country</th>\n",
       "      <th>population</th>\n",
       "      <th>square</th>\n",
       "    </tr>\n",
       "  </thead>\n",
       "  <tbody>\n",
       "    <tr>\n",
       "      <th>0</th>\n",
       "      <td>Англия</td>\n",
       "      <td>56.29</td>\n",
       "      <td>133396</td>\n",
       "    </tr>\n",
       "    <tr>\n",
       "      <th>1</th>\n",
       "      <td>Канада</td>\n",
       "      <td>38.05</td>\n",
       "      <td>9984670</td>\n",
       "    </tr>\n",
       "    <tr>\n",
       "      <th>2</th>\n",
       "      <td>США</td>\n",
       "      <td>322.28</td>\n",
       "      <td>9826630</td>\n",
       "    </tr>\n",
       "    <tr>\n",
       "      <th>3</th>\n",
       "      <td>Россия</td>\n",
       "      <td>146.24</td>\n",
       "      <td>17125191</td>\n",
       "    </tr>\n",
       "    <tr>\n",
       "      <th>4</th>\n",
       "      <td>Украина</td>\n",
       "      <td>45.50</td>\n",
       "      <td>603628</td>\n",
       "    </tr>\n",
       "    <tr>\n",
       "      <th>5</th>\n",
       "      <td>Беларусь</td>\n",
       "      <td>9.50</td>\n",
       "      <td>207600</td>\n",
       "    </tr>\n",
       "    <tr>\n",
       "      <th>6</th>\n",
       "      <td>Казахстан</td>\n",
       "      <td>17.04</td>\n",
       "      <td>2724902</td>\n",
       "    </tr>\n",
       "  </tbody>\n",
       "</table>\n",
       "</div>"
      ],
      "text/plain": [
       "     country  population    square\n",
       "0     Англия       56.29    133396\n",
       "1     Канада       38.05   9984670\n",
       "2        США      322.28   9826630\n",
       "3     Россия      146.24  17125191\n",
       "4    Украина       45.50    603628\n",
       "5   Беларусь        9.50    207600\n",
       "6  Казахстан       17.04   2724902"
      ]
     },
     "metadata": {},
     "output_type": "display_data"
    }
   ],
   "source": [
    "countries_data = pd.read_csv('countries.csv', sep=';')\n",
    "display(countries_data)"
   ]
  },
  {
   "cell_type": "code",
   "execution_count": 4,
   "id": "09039ca6",
   "metadata": {
    "scrolled": true
   },
   "outputs": [],
   "source": [
    "melb_data = pd.read_csv('data/melb_data.csv', sep=',')"
   ]
  },
  {
   "cell_type": "code",
   "execution_count": 5,
   "id": "ed8d25f2",
   "metadata": {},
   "outputs": [
    {
     "data": {
      "text/html": [
       "<div>\n",
       "<style scoped>\n",
       "    .dataframe tbody tr th:only-of-type {\n",
       "        vertical-align: middle;\n",
       "    }\n",
       "\n",
       "    .dataframe tbody tr th {\n",
       "        vertical-align: top;\n",
       "    }\n",
       "\n",
       "    .dataframe thead th {\n",
       "        text-align: right;\n",
       "    }\n",
       "</style>\n",
       "<table border=\"1\" class=\"dataframe\">\n",
       "  <thead>\n",
       "    <tr style=\"text-align: right;\">\n",
       "      <th></th>\n",
       "      <th>index</th>\n",
       "      <th>Suburb</th>\n",
       "      <th>Address</th>\n",
       "      <th>Rooms</th>\n",
       "      <th>Type</th>\n",
       "      <th>Price</th>\n",
       "      <th>Method</th>\n",
       "      <th>SellerG</th>\n",
       "      <th>Date</th>\n",
       "      <th>Distance</th>\n",
       "      <th>...</th>\n",
       "      <th>Car</th>\n",
       "      <th>Landsize</th>\n",
       "      <th>BuildingArea</th>\n",
       "      <th>YearBuilt</th>\n",
       "      <th>CouncilArea</th>\n",
       "      <th>Lattitude</th>\n",
       "      <th>Longtitude</th>\n",
       "      <th>Regionname</th>\n",
       "      <th>Propertycount</th>\n",
       "      <th>Coordinates</th>\n",
       "    </tr>\n",
       "  </thead>\n",
       "  <tbody>\n",
       "    <tr>\n",
       "      <th>0</th>\n",
       "      <td>Abbotsford</td>\n",
       "      <td>85 Turner St</td>\n",
       "      <td>2</td>\n",
       "      <td>h</td>\n",
       "      <td>1480000.0</td>\n",
       "      <td>S</td>\n",
       "      <td>Biggin</td>\n",
       "      <td>3/12/2016</td>\n",
       "      <td>2.5</td>\n",
       "      <td>3067</td>\n",
       "      <td>...</td>\n",
       "      <td>202.0</td>\n",
       "      <td>126.0</td>\n",
       "      <td>1970.0</td>\n",
       "      <td>Yarra</td>\n",
       "      <td>-37.79960</td>\n",
       "      <td>144.99840</td>\n",
       "      <td>Northern Metropolitan</td>\n",
       "      <td>4019.0</td>\n",
       "      <td>-37.79960</td>\n",
       "      <td>144.99840</td>\n",
       "    </tr>\n",
       "    <tr>\n",
       "      <th>1</th>\n",
       "      <td>Abbotsford</td>\n",
       "      <td>25 Bloomburg St</td>\n",
       "      <td>2</td>\n",
       "      <td>h</td>\n",
       "      <td>1035000.0</td>\n",
       "      <td>S</td>\n",
       "      <td>Biggin</td>\n",
       "      <td>4/02/2016</td>\n",
       "      <td>2.5</td>\n",
       "      <td>3067</td>\n",
       "      <td>...</td>\n",
       "      <td>156.0</td>\n",
       "      <td>79.0</td>\n",
       "      <td>1900.0</td>\n",
       "      <td>Yarra</td>\n",
       "      <td>-37.80790</td>\n",
       "      <td>144.99340</td>\n",
       "      <td>Northern Metropolitan</td>\n",
       "      <td>4019.0</td>\n",
       "      <td>-37.80790</td>\n",
       "      <td>144.99340</td>\n",
       "    </tr>\n",
       "    <tr>\n",
       "      <th>2</th>\n",
       "      <td>Abbotsford</td>\n",
       "      <td>5 Charles St</td>\n",
       "      <td>3</td>\n",
       "      <td>h</td>\n",
       "      <td>1465000.0</td>\n",
       "      <td>SP</td>\n",
       "      <td>Biggin</td>\n",
       "      <td>4/03/2017</td>\n",
       "      <td>2.5</td>\n",
       "      <td>3067</td>\n",
       "      <td>...</td>\n",
       "      <td>134.0</td>\n",
       "      <td>150.0</td>\n",
       "      <td>1900.0</td>\n",
       "      <td>Yarra</td>\n",
       "      <td>-37.80930</td>\n",
       "      <td>144.99440</td>\n",
       "      <td>Northern Metropolitan</td>\n",
       "      <td>4019.0</td>\n",
       "      <td>-37.80930</td>\n",
       "      <td>144.99440</td>\n",
       "    </tr>\n",
       "    <tr>\n",
       "      <th>3</th>\n",
       "      <td>Abbotsford</td>\n",
       "      <td>40 Federation La</td>\n",
       "      <td>3</td>\n",
       "      <td>h</td>\n",
       "      <td>850000.0</td>\n",
       "      <td>PI</td>\n",
       "      <td>Biggin</td>\n",
       "      <td>4/03/2017</td>\n",
       "      <td>2.5</td>\n",
       "      <td>3067</td>\n",
       "      <td>...</td>\n",
       "      <td>94.0</td>\n",
       "      <td>126.0</td>\n",
       "      <td>1970.0</td>\n",
       "      <td>Yarra</td>\n",
       "      <td>-37.79690</td>\n",
       "      <td>144.99690</td>\n",
       "      <td>Northern Metropolitan</td>\n",
       "      <td>4019.0</td>\n",
       "      <td>-37.79690</td>\n",
       "      <td>144.99690</td>\n",
       "    </tr>\n",
       "    <tr>\n",
       "      <th>4</th>\n",
       "      <td>Abbotsford</td>\n",
       "      <td>55a Park St</td>\n",
       "      <td>4</td>\n",
       "      <td>h</td>\n",
       "      <td>1600000.0</td>\n",
       "      <td>VB</td>\n",
       "      <td>Nelson</td>\n",
       "      <td>4/06/2016</td>\n",
       "      <td>2.5</td>\n",
       "      <td>3067</td>\n",
       "      <td>...</td>\n",
       "      <td>120.0</td>\n",
       "      <td>142.0</td>\n",
       "      <td>2014.0</td>\n",
       "      <td>Yarra</td>\n",
       "      <td>-37.80720</td>\n",
       "      <td>144.99410</td>\n",
       "      <td>Northern Metropolitan</td>\n",
       "      <td>4019.0</td>\n",
       "      <td>-37.80720</td>\n",
       "      <td>144.99410</td>\n",
       "    </tr>\n",
       "    <tr>\n",
       "      <th>...</th>\n",
       "      <td>...</td>\n",
       "      <td>...</td>\n",
       "      <td>...</td>\n",
       "      <td>...</td>\n",
       "      <td>...</td>\n",
       "      <td>...</td>\n",
       "      <td>...</td>\n",
       "      <td>...</td>\n",
       "      <td>...</td>\n",
       "      <td>...</td>\n",
       "      <td>...</td>\n",
       "      <td>...</td>\n",
       "      <td>...</td>\n",
       "      <td>...</td>\n",
       "      <td>...</td>\n",
       "      <td>...</td>\n",
       "      <td>...</td>\n",
       "      <td>...</td>\n",
       "      <td>...</td>\n",
       "      <td>...</td>\n",
       "      <td>...</td>\n",
       "    </tr>\n",
       "    <tr>\n",
       "      <th>13575</th>\n",
       "      <td>Wheelers Hill</td>\n",
       "      <td>12 Strada Cr</td>\n",
       "      <td>4</td>\n",
       "      <td>h</td>\n",
       "      <td>1245000.0</td>\n",
       "      <td>S</td>\n",
       "      <td>Barry</td>\n",
       "      <td>26/08/2017</td>\n",
       "      <td>16.7</td>\n",
       "      <td>3150</td>\n",
       "      <td>...</td>\n",
       "      <td>652.0</td>\n",
       "      <td>126.0</td>\n",
       "      <td>1981.0</td>\n",
       "      <td>NaN</td>\n",
       "      <td>-37.90562</td>\n",
       "      <td>145.16761</td>\n",
       "      <td>South-Eastern Metropolitan</td>\n",
       "      <td>7392.0</td>\n",
       "      <td>-37.90562</td>\n",
       "      <td>145.16761</td>\n",
       "    </tr>\n",
       "    <tr>\n",
       "      <th>13576</th>\n",
       "      <td>Williamstown</td>\n",
       "      <td>77 Merrett Dr</td>\n",
       "      <td>3</td>\n",
       "      <td>h</td>\n",
       "      <td>1031000.0</td>\n",
       "      <td>SP</td>\n",
       "      <td>Williams</td>\n",
       "      <td>26/08/2017</td>\n",
       "      <td>6.8</td>\n",
       "      <td>3016</td>\n",
       "      <td>...</td>\n",
       "      <td>333.0</td>\n",
       "      <td>133.0</td>\n",
       "      <td>1995.0</td>\n",
       "      <td>NaN</td>\n",
       "      <td>-37.85927</td>\n",
       "      <td>144.87904</td>\n",
       "      <td>Western Metropolitan</td>\n",
       "      <td>6380.0</td>\n",
       "      <td>-37.85927</td>\n",
       "      <td>144.87904</td>\n",
       "    </tr>\n",
       "    <tr>\n",
       "      <th>13577</th>\n",
       "      <td>Williamstown</td>\n",
       "      <td>83 Power St</td>\n",
       "      <td>3</td>\n",
       "      <td>h</td>\n",
       "      <td>1170000.0</td>\n",
       "      <td>S</td>\n",
       "      <td>Raine</td>\n",
       "      <td>26/08/2017</td>\n",
       "      <td>6.8</td>\n",
       "      <td>3016</td>\n",
       "      <td>...</td>\n",
       "      <td>436.0</td>\n",
       "      <td>126.0</td>\n",
       "      <td>1997.0</td>\n",
       "      <td>NaN</td>\n",
       "      <td>-37.85274</td>\n",
       "      <td>144.88738</td>\n",
       "      <td>Western Metropolitan</td>\n",
       "      <td>6380.0</td>\n",
       "      <td>-37.85274</td>\n",
       "      <td>144.88738</td>\n",
       "    </tr>\n",
       "    <tr>\n",
       "      <th>13578</th>\n",
       "      <td>Williamstown</td>\n",
       "      <td>96 Verdon St</td>\n",
       "      <td>4</td>\n",
       "      <td>h</td>\n",
       "      <td>2500000.0</td>\n",
       "      <td>PI</td>\n",
       "      <td>Sweeney</td>\n",
       "      <td>26/08/2017</td>\n",
       "      <td>6.8</td>\n",
       "      <td>3016</td>\n",
       "      <td>...</td>\n",
       "      <td>866.0</td>\n",
       "      <td>157.0</td>\n",
       "      <td>1920.0</td>\n",
       "      <td>NaN</td>\n",
       "      <td>-37.85908</td>\n",
       "      <td>144.89299</td>\n",
       "      <td>Western Metropolitan</td>\n",
       "      <td>6380.0</td>\n",
       "      <td>-37.85908</td>\n",
       "      <td>144.89299</td>\n",
       "    </tr>\n",
       "    <tr>\n",
       "      <th>13579</th>\n",
       "      <td>Yarraville</td>\n",
       "      <td>6 Agnes St</td>\n",
       "      <td>4</td>\n",
       "      <td>h</td>\n",
       "      <td>1285000.0</td>\n",
       "      <td>SP</td>\n",
       "      <td>Village</td>\n",
       "      <td>26/08/2017</td>\n",
       "      <td>6.3</td>\n",
       "      <td>3013</td>\n",
       "      <td>...</td>\n",
       "      <td>362.0</td>\n",
       "      <td>112.0</td>\n",
       "      <td>1920.0</td>\n",
       "      <td>NaN</td>\n",
       "      <td>-37.81188</td>\n",
       "      <td>144.88449</td>\n",
       "      <td>Western Metropolitan</td>\n",
       "      <td>6543.0</td>\n",
       "      <td>-37.81188</td>\n",
       "      <td>144.88449</td>\n",
       "    </tr>\n",
       "  </tbody>\n",
       "</table>\n",
       "<p>13580 rows × 23 columns</p>\n",
       "</div>"
      ],
      "text/plain": [
       "               index            Suburb  Address Rooms       Type Price  \\\n",
       "0         Abbotsford      85 Turner St        2     h  1480000.0     S   \n",
       "1         Abbotsford   25 Bloomburg St        2     h  1035000.0     S   \n",
       "2         Abbotsford      5 Charles St        3     h  1465000.0    SP   \n",
       "3         Abbotsford  40 Federation La        3     h   850000.0    PI   \n",
       "4         Abbotsford       55a Park St        4     h  1600000.0    VB   \n",
       "...              ...               ...      ...   ...        ...   ...   \n",
       "13575  Wheelers Hill      12 Strada Cr        4     h  1245000.0     S   \n",
       "13576   Williamstown     77 Merrett Dr        3     h  1031000.0    SP   \n",
       "13577   Williamstown       83 Power St        3     h  1170000.0     S   \n",
       "13578   Williamstown      96 Verdon St        4     h  2500000.0    PI   \n",
       "13579     Yarraville        6 Agnes St        4     h  1285000.0    SP   \n",
       "\n",
       "         Method     SellerG  Date  Distance  ...    Car  Landsize  \\\n",
       "0        Biggin   3/12/2016   2.5      3067  ...  202.0     126.0   \n",
       "1        Biggin   4/02/2016   2.5      3067  ...  156.0      79.0   \n",
       "2        Biggin   4/03/2017   2.5      3067  ...  134.0     150.0   \n",
       "3        Biggin   4/03/2017   2.5      3067  ...   94.0     126.0   \n",
       "4        Nelson   4/06/2016   2.5      3067  ...  120.0     142.0   \n",
       "...         ...         ...   ...       ...  ...    ...       ...   \n",
       "13575     Barry  26/08/2017  16.7      3150  ...  652.0     126.0   \n",
       "13576  Williams  26/08/2017   6.8      3016  ...  333.0     133.0   \n",
       "13577     Raine  26/08/2017   6.8      3016  ...  436.0     126.0   \n",
       "13578   Sweeney  26/08/2017   6.8      3016  ...  866.0     157.0   \n",
       "13579   Village  26/08/2017   6.3      3013  ...  362.0     112.0   \n",
       "\n",
       "       BuildingArea  YearBuilt  CouncilArea  Lattitude  \\\n",
       "0            1970.0      Yarra    -37.79960  144.99840   \n",
       "1            1900.0      Yarra    -37.80790  144.99340   \n",
       "2            1900.0      Yarra    -37.80930  144.99440   \n",
       "3            1970.0      Yarra    -37.79690  144.99690   \n",
       "4            2014.0      Yarra    -37.80720  144.99410   \n",
       "...             ...        ...          ...        ...   \n",
       "13575        1981.0        NaN    -37.90562  145.16761   \n",
       "13576        1995.0        NaN    -37.85927  144.87904   \n",
       "13577        1997.0        NaN    -37.85274  144.88738   \n",
       "13578        1920.0        NaN    -37.85908  144.89299   \n",
       "13579        1920.0        NaN    -37.81188  144.88449   \n",
       "\n",
       "                       Longtitude  Regionname  Propertycount Coordinates  \n",
       "0           Northern Metropolitan      4019.0      -37.79960   144.99840  \n",
       "1           Northern Metropolitan      4019.0      -37.80790   144.99340  \n",
       "2           Northern Metropolitan      4019.0      -37.80930   144.99440  \n",
       "3           Northern Metropolitan      4019.0      -37.79690   144.99690  \n",
       "4           Northern Metropolitan      4019.0      -37.80720   144.99410  \n",
       "...                           ...         ...            ...         ...  \n",
       "13575  South-Eastern Metropolitan      7392.0      -37.90562   145.16761  \n",
       "13576        Western Metropolitan      6380.0      -37.85927   144.87904  \n",
       "13577        Western Metropolitan      6380.0      -37.85274   144.88738  \n",
       "13578        Western Metropolitan      6380.0      -37.85908   144.89299  \n",
       "13579        Western Metropolitan      6543.0      -37.81188   144.88449  \n",
       "\n",
       "[13580 rows x 23 columns]"
      ]
     },
     "metadata": {},
     "output_type": "display_data"
    }
   ],
   "source": [
    "display(melb_data)"
   ]
  },
  {
   "cell_type": "code",
   "execution_count": 6,
   "id": "cc4cbb68",
   "metadata": {},
   "outputs": [
    {
     "data": {
      "text/plain": [
       "index                       Kensington\n",
       "Suburb                   67 Collett St\n",
       "Address                              3\n",
       "Rooms                                h\n",
       "Type                         1010000.0\n",
       "Price                               PI\n",
       "Method                          Edward\n",
       "SellerG                      7/05/2016\n",
       "Date                               4.2\n",
       "Distance                          3031\n",
       "Postcode                           3.0\n",
       "Bedroom                            1.0\n",
       "Bathroom                           0.0\n",
       "Car                              234.0\n",
       "Landsize                         104.0\n",
       "BuildingArea                    1900.0\n",
       "YearBuilt                    Melbourne\n",
       "CouncilArea                   -37.7923\n",
       "Lattitude                     144.9332\n",
       "Longtitude       Northern Metropolitan\n",
       "Regionname                      5263.0\n",
       "Propertycount                 -37.7923\n",
       "Coordinates                   144.9332\n",
       "Name: 3521, dtype: object"
      ]
     },
     "execution_count": 6,
     "metadata": {},
     "output_type": "execute_result"
    }
   ],
   "source": [
    "melb_data.iloc[3521]"
   ]
  },
  {
   "cell_type": "code",
   "execution_count": 7,
   "id": "e291e32c",
   "metadata": {},
   "outputs": [
    {
     "data": {
      "text/plain": [
       "index                    Carlton North\n",
       "Suburb                   75 Fenwick St\n",
       "Address                              3\n",
       "Rooms                                h\n",
       "Type                         2050000.0\n",
       "Price                                S\n",
       "Method                          Nelson\n",
       "SellerG                     18/03/2017\n",
       "Date                               3.2\n",
       "Distance                          3054\n",
       "Postcode                           3.0\n",
       "Bedroom                            2.0\n",
       "Bathroom                           0.0\n",
       "Car                               84.0\n",
       "Landsize                         148.0\n",
       "BuildingArea                    1970.0\n",
       "YearBuilt                        Yarra\n",
       "CouncilArea                   -37.7879\n",
       "Lattitude                     144.9736\n",
       "Longtitude       Northern Metropolitan\n",
       "Regionname                      3106.0\n",
       "Propertycount                 -37.7879\n",
       "Coordinates                   144.9736\n",
       "Name: 1690, dtype: object"
      ]
     },
     "execution_count": 7,
     "metadata": {},
     "output_type": "execute_result"
    }
   ],
   "source": [
    "melb_data.iloc[1690]"
   ]
  },
  {
   "cell_type": "code",
   "execution_count": 8,
   "id": "98a1ae54",
   "metadata": {},
   "outputs": [
    {
     "data": {
      "text/html": [
       "<div>\n",
       "<style scoped>\n",
       "    .dataframe tbody tr th:only-of-type {\n",
       "        vertical-align: middle;\n",
       "    }\n",
       "\n",
       "    .dataframe tbody tr th {\n",
       "        vertical-align: top;\n",
       "    }\n",
       "\n",
       "    .dataframe thead th {\n",
       "        text-align: right;\n",
       "    }\n",
       "</style>\n",
       "<table border=\"1\" class=\"dataframe\">\n",
       "  <thead>\n",
       "    <tr style=\"text-align: right;\">\n",
       "      <th></th>\n",
       "      <th>index</th>\n",
       "      <th>Suburb</th>\n",
       "      <th>Address</th>\n",
       "      <th>Rooms</th>\n",
       "      <th>Type</th>\n",
       "      <th>Price</th>\n",
       "      <th>Method</th>\n",
       "      <th>SellerG</th>\n",
       "      <th>Date</th>\n",
       "      <th>Distance</th>\n",
       "      <th>...</th>\n",
       "      <th>Car</th>\n",
       "      <th>Landsize</th>\n",
       "      <th>BuildingArea</th>\n",
       "      <th>YearBuilt</th>\n",
       "      <th>CouncilArea</th>\n",
       "      <th>Lattitude</th>\n",
       "      <th>Longtitude</th>\n",
       "      <th>Regionname</th>\n",
       "      <th>Propertycount</th>\n",
       "      <th>Coordinates</th>\n",
       "    </tr>\n",
       "  </thead>\n",
       "  <tbody>\n",
       "    <tr>\n",
       "      <th>13575</th>\n",
       "      <td>Wheelers Hill</td>\n",
       "      <td>12 Strada Cr</td>\n",
       "      <td>4</td>\n",
       "      <td>h</td>\n",
       "      <td>1245000.0</td>\n",
       "      <td>S</td>\n",
       "      <td>Barry</td>\n",
       "      <td>26/08/2017</td>\n",
       "      <td>16.7</td>\n",
       "      <td>3150</td>\n",
       "      <td>...</td>\n",
       "      <td>652.0</td>\n",
       "      <td>126.0</td>\n",
       "      <td>1981.0</td>\n",
       "      <td>NaN</td>\n",
       "      <td>-37.90562</td>\n",
       "      <td>145.16761</td>\n",
       "      <td>South-Eastern Metropolitan</td>\n",
       "      <td>7392.0</td>\n",
       "      <td>-37.90562</td>\n",
       "      <td>145.16761</td>\n",
       "    </tr>\n",
       "    <tr>\n",
       "      <th>13576</th>\n",
       "      <td>Williamstown</td>\n",
       "      <td>77 Merrett Dr</td>\n",
       "      <td>3</td>\n",
       "      <td>h</td>\n",
       "      <td>1031000.0</td>\n",
       "      <td>SP</td>\n",
       "      <td>Williams</td>\n",
       "      <td>26/08/2017</td>\n",
       "      <td>6.8</td>\n",
       "      <td>3016</td>\n",
       "      <td>...</td>\n",
       "      <td>333.0</td>\n",
       "      <td>133.0</td>\n",
       "      <td>1995.0</td>\n",
       "      <td>NaN</td>\n",
       "      <td>-37.85927</td>\n",
       "      <td>144.87904</td>\n",
       "      <td>Western Metropolitan</td>\n",
       "      <td>6380.0</td>\n",
       "      <td>-37.85927</td>\n",
       "      <td>144.87904</td>\n",
       "    </tr>\n",
       "    <tr>\n",
       "      <th>13577</th>\n",
       "      <td>Williamstown</td>\n",
       "      <td>83 Power St</td>\n",
       "      <td>3</td>\n",
       "      <td>h</td>\n",
       "      <td>1170000.0</td>\n",
       "      <td>S</td>\n",
       "      <td>Raine</td>\n",
       "      <td>26/08/2017</td>\n",
       "      <td>6.8</td>\n",
       "      <td>3016</td>\n",
       "      <td>...</td>\n",
       "      <td>436.0</td>\n",
       "      <td>126.0</td>\n",
       "      <td>1997.0</td>\n",
       "      <td>NaN</td>\n",
       "      <td>-37.85274</td>\n",
       "      <td>144.88738</td>\n",
       "      <td>Western Metropolitan</td>\n",
       "      <td>6380.0</td>\n",
       "      <td>-37.85274</td>\n",
       "      <td>144.88738</td>\n",
       "    </tr>\n",
       "    <tr>\n",
       "      <th>13578</th>\n",
       "      <td>Williamstown</td>\n",
       "      <td>96 Verdon St</td>\n",
       "      <td>4</td>\n",
       "      <td>h</td>\n",
       "      <td>2500000.0</td>\n",
       "      <td>PI</td>\n",
       "      <td>Sweeney</td>\n",
       "      <td>26/08/2017</td>\n",
       "      <td>6.8</td>\n",
       "      <td>3016</td>\n",
       "      <td>...</td>\n",
       "      <td>866.0</td>\n",
       "      <td>157.0</td>\n",
       "      <td>1920.0</td>\n",
       "      <td>NaN</td>\n",
       "      <td>-37.85908</td>\n",
       "      <td>144.89299</td>\n",
       "      <td>Western Metropolitan</td>\n",
       "      <td>6380.0</td>\n",
       "      <td>-37.85908</td>\n",
       "      <td>144.89299</td>\n",
       "    </tr>\n",
       "    <tr>\n",
       "      <th>13579</th>\n",
       "      <td>Yarraville</td>\n",
       "      <td>6 Agnes St</td>\n",
       "      <td>4</td>\n",
       "      <td>h</td>\n",
       "      <td>1285000.0</td>\n",
       "      <td>SP</td>\n",
       "      <td>Village</td>\n",
       "      <td>26/08/2017</td>\n",
       "      <td>6.3</td>\n",
       "      <td>3013</td>\n",
       "      <td>...</td>\n",
       "      <td>362.0</td>\n",
       "      <td>112.0</td>\n",
       "      <td>1920.0</td>\n",
       "      <td>NaN</td>\n",
       "      <td>-37.81188</td>\n",
       "      <td>144.88449</td>\n",
       "      <td>Western Metropolitan</td>\n",
       "      <td>6543.0</td>\n",
       "      <td>-37.81188</td>\n",
       "      <td>144.88449</td>\n",
       "    </tr>\n",
       "  </tbody>\n",
       "</table>\n",
       "<p>5 rows × 23 columns</p>\n",
       "</div>"
      ],
      "text/plain": [
       "               index         Suburb  Address Rooms       Type Price    Method  \\\n",
       "13575  Wheelers Hill   12 Strada Cr        4     h  1245000.0     S     Barry   \n",
       "13576   Williamstown  77 Merrett Dr        3     h  1031000.0    SP  Williams   \n",
       "13577   Williamstown    83 Power St        3     h  1170000.0     S     Raine   \n",
       "13578   Williamstown   96 Verdon St        4     h  2500000.0    PI   Sweeney   \n",
       "13579     Yarraville     6 Agnes St        4     h  1285000.0    SP   Village   \n",
       "\n",
       "          SellerG  Date  Distance  ...    Car  Landsize  BuildingArea  \\\n",
       "13575  26/08/2017  16.7      3150  ...  652.0     126.0        1981.0   \n",
       "13576  26/08/2017   6.8      3016  ...  333.0     133.0        1995.0   \n",
       "13577  26/08/2017   6.8      3016  ...  436.0     126.0        1997.0   \n",
       "13578  26/08/2017   6.8      3016  ...  866.0     157.0        1920.0   \n",
       "13579  26/08/2017   6.3      3013  ...  362.0     112.0        1920.0   \n",
       "\n",
       "       YearBuilt  CouncilArea  Lattitude                  Longtitude  \\\n",
       "13575        NaN    -37.90562  145.16761  South-Eastern Metropolitan   \n",
       "13576        NaN    -37.85927  144.87904        Western Metropolitan   \n",
       "13577        NaN    -37.85274  144.88738        Western Metropolitan   \n",
       "13578        NaN    -37.85908  144.89299        Western Metropolitan   \n",
       "13579        NaN    -37.81188  144.88449        Western Metropolitan   \n",
       "\n",
       "       Regionname  Propertycount Coordinates  \n",
       "13575      7392.0      -37.90562   145.16761  \n",
       "13576      6380.0      -37.85927   144.87904  \n",
       "13577      6380.0      -37.85274   144.88738  \n",
       "13578      6380.0      -37.85908   144.89299  \n",
       "13579      6543.0      -37.81188   144.88449  \n",
       "\n",
       "[5 rows x 23 columns]"
      ]
     },
     "metadata": {},
     "output_type": "display_data"
    }
   ],
   "source": [
    "display(melb_data.tail(5))"
   ]
  },
  {
   "cell_type": "markdown",
   "id": "2c7e3e91",
   "metadata": {},
   "source": [
    "melb_data.shape"
   ]
  },
  {
   "cell_type": "code",
   "execution_count": 9,
   "id": "b6936d2d",
   "metadata": {},
   "outputs": [
    {
     "data": {
      "text/plain": [
       "(13580, 23)"
      ]
     },
     "execution_count": 9,
     "metadata": {},
     "output_type": "execute_result"
    }
   ],
   "source": [
    "melb_data.shape"
   ]
  },
  {
   "cell_type": "code",
   "execution_count": 10,
   "id": "f84624ef",
   "metadata": {},
   "outputs": [
    {
     "name": "stdout",
     "output_type": "stream",
     "text": [
      "<class 'pandas.core.frame.DataFrame'>\n",
      "Int64Index: 13580 entries, 0 to 13579\n",
      "Data columns (total 23 columns):\n",
      " #   Column         Non-Null Count  Dtype  \n",
      "---  ------         --------------  -----  \n",
      " 0   index          13580 non-null  object \n",
      " 1   Suburb         13580 non-null  object \n",
      " 2   Address        13580 non-null  int64  \n",
      " 3   Rooms          13580 non-null  object \n",
      " 4   Type           13580 non-null  float64\n",
      " 5   Price          13580 non-null  object \n",
      " 6   Method         13580 non-null  object \n",
      " 7   SellerG        13580 non-null  object \n",
      " 8   Date           13580 non-null  float64\n",
      " 9   Distance       13580 non-null  int64  \n",
      " 10  Postcode       13580 non-null  float64\n",
      " 11  Bedroom        13580 non-null  float64\n",
      " 12  Bathroom       13580 non-null  float64\n",
      " 13  Car            13580 non-null  float64\n",
      " 14  Landsize       13580 non-null  float64\n",
      " 15  BuildingArea   13580 non-null  float64\n",
      " 16  YearBuilt      12211 non-null  object \n",
      " 17  CouncilArea    13580 non-null  float64\n",
      " 18  Lattitude      13580 non-null  float64\n",
      " 19  Longtitude     13580 non-null  object \n",
      " 20  Regionname     13580 non-null  float64\n",
      " 21  Propertycount  13580 non-null  float64\n",
      " 22  Coordinates    13580 non-null  float64\n",
      "dtypes: float64(13), int64(2), object(8)\n",
      "memory usage: 2.5+ MB\n"
     ]
    }
   ],
   "source": [
    "melb_data.info()"
   ]
  },
  {
   "cell_type": "code",
   "execution_count": 13,
   "id": "5dca5fbc",
   "metadata": {},
   "outputs": [
    {
     "ename": "ValueError",
     "evalue": "invalid literal for int() with base 10: 'Yarra'",
     "output_type": "error",
     "traceback": [
      "\u001b[1;31m---------------------------------------------------------------------------\u001b[0m",
      "\u001b[1;31mValueError\u001b[0m                                Traceback (most recent call last)",
      "\u001b[1;32m~\\AppData\\Local\\Temp/ipykernel_8044/4223220918.py\u001b[0m in \u001b[0;36m<module>\u001b[1;34m\u001b[0m\n\u001b[0;32m      4\u001b[0m \u001b[0mmelb_data\u001b[0m\u001b[1;33m[\u001b[0m\u001b[1;34m'Bathroom'\u001b[0m\u001b[1;33m]\u001b[0m \u001b[1;33m=\u001b[0m \u001b[0mmelb_data\u001b[0m\u001b[1;33m[\u001b[0m\u001b[1;34m'Bathroom'\u001b[0m\u001b[1;33m]\u001b[0m\u001b[1;33m.\u001b[0m\u001b[0mastype\u001b[0m\u001b[1;33m(\u001b[0m\u001b[1;34m'int64'\u001b[0m\u001b[1;33m)\u001b[0m\u001b[1;33m\u001b[0m\u001b[1;33m\u001b[0m\u001b[0m\n\u001b[0;32m      5\u001b[0m \u001b[0mmelb_data\u001b[0m\u001b[1;33m[\u001b[0m\u001b[1;34m'Propertycount'\u001b[0m\u001b[1;33m]\u001b[0m \u001b[1;33m=\u001b[0m \u001b[0mmelb_data\u001b[0m\u001b[1;33m[\u001b[0m\u001b[1;34m'Propertycount'\u001b[0m\u001b[1;33m]\u001b[0m\u001b[1;33m.\u001b[0m\u001b[0mastype\u001b[0m\u001b[1;33m(\u001b[0m\u001b[1;34m'int64'\u001b[0m\u001b[1;33m)\u001b[0m\u001b[1;33m\u001b[0m\u001b[1;33m\u001b[0m\u001b[0m\n\u001b[1;32m----> 6\u001b[1;33m \u001b[0mmelb_data\u001b[0m\u001b[1;33m[\u001b[0m\u001b[1;34m'YearBuilt'\u001b[0m\u001b[1;33m]\u001b[0m \u001b[1;33m=\u001b[0m \u001b[0mmelb_data\u001b[0m\u001b[1;33m[\u001b[0m\u001b[1;34m'YearBuilt'\u001b[0m\u001b[1;33m]\u001b[0m\u001b[1;33m.\u001b[0m\u001b[0mastype\u001b[0m\u001b[1;33m(\u001b[0m\u001b[1;34m'int64'\u001b[0m\u001b[1;33m)\u001b[0m\u001b[1;33m\u001b[0m\u001b[1;33m\u001b[0m\u001b[0m\n\u001b[0m\u001b[0;32m      7\u001b[0m \u001b[0mmelb_data\u001b[0m\u001b[1;33m.\u001b[0m\u001b[0minfo\u001b[0m\u001b[1;33m(\u001b[0m\u001b[1;33m)\u001b[0m\u001b[1;33m\u001b[0m\u001b[1;33m\u001b[0m\u001b[0m\n",
      "\u001b[1;32m~\\anaconda3\\lib\\site-packages\\pandas\\core\\generic.py\u001b[0m in \u001b[0;36mastype\u001b[1;34m(self, dtype, copy, errors)\u001b[0m\n\u001b[0;32m   5875\u001b[0m         \u001b[1;32melse\u001b[0m\u001b[1;33m:\u001b[0m\u001b[1;33m\u001b[0m\u001b[1;33m\u001b[0m\u001b[0m\n\u001b[0;32m   5876\u001b[0m             \u001b[1;31m# else, only a single dtype is given\u001b[0m\u001b[1;33m\u001b[0m\u001b[1;33m\u001b[0m\u001b[1;33m\u001b[0m\u001b[0m\n\u001b[1;32m-> 5877\u001b[1;33m             \u001b[0mnew_data\u001b[0m \u001b[1;33m=\u001b[0m \u001b[0mself\u001b[0m\u001b[1;33m.\u001b[0m\u001b[0m_mgr\u001b[0m\u001b[1;33m.\u001b[0m\u001b[0mastype\u001b[0m\u001b[1;33m(\u001b[0m\u001b[0mdtype\u001b[0m\u001b[1;33m=\u001b[0m\u001b[0mdtype\u001b[0m\u001b[1;33m,\u001b[0m \u001b[0mcopy\u001b[0m\u001b[1;33m=\u001b[0m\u001b[0mcopy\u001b[0m\u001b[1;33m,\u001b[0m \u001b[0merrors\u001b[0m\u001b[1;33m=\u001b[0m\u001b[0merrors\u001b[0m\u001b[1;33m)\u001b[0m\u001b[1;33m\u001b[0m\u001b[1;33m\u001b[0m\u001b[0m\n\u001b[0m\u001b[0;32m   5878\u001b[0m             \u001b[1;32mreturn\u001b[0m \u001b[0mself\u001b[0m\u001b[1;33m.\u001b[0m\u001b[0m_constructor\u001b[0m\u001b[1;33m(\u001b[0m\u001b[0mnew_data\u001b[0m\u001b[1;33m)\u001b[0m\u001b[1;33m.\u001b[0m\u001b[0m__finalize__\u001b[0m\u001b[1;33m(\u001b[0m\u001b[0mself\u001b[0m\u001b[1;33m,\u001b[0m \u001b[0mmethod\u001b[0m\u001b[1;33m=\u001b[0m\u001b[1;34m\"astype\"\u001b[0m\u001b[1;33m)\u001b[0m\u001b[1;33m\u001b[0m\u001b[1;33m\u001b[0m\u001b[0m\n\u001b[0;32m   5879\u001b[0m \u001b[1;33m\u001b[0m\u001b[0m\n",
      "\u001b[1;32m~\\anaconda3\\lib\\site-packages\\pandas\\core\\internals\\managers.py\u001b[0m in \u001b[0;36mastype\u001b[1;34m(self, dtype, copy, errors)\u001b[0m\n\u001b[0;32m    629\u001b[0m         \u001b[0mself\u001b[0m\u001b[1;33m,\u001b[0m \u001b[0mdtype\u001b[0m\u001b[1;33m,\u001b[0m \u001b[0mcopy\u001b[0m\u001b[1;33m:\u001b[0m \u001b[0mbool\u001b[0m \u001b[1;33m=\u001b[0m \u001b[1;32mFalse\u001b[0m\u001b[1;33m,\u001b[0m \u001b[0merrors\u001b[0m\u001b[1;33m:\u001b[0m \u001b[0mstr\u001b[0m \u001b[1;33m=\u001b[0m \u001b[1;34m\"raise\"\u001b[0m\u001b[1;33m\u001b[0m\u001b[1;33m\u001b[0m\u001b[0m\n\u001b[0;32m    630\u001b[0m     ) -> \"BlockManager\":\n\u001b[1;32m--> 631\u001b[1;33m         \u001b[1;32mreturn\u001b[0m \u001b[0mself\u001b[0m\u001b[1;33m.\u001b[0m\u001b[0mapply\u001b[0m\u001b[1;33m(\u001b[0m\u001b[1;34m\"astype\"\u001b[0m\u001b[1;33m,\u001b[0m \u001b[0mdtype\u001b[0m\u001b[1;33m=\u001b[0m\u001b[0mdtype\u001b[0m\u001b[1;33m,\u001b[0m \u001b[0mcopy\u001b[0m\u001b[1;33m=\u001b[0m\u001b[0mcopy\u001b[0m\u001b[1;33m,\u001b[0m \u001b[0merrors\u001b[0m\u001b[1;33m=\u001b[0m\u001b[0merrors\u001b[0m\u001b[1;33m)\u001b[0m\u001b[1;33m\u001b[0m\u001b[1;33m\u001b[0m\u001b[0m\n\u001b[0m\u001b[0;32m    632\u001b[0m \u001b[1;33m\u001b[0m\u001b[0m\n\u001b[0;32m    633\u001b[0m     def convert(\n",
      "\u001b[1;32m~\\anaconda3\\lib\\site-packages\\pandas\\core\\internals\\managers.py\u001b[0m in \u001b[0;36mapply\u001b[1;34m(self, f, align_keys, ignore_failures, **kwargs)\u001b[0m\n\u001b[0;32m    425\u001b[0m                     \u001b[0mapplied\u001b[0m \u001b[1;33m=\u001b[0m \u001b[0mb\u001b[0m\u001b[1;33m.\u001b[0m\u001b[0mapply\u001b[0m\u001b[1;33m(\u001b[0m\u001b[0mf\u001b[0m\u001b[1;33m,\u001b[0m \u001b[1;33m**\u001b[0m\u001b[0mkwargs\u001b[0m\u001b[1;33m)\u001b[0m\u001b[1;33m\u001b[0m\u001b[1;33m\u001b[0m\u001b[0m\n\u001b[0;32m    426\u001b[0m                 \u001b[1;32melse\u001b[0m\u001b[1;33m:\u001b[0m\u001b[1;33m\u001b[0m\u001b[1;33m\u001b[0m\u001b[0m\n\u001b[1;32m--> 427\u001b[1;33m                     \u001b[0mapplied\u001b[0m \u001b[1;33m=\u001b[0m \u001b[0mgetattr\u001b[0m\u001b[1;33m(\u001b[0m\u001b[0mb\u001b[0m\u001b[1;33m,\u001b[0m \u001b[0mf\u001b[0m\u001b[1;33m)\u001b[0m\u001b[1;33m(\u001b[0m\u001b[1;33m**\u001b[0m\u001b[0mkwargs\u001b[0m\u001b[1;33m)\u001b[0m\u001b[1;33m\u001b[0m\u001b[1;33m\u001b[0m\u001b[0m\n\u001b[0m\u001b[0;32m    428\u001b[0m             \u001b[1;32mexcept\u001b[0m \u001b[1;33m(\u001b[0m\u001b[0mTypeError\u001b[0m\u001b[1;33m,\u001b[0m \u001b[0mNotImplementedError\u001b[0m\u001b[1;33m)\u001b[0m\u001b[1;33m:\u001b[0m\u001b[1;33m\u001b[0m\u001b[1;33m\u001b[0m\u001b[0m\n\u001b[0;32m    429\u001b[0m                 \u001b[1;32mif\u001b[0m \u001b[1;32mnot\u001b[0m \u001b[0mignore_failures\u001b[0m\u001b[1;33m:\u001b[0m\u001b[1;33m\u001b[0m\u001b[1;33m\u001b[0m\u001b[0m\n",
      "\u001b[1;32m~\\anaconda3\\lib\\site-packages\\pandas\\core\\internals\\blocks.py\u001b[0m in \u001b[0;36mastype\u001b[1;34m(self, dtype, copy, errors)\u001b[0m\n\u001b[0;32m    671\u001b[0m             \u001b[0mvals1d\u001b[0m \u001b[1;33m=\u001b[0m \u001b[0mvalues\u001b[0m\u001b[1;33m.\u001b[0m\u001b[0mravel\u001b[0m\u001b[1;33m(\u001b[0m\u001b[1;33m)\u001b[0m\u001b[1;33m\u001b[0m\u001b[1;33m\u001b[0m\u001b[0m\n\u001b[0;32m    672\u001b[0m             \u001b[1;32mtry\u001b[0m\u001b[1;33m:\u001b[0m\u001b[1;33m\u001b[0m\u001b[1;33m\u001b[0m\u001b[0m\n\u001b[1;32m--> 673\u001b[1;33m                 \u001b[0mvalues\u001b[0m \u001b[1;33m=\u001b[0m \u001b[0mastype_nansafe\u001b[0m\u001b[1;33m(\u001b[0m\u001b[0mvals1d\u001b[0m\u001b[1;33m,\u001b[0m \u001b[0mdtype\u001b[0m\u001b[1;33m,\u001b[0m \u001b[0mcopy\u001b[0m\u001b[1;33m=\u001b[0m\u001b[1;32mTrue\u001b[0m\u001b[1;33m)\u001b[0m\u001b[1;33m\u001b[0m\u001b[1;33m\u001b[0m\u001b[0m\n\u001b[0m\u001b[0;32m    674\u001b[0m             \u001b[1;32mexcept\u001b[0m \u001b[1;33m(\u001b[0m\u001b[0mValueError\u001b[0m\u001b[1;33m,\u001b[0m \u001b[0mTypeError\u001b[0m\u001b[1;33m)\u001b[0m\u001b[1;33m:\u001b[0m\u001b[1;33m\u001b[0m\u001b[1;33m\u001b[0m\u001b[0m\n\u001b[0;32m    675\u001b[0m                 \u001b[1;31m# e.g. astype_nansafe can fail on object-dtype of strings\u001b[0m\u001b[1;33m\u001b[0m\u001b[1;33m\u001b[0m\u001b[1;33m\u001b[0m\u001b[0m\n",
      "\u001b[1;32m~\\anaconda3\\lib\\site-packages\\pandas\\core\\dtypes\\cast.py\u001b[0m in \u001b[0;36mastype_nansafe\u001b[1;34m(arr, dtype, copy, skipna)\u001b[0m\n\u001b[0;32m   1072\u001b[0m         \u001b[1;31m# work around NumPy brokenness, #1987\u001b[0m\u001b[1;33m\u001b[0m\u001b[1;33m\u001b[0m\u001b[1;33m\u001b[0m\u001b[0m\n\u001b[0;32m   1073\u001b[0m         \u001b[1;32mif\u001b[0m \u001b[0mnp\u001b[0m\u001b[1;33m.\u001b[0m\u001b[0missubdtype\u001b[0m\u001b[1;33m(\u001b[0m\u001b[0mdtype\u001b[0m\u001b[1;33m.\u001b[0m\u001b[0mtype\u001b[0m\u001b[1;33m,\u001b[0m \u001b[0mnp\u001b[0m\u001b[1;33m.\u001b[0m\u001b[0minteger\u001b[0m\u001b[1;33m)\u001b[0m\u001b[1;33m:\u001b[0m\u001b[1;33m\u001b[0m\u001b[1;33m\u001b[0m\u001b[0m\n\u001b[1;32m-> 1074\u001b[1;33m             \u001b[1;32mreturn\u001b[0m \u001b[0mlib\u001b[0m\u001b[1;33m.\u001b[0m\u001b[0mastype_intsafe\u001b[0m\u001b[1;33m(\u001b[0m\u001b[0marr\u001b[0m\u001b[1;33m.\u001b[0m\u001b[0mravel\u001b[0m\u001b[1;33m(\u001b[0m\u001b[1;33m)\u001b[0m\u001b[1;33m,\u001b[0m \u001b[0mdtype\u001b[0m\u001b[1;33m)\u001b[0m\u001b[1;33m.\u001b[0m\u001b[0mreshape\u001b[0m\u001b[1;33m(\u001b[0m\u001b[0marr\u001b[0m\u001b[1;33m.\u001b[0m\u001b[0mshape\u001b[0m\u001b[1;33m)\u001b[0m\u001b[1;33m\u001b[0m\u001b[1;33m\u001b[0m\u001b[0m\n\u001b[0m\u001b[0;32m   1075\u001b[0m \u001b[1;33m\u001b[0m\u001b[0m\n\u001b[0;32m   1076\u001b[0m         \u001b[1;31m# if we have a datetime/timedelta array of objects\u001b[0m\u001b[1;33m\u001b[0m\u001b[1;33m\u001b[0m\u001b[1;33m\u001b[0m\u001b[0m\n",
      "\u001b[1;32mpandas\\_libs\\lib.pyx\u001b[0m in \u001b[0;36mpandas._libs.lib.astype_intsafe\u001b[1;34m()\u001b[0m\n",
      "\u001b[1;31mValueError\u001b[0m: invalid literal for int() with base 10: 'Yarra'"
     ]
    }
   ],
   "source": [
    "melb_data['Postcode'] = melb_data['Postcode'].astype('int64')\n",
    "melb_data['Car'] = melb_data['Car'].astype('int64')\n",
    "melb_data['Bedroom'] = melb_data['Bedroom'].astype('int64')\n",
    "melb_data['Bathroom'] = melb_data['Bathroom'].astype('int64')\n",
    "melb_data['Propertycount'] = melb_data['Propertycount'].astype('int64')\n",
    "melb_data['YearBuilt'] = melb_data['YearBuilt'].astype('int64')\n",
    "melb_data.info()"
   ]
  },
  {
   "cell_type": "code",
   "execution_count": 14,
   "id": "0c7bf2bf",
   "metadata": {},
   "outputs": [
    {
     "ename": "KeyError",
     "evalue": "\"Passing list-likes to .loc or [] with any missing labels is no longer supported. The following labels were missing: Index(['Price'], dtype='object'). See https://pandas.pydata.org/pandas-docs/stable/user_guide/indexing.html#deprecate-loc-reindex-listlike\"",
     "output_type": "error",
     "traceback": [
      "\u001b[1;31m---------------------------------------------------------------------------\u001b[0m",
      "\u001b[1;31mKeyError\u001b[0m                                  Traceback (most recent call last)",
      "\u001b[1;32m~\\AppData\\Local\\Temp/ipykernel_8044/471667512.py\u001b[0m in \u001b[0;36m<module>\u001b[1;34m\u001b[0m\n\u001b[1;32m----> 1\u001b[1;33m \u001b[0mmelb_data\u001b[0m\u001b[1;33m.\u001b[0m\u001b[0mdescribe\u001b[0m\u001b[1;33m(\u001b[0m\u001b[1;33m)\u001b[0m\u001b[1;33m.\u001b[0m\u001b[0mloc\u001b[0m\u001b[1;33m[\u001b[0m\u001b[1;33m:\u001b[0m\u001b[1;33m,\u001b[0m \u001b[1;33m[\u001b[0m\u001b[1;34m'Distance'\u001b[0m\u001b[1;33m,\u001b[0m \u001b[1;34m'BuildingArea'\u001b[0m \u001b[1;33m,\u001b[0m \u001b[1;34m'Price'\u001b[0m\u001b[1;33m]\u001b[0m\u001b[1;33m]\u001b[0m\u001b[1;33m\u001b[0m\u001b[1;33m\u001b[0m\u001b[0m\n\u001b[0m",
      "\u001b[1;32m~\\anaconda3\\lib\\site-packages\\pandas\\core\\indexing.py\u001b[0m in \u001b[0;36m__getitem__\u001b[1;34m(self, key)\u001b[0m\n\u001b[0;32m    887\u001b[0m                     \u001b[1;31m# AttributeError for IntervalTree get_value\u001b[0m\u001b[1;33m\u001b[0m\u001b[1;33m\u001b[0m\u001b[1;33m\u001b[0m\u001b[0m\n\u001b[0;32m    888\u001b[0m                     \u001b[1;32mreturn\u001b[0m \u001b[0mself\u001b[0m\u001b[1;33m.\u001b[0m\u001b[0mobj\u001b[0m\u001b[1;33m.\u001b[0m\u001b[0m_get_value\u001b[0m\u001b[1;33m(\u001b[0m\u001b[1;33m*\u001b[0m\u001b[0mkey\u001b[0m\u001b[1;33m,\u001b[0m \u001b[0mtakeable\u001b[0m\u001b[1;33m=\u001b[0m\u001b[0mself\u001b[0m\u001b[1;33m.\u001b[0m\u001b[0m_takeable\u001b[0m\u001b[1;33m)\u001b[0m\u001b[1;33m\u001b[0m\u001b[1;33m\u001b[0m\u001b[0m\n\u001b[1;32m--> 889\u001b[1;33m             \u001b[1;32mreturn\u001b[0m \u001b[0mself\u001b[0m\u001b[1;33m.\u001b[0m\u001b[0m_getitem_tuple\u001b[0m\u001b[1;33m(\u001b[0m\u001b[0mkey\u001b[0m\u001b[1;33m)\u001b[0m\u001b[1;33m\u001b[0m\u001b[1;33m\u001b[0m\u001b[0m\n\u001b[0m\u001b[0;32m    890\u001b[0m         \u001b[1;32melse\u001b[0m\u001b[1;33m:\u001b[0m\u001b[1;33m\u001b[0m\u001b[1;33m\u001b[0m\u001b[0m\n\u001b[0;32m    891\u001b[0m             \u001b[1;31m# we by definition only have the 0th axis\u001b[0m\u001b[1;33m\u001b[0m\u001b[1;33m\u001b[0m\u001b[1;33m\u001b[0m\u001b[0m\n",
      "\u001b[1;32m~\\anaconda3\\lib\\site-packages\\pandas\\core\\indexing.py\u001b[0m in \u001b[0;36m_getitem_tuple\u001b[1;34m(self, tup)\u001b[0m\n\u001b[0;32m   1067\u001b[0m             \u001b[1;32mreturn\u001b[0m \u001b[0mself\u001b[0m\u001b[1;33m.\u001b[0m\u001b[0m_multi_take\u001b[0m\u001b[1;33m(\u001b[0m\u001b[0mtup\u001b[0m\u001b[1;33m)\u001b[0m\u001b[1;33m\u001b[0m\u001b[1;33m\u001b[0m\u001b[0m\n\u001b[0;32m   1068\u001b[0m \u001b[1;33m\u001b[0m\u001b[0m\n\u001b[1;32m-> 1069\u001b[1;33m         \u001b[1;32mreturn\u001b[0m \u001b[0mself\u001b[0m\u001b[1;33m.\u001b[0m\u001b[0m_getitem_tuple_same_dim\u001b[0m\u001b[1;33m(\u001b[0m\u001b[0mtup\u001b[0m\u001b[1;33m)\u001b[0m\u001b[1;33m\u001b[0m\u001b[1;33m\u001b[0m\u001b[0m\n\u001b[0m\u001b[0;32m   1070\u001b[0m \u001b[1;33m\u001b[0m\u001b[0m\n\u001b[0;32m   1071\u001b[0m     \u001b[1;32mdef\u001b[0m \u001b[0m_get_label\u001b[0m\u001b[1;33m(\u001b[0m\u001b[0mself\u001b[0m\u001b[1;33m,\u001b[0m \u001b[0mlabel\u001b[0m\u001b[1;33m,\u001b[0m \u001b[0maxis\u001b[0m\u001b[1;33m:\u001b[0m \u001b[0mint\u001b[0m\u001b[1;33m)\u001b[0m\u001b[1;33m:\u001b[0m\u001b[1;33m\u001b[0m\u001b[1;33m\u001b[0m\u001b[0m\n",
      "\u001b[1;32m~\\anaconda3\\lib\\site-packages\\pandas\\core\\indexing.py\u001b[0m in \u001b[0;36m_getitem_tuple_same_dim\u001b[1;34m(self, tup)\u001b[0m\n\u001b[0;32m    773\u001b[0m                 \u001b[1;32mcontinue\u001b[0m\u001b[1;33m\u001b[0m\u001b[1;33m\u001b[0m\u001b[0m\n\u001b[0;32m    774\u001b[0m \u001b[1;33m\u001b[0m\u001b[0m\n\u001b[1;32m--> 775\u001b[1;33m             \u001b[0mretval\u001b[0m \u001b[1;33m=\u001b[0m \u001b[0mgetattr\u001b[0m\u001b[1;33m(\u001b[0m\u001b[0mretval\u001b[0m\u001b[1;33m,\u001b[0m \u001b[0mself\u001b[0m\u001b[1;33m.\u001b[0m\u001b[0mname\u001b[0m\u001b[1;33m)\u001b[0m\u001b[1;33m.\u001b[0m\u001b[0m_getitem_axis\u001b[0m\u001b[1;33m(\u001b[0m\u001b[0mkey\u001b[0m\u001b[1;33m,\u001b[0m \u001b[0maxis\u001b[0m\u001b[1;33m=\u001b[0m\u001b[0mi\u001b[0m\u001b[1;33m)\u001b[0m\u001b[1;33m\u001b[0m\u001b[1;33m\u001b[0m\u001b[0m\n\u001b[0m\u001b[0;32m    776\u001b[0m             \u001b[1;31m# We should never have retval.ndim < self.ndim, as that should\u001b[0m\u001b[1;33m\u001b[0m\u001b[1;33m\u001b[0m\u001b[1;33m\u001b[0m\u001b[0m\n\u001b[0;32m    777\u001b[0m             \u001b[1;31m#  be handled by the _getitem_lowerdim call above.\u001b[0m\u001b[1;33m\u001b[0m\u001b[1;33m\u001b[0m\u001b[1;33m\u001b[0m\u001b[0m\n",
      "\u001b[1;32m~\\anaconda3\\lib\\site-packages\\pandas\\core\\indexing.py\u001b[0m in \u001b[0;36m_getitem_axis\u001b[1;34m(self, key, axis)\u001b[0m\n\u001b[0;32m   1111\u001b[0m                     \u001b[1;32mraise\u001b[0m \u001b[0mValueError\u001b[0m\u001b[1;33m(\u001b[0m\u001b[1;34m\"Cannot index with multidimensional key\"\u001b[0m\u001b[1;33m)\u001b[0m\u001b[1;33m\u001b[0m\u001b[1;33m\u001b[0m\u001b[0m\n\u001b[0;32m   1112\u001b[0m \u001b[1;33m\u001b[0m\u001b[0m\n\u001b[1;32m-> 1113\u001b[1;33m                 \u001b[1;32mreturn\u001b[0m \u001b[0mself\u001b[0m\u001b[1;33m.\u001b[0m\u001b[0m_getitem_iterable\u001b[0m\u001b[1;33m(\u001b[0m\u001b[0mkey\u001b[0m\u001b[1;33m,\u001b[0m \u001b[0maxis\u001b[0m\u001b[1;33m=\u001b[0m\u001b[0maxis\u001b[0m\u001b[1;33m)\u001b[0m\u001b[1;33m\u001b[0m\u001b[1;33m\u001b[0m\u001b[0m\n\u001b[0m\u001b[0;32m   1114\u001b[0m \u001b[1;33m\u001b[0m\u001b[0m\n\u001b[0;32m   1115\u001b[0m             \u001b[1;31m# nested tuple slicing\u001b[0m\u001b[1;33m\u001b[0m\u001b[1;33m\u001b[0m\u001b[1;33m\u001b[0m\u001b[0m\n",
      "\u001b[1;32m~\\anaconda3\\lib\\site-packages\\pandas\\core\\indexing.py\u001b[0m in \u001b[0;36m_getitem_iterable\u001b[1;34m(self, key, axis)\u001b[0m\n\u001b[0;32m   1051\u001b[0m \u001b[1;33m\u001b[0m\u001b[0m\n\u001b[0;32m   1052\u001b[0m         \u001b[1;31m# A collection of keys\u001b[0m\u001b[1;33m\u001b[0m\u001b[1;33m\u001b[0m\u001b[1;33m\u001b[0m\u001b[0m\n\u001b[1;32m-> 1053\u001b[1;33m         \u001b[0mkeyarr\u001b[0m\u001b[1;33m,\u001b[0m \u001b[0mindexer\u001b[0m \u001b[1;33m=\u001b[0m \u001b[0mself\u001b[0m\u001b[1;33m.\u001b[0m\u001b[0m_get_listlike_indexer\u001b[0m\u001b[1;33m(\u001b[0m\u001b[0mkey\u001b[0m\u001b[1;33m,\u001b[0m \u001b[0maxis\u001b[0m\u001b[1;33m,\u001b[0m \u001b[0mraise_missing\u001b[0m\u001b[1;33m=\u001b[0m\u001b[1;32mFalse\u001b[0m\u001b[1;33m)\u001b[0m\u001b[1;33m\u001b[0m\u001b[1;33m\u001b[0m\u001b[0m\n\u001b[0m\u001b[0;32m   1054\u001b[0m         return self.obj._reindex_with_indexers(\n\u001b[0;32m   1055\u001b[0m             \u001b[1;33m{\u001b[0m\u001b[0maxis\u001b[0m\u001b[1;33m:\u001b[0m \u001b[1;33m[\u001b[0m\u001b[0mkeyarr\u001b[0m\u001b[1;33m,\u001b[0m \u001b[0mindexer\u001b[0m\u001b[1;33m]\u001b[0m\u001b[1;33m}\u001b[0m\u001b[1;33m,\u001b[0m \u001b[0mcopy\u001b[0m\u001b[1;33m=\u001b[0m\u001b[1;32mTrue\u001b[0m\u001b[1;33m,\u001b[0m \u001b[0mallow_dups\u001b[0m\u001b[1;33m=\u001b[0m\u001b[1;32mTrue\u001b[0m\u001b[1;33m\u001b[0m\u001b[1;33m\u001b[0m\u001b[0m\n",
      "\u001b[1;32m~\\anaconda3\\lib\\site-packages\\pandas\\core\\indexing.py\u001b[0m in \u001b[0;36m_get_listlike_indexer\u001b[1;34m(self, key, axis, raise_missing)\u001b[0m\n\u001b[0;32m   1264\u001b[0m             \u001b[0mkeyarr\u001b[0m\u001b[1;33m,\u001b[0m \u001b[0mindexer\u001b[0m\u001b[1;33m,\u001b[0m \u001b[0mnew_indexer\u001b[0m \u001b[1;33m=\u001b[0m \u001b[0max\u001b[0m\u001b[1;33m.\u001b[0m\u001b[0m_reindex_non_unique\u001b[0m\u001b[1;33m(\u001b[0m\u001b[0mkeyarr\u001b[0m\u001b[1;33m)\u001b[0m\u001b[1;33m\u001b[0m\u001b[1;33m\u001b[0m\u001b[0m\n\u001b[0;32m   1265\u001b[0m \u001b[1;33m\u001b[0m\u001b[0m\n\u001b[1;32m-> 1266\u001b[1;33m         \u001b[0mself\u001b[0m\u001b[1;33m.\u001b[0m\u001b[0m_validate_read_indexer\u001b[0m\u001b[1;33m(\u001b[0m\u001b[0mkeyarr\u001b[0m\u001b[1;33m,\u001b[0m \u001b[0mindexer\u001b[0m\u001b[1;33m,\u001b[0m \u001b[0maxis\u001b[0m\u001b[1;33m,\u001b[0m \u001b[0mraise_missing\u001b[0m\u001b[1;33m=\u001b[0m\u001b[0mraise_missing\u001b[0m\u001b[1;33m)\u001b[0m\u001b[1;33m\u001b[0m\u001b[1;33m\u001b[0m\u001b[0m\n\u001b[0m\u001b[0;32m   1267\u001b[0m         \u001b[1;32mreturn\u001b[0m \u001b[0mkeyarr\u001b[0m\u001b[1;33m,\u001b[0m \u001b[0mindexer\u001b[0m\u001b[1;33m\u001b[0m\u001b[1;33m\u001b[0m\u001b[0m\n\u001b[0;32m   1268\u001b[0m \u001b[1;33m\u001b[0m\u001b[0m\n",
      "\u001b[1;32m~\\anaconda3\\lib\\site-packages\\pandas\\core\\indexing.py\u001b[0m in \u001b[0;36m_validate_read_indexer\u001b[1;34m(self, key, indexer, axis, raise_missing)\u001b[0m\n\u001b[0;32m   1319\u001b[0m \u001b[1;33m\u001b[0m\u001b[0m\n\u001b[0;32m   1320\u001b[0m             \u001b[1;32mwith\u001b[0m \u001b[0moption_context\u001b[0m\u001b[1;33m(\u001b[0m\u001b[1;34m\"display.max_seq_items\"\u001b[0m\u001b[1;33m,\u001b[0m \u001b[1;36m10\u001b[0m\u001b[1;33m,\u001b[0m \u001b[1;34m\"display.width\"\u001b[0m\u001b[1;33m,\u001b[0m \u001b[1;36m80\u001b[0m\u001b[1;33m)\u001b[0m\u001b[1;33m:\u001b[0m\u001b[1;33m\u001b[0m\u001b[1;33m\u001b[0m\u001b[0m\n\u001b[1;32m-> 1321\u001b[1;33m                 raise KeyError(\n\u001b[0m\u001b[0;32m   1322\u001b[0m                     \u001b[1;34m\"Passing list-likes to .loc or [] with any missing labels \"\u001b[0m\u001b[1;33m\u001b[0m\u001b[1;33m\u001b[0m\u001b[0m\n\u001b[0;32m   1323\u001b[0m                     \u001b[1;34m\"is no longer supported. \"\u001b[0m\u001b[1;33m\u001b[0m\u001b[1;33m\u001b[0m\u001b[0m\n",
      "\u001b[1;31mKeyError\u001b[0m: \"Passing list-likes to .loc or [] with any missing labels is no longer supported. The following labels were missing: Index(['Price'], dtype='object'). See https://pandas.pydata.org/pandas-docs/stable/user_guide/indexing.html#deprecate-loc-reindex-listlike\""
     ]
    }
   ],
   "source": [
    "melb_data.describe().loc[:, ['Distance', 'BuildingArea' , 'Price']]"
   ]
  },
  {
   "cell_type": "code",
   "execution_count": 15,
   "id": "025db01e",
   "metadata": {},
   "outputs": [
    {
     "data": {
      "text/html": [
       "<div>\n",
       "<style scoped>\n",
       "    .dataframe tbody tr th:only-of-type {\n",
       "        vertical-align: middle;\n",
       "    }\n",
       "\n",
       "    .dataframe tbody tr th {\n",
       "        vertical-align: top;\n",
       "    }\n",
       "\n",
       "    .dataframe thead th {\n",
       "        text-align: right;\n",
       "    }\n",
       "</style>\n",
       "<table border=\"1\" class=\"dataframe\">\n",
       "  <thead>\n",
       "    <tr style=\"text-align: right;\">\n",
       "      <th></th>\n",
       "      <th>index</th>\n",
       "      <th>Suburb</th>\n",
       "      <th>Rooms</th>\n",
       "      <th>Price</th>\n",
       "      <th>Method</th>\n",
       "      <th>SellerG</th>\n",
       "      <th>YearBuilt</th>\n",
       "      <th>Longtitude</th>\n",
       "    </tr>\n",
       "  </thead>\n",
       "  <tbody>\n",
       "    <tr>\n",
       "      <th>count</th>\n",
       "      <td>13580</td>\n",
       "      <td>13580</td>\n",
       "      <td>13580</td>\n",
       "      <td>13580</td>\n",
       "      <td>13580</td>\n",
       "      <td>13580</td>\n",
       "      <td>12211</td>\n",
       "      <td>13580</td>\n",
       "    </tr>\n",
       "    <tr>\n",
       "      <th>unique</th>\n",
       "      <td>314</td>\n",
       "      <td>13378</td>\n",
       "      <td>3</td>\n",
       "      <td>5</td>\n",
       "      <td>268</td>\n",
       "      <td>58</td>\n",
       "      <td>33</td>\n",
       "      <td>8</td>\n",
       "    </tr>\n",
       "    <tr>\n",
       "      <th>top</th>\n",
       "      <td>Reservoir</td>\n",
       "      <td>2 Bruce St</td>\n",
       "      <td>h</td>\n",
       "      <td>S</td>\n",
       "      <td>Nelson</td>\n",
       "      <td>27/05/2017</td>\n",
       "      <td>Moreland</td>\n",
       "      <td>Southern Metropolitan</td>\n",
       "    </tr>\n",
       "    <tr>\n",
       "      <th>freq</th>\n",
       "      <td>359</td>\n",
       "      <td>3</td>\n",
       "      <td>9449</td>\n",
       "      <td>9022</td>\n",
       "      <td>1565</td>\n",
       "      <td>473</td>\n",
       "      <td>1163</td>\n",
       "      <td>4695</td>\n",
       "    </tr>\n",
       "  </tbody>\n",
       "</table>\n",
       "</div>"
      ],
      "text/plain": [
       "            index      Suburb  Rooms  Price  Method     SellerG YearBuilt  \\\n",
       "count       13580       13580  13580  13580   13580       13580     12211   \n",
       "unique        314       13378      3      5     268          58        33   \n",
       "top     Reservoir  2 Bruce St      h      S  Nelson  27/05/2017  Moreland   \n",
       "freq          359           3   9449   9022    1565         473      1163   \n",
       "\n",
       "                   Longtitude  \n",
       "count                   13580  \n",
       "unique                      8  \n",
       "top     Southern Metropolitan  \n",
       "freq                     4695  "
      ]
     },
     "execution_count": 15,
     "metadata": {},
     "output_type": "execute_result"
    }
   ],
   "source": [
    "melb_data.describe(include=['object'])\n"
   ]
  },
  {
   "cell_type": "code",
   "execution_count": 16,
   "id": "ea78c64b",
   "metadata": {},
   "outputs": [
    {
     "data": {
      "text/plain": [
       "1100000.0    0.008321\n",
       "1300000.0    0.008027\n",
       "800000.0     0.008027\n",
       "650000.0     0.008027\n",
       "600000.0     0.007658\n",
       "               ...   \n",
       "615888.0     0.000074\n",
       "1172500.0    0.000074\n",
       "519500.0     0.000074\n",
       "1728000.0    0.000074\n",
       "5050000.0    0.000074\n",
       "Name: Type, Length: 2204, dtype: float64"
      ]
     },
     "execution_count": 16,
     "metadata": {},
     "output_type": "execute_result"
    }
   ],
   "source": [
    "melb_data['Type'].value_counts(normalize=True)\n"
   ]
  },
  {
   "cell_type": "code",
   "execution_count": 17,
   "id": "f3e9320b",
   "metadata": {},
   "outputs": [
    {
     "name": "stdout",
     "output_type": "stream",
     "text": [
      "433014\n"
     ]
    }
   ],
   "source": [
    "print(melb_data['Car'].max())"
   ]
  },
  {
   "cell_type": "code",
   "execution_count": 19,
   "id": "18b4401a",
   "metadata": {},
   "outputs": [
    {
     "ename": "TypeError",
     "evalue": "can't multiply sequence by non-int of type 'float'",
     "output_type": "error",
     "traceback": [
      "\u001b[1;31m---------------------------------------------------------------------------\u001b[0m",
      "\u001b[1;31mTypeError\u001b[0m                                 Traceback (most recent call last)",
      "\u001b[1;32m~\\AppData\\Local\\Temp/ipykernel_8044/213088166.py\u001b[0m in \u001b[0;36m<module>\u001b[1;34m\u001b[0m\n\u001b[0;32m      1\u001b[0m \u001b[0mrate\u001b[0m \u001b[1;33m=\u001b[0m \u001b[1;36m0.12\u001b[0m\u001b[1;33m\u001b[0m\u001b[1;33m\u001b[0m\u001b[0m\n\u001b[1;32m----> 2\u001b[1;33m \u001b[0mincome\u001b[0m \u001b[1;33m=\u001b[0m \u001b[0mmelb_data\u001b[0m\u001b[1;33m[\u001b[0m\u001b[1;34m'Price'\u001b[0m\u001b[1;33m]\u001b[0m\u001b[1;33m.\u001b[0m\u001b[0msum\u001b[0m\u001b[1;33m(\u001b[0m\u001b[1;33m)\u001b[0m \u001b[1;33m*\u001b[0m \u001b[0mrate\u001b[0m\u001b[1;33m\u001b[0m\u001b[1;33m\u001b[0m\u001b[0m\n\u001b[0m\u001b[0;32m      3\u001b[0m \u001b[0mprint\u001b[0m\u001b[1;33m(\u001b[0m\u001b[1;34m'Total income of real estate agencies:'\u001b[0m\u001b[1;33m,\u001b[0m \u001b[0mround\u001b[0m\u001b[1;33m(\u001b[0m\u001b[0mincome\u001b[0m\u001b[1;33m,\u001b[0m \u001b[1;36m2\u001b[0m\u001b[1;33m)\u001b[0m\u001b[1;33m)\u001b[0m\u001b[1;33m\u001b[0m\u001b[1;33m\u001b[0m\u001b[0m\n",
      "\u001b[1;31mTypeError\u001b[0m: can't multiply sequence by non-int of type 'float'"
     ]
    }
   ],
   "source": [
    "rate = 0.12\n",
    "income = melb_data['Price'].sum() * rate\n",
    "print('Total income of real estate agencies:', round(income, 2))"
   ]
  },
  {
   "cell_type": "code",
   "execution_count": 20,
   "id": "e06df9bf",
   "metadata": {},
   "outputs": [
    {
     "ename": "TypeError",
     "evalue": "Could not convert SSSPPIVBSSSSSVBVBSSSPSSSSSPISSSPISSPPISSSSSSSSPSSPIVBSPSSSVBSSSPSSSPISSSPIPISSSPSSSSPISSSPSPSSSSSSPISSSSPISSSSSVBVBSVBSPISSSSSSSSVBSSVBSSPPISSSSSSSSSSPIVBSSSSSSSSSPISSSSSPVBSPSSSPSPSVBSSSPISPSSPVBSSSSPSSSSSSPSPSSPSPSSPSSPSPISSPSSPISSSSSPSSPSSSSPSSSPSSSSVBSPISPVBSSPSSSPSSPSSPSPSSSSSSSSSSPSPPISSVBSSSSSSSPSPSVBSVBPIPISSSSPPIPISSSSSPIPISSSSSVBSPPISVBSSPVBSSPPISSSSSSSVBSSPISSSSSPSSSSPSPVBSSSPPIPISPSSSSPISPSSSSPISSPSSSVBSPISSPISSVBSSSSSPSSPSPSSSSSPSSSSSSSSVBSSSSPIPIPISSSSSPSPIPISSPIPIPIPISSSSSSSSSSSSVBSSPISSSPSSSVBSSSSSSSSVBSSSPIVBSSSSPISSPISSSSSPVBSSSPISPSSVBSSSSSSSSSSSSSSSSVBSSSPSSSSVBSSSSSSPSSPISSPSPSSSPSSASSSPSVBSSSPISSPSSSPSPSPISSSSSSSPSSPSPIVBSSSSPSSSSSSVBSSPPISVBSSAPIVBSPISVBSPISSSVBSPIVBSVBPISSPPISSVBSPISSSSPSPISPIVBSSSVBSASVBSSSPIVBVBSPIVBSSSSSVBPISPISSVBVBSPISSSSPISPSVBPISPISSPISPIVBSPISSSVBSSSSPPIPISPISSVBSVBVBPIPIPISSVBPISPIVBSSSSPSVBVBSPSVBVBSPSPISPISPIPISSPPISSSSPISSPSSPISPISSSVBSSPVBSVBSVBVBSSSVBSPIPIVBSSSSSSVBSPIPIVBSVBPIPISSSSSPISSSSSPISPIVBSSPISSSPIPISSSPSSSSSVBSPSPSPSSSPISSPIPISSSSPSSSSSPISSSSSSSSSVBPISSSSSSSSPISSSSSPISPIPISSSSSSSSSSSSSSPISSSSPSSSSSPISSSSSPISSPISSSSSVBPISPISSSSPISSPPISPSSSSSSSSSSSSSSSVBSSSSSPISSPISSPISSSSSPISSPSPIPISSSPSSSPIPIPISSSSSSVBSSSSSSPSSSSPISPIPISSSSSSSSPSSSSPVBSPSSPSPISSSVBSSSSSSPISPISSSSSPSSSPVBPISSSSSSSSVBPISSSSPISPIVBSPISPISSSSSSSPISSSSSSSPISPSPSSPSSSSVBSSSSPSSSSSSSSPVBSSSSSSVBSSSSSSVBSSSPSSSSPSSASSSSSSSVBSSSSSPSSSPISSSSVBSSSSPSSSSSSSSPISSSSSSSSSSVBSSSSSPSVBSPIPISPISSSPIPISSSPISPISSSSSSVBSPVBSSSSSSSSSSVBPISSSSSSSSSSSSPSVBSVBSPSPSSSSSSPISSSSSSPSPSPISPISSPSSSSSSSSSSSSVBVBSSSPPISPSPISPSSSSPIVBVBPISSSPIVBVBPISPVBSSPISSSVBPIVBPISSSSSSPSSSSASPISPPISSSPIPISSSSSPISPISSSSPPIVBSSPISPSSVBSPSSSSSSSSSSSSSSSSSSSSVBSSPSPIPISSPPIPISSPISSSSSSSPISSSSSPISSSSPISSSSSSSSPSSSSVBSPSSSSPSSVBSSSSSSSSSSPSPISSSSSPISPISSSPSSSPISSSSSSSSPSSSSPPISSSSSSSSSSSSPSSSPIVBSSPIPIPISSPPISPISPISSSSSSPSSSSSSSPISSSSSSPISSPVBSPSPISSPSPSSSSPISSSPSPISVBSSSSSSPSSSSSSPISPSPISSSSVBSSPIPISVBSSVBPIVBSSSPISSPPISSPISSSPSPISPISPISSSSSPSSSSPISPSSSSPISPPIVBSSSSSPIPIPIVBSSSSSSSSSASSVBSSPISSSSSPIVBSSPSPISSSSSPSSSSSSSSSSSPIPIPISVBSASSSSVBPISSSSASSVBSPISPSSSPIVBSPSVBVBPISPSSSVBSSSSPPISPVBVBPISSSPISPPISSVBPIPISSSSSSPPIPISSSSSSSSSVBSSSPPISSSSSSSSPPISPIVBSPISSSPISSSPIVBSSSSSPIPISVBSPISVBSSSPPISSSVBSSSSSVBSSSVBSPSSPISSSSSSSSSSSSSSSSSVBVBSSSSPSSSSSSSSPSSSPISPSSVBSVBSSSSVBSSSPPISSPISSSVBVBSASSSVBPISSPIPISSSPSSSSSPSSSSSSSPSSPISSSSSSSSPISPIPIPISSSVBSSSSSSSSSSSSSSSSSSSPSSVBSPPISSSSPPISPVBVBSPSSSPSSPSSPISSSVBSSSPISSSSSVBSSVBSSSSPISSSSSSSSSSSVBSSVBSSVBSSSSSSPISPPISSSSSSPSSSSSSSSSSSSSPSSSVBSSSPSVBVBSSSSSPSPSSVBSVBSPSSSSSSPISSSSVBSPIPISSSSPPIVBSSPSSVBSSSSSPPISSSPSSSSVBSSPSSPSSSSPSVBSVBSPPISSSSSPISSPISSPSSPSSSSSSPISSSVBSSSSPSSPISVBSPSSASSSSPISPISSSSSPISSSPSVBSSPSSPISPSSSPSSSPISSSPSSPSSSPSPSPSSSPSSSSSPPISSSSPSSSSSSSSSSPISSSSSPSPSSSSSSSSSSPSSSPVBSPSSPSSSSSSPISSSSSSPSSSSVBSSPSSSSSVBSSPISSSSSPISPSPIVBPISSPIPISSSSVBSSSPISSSSPISSPSSSPSSSSSPIPISSSSPISPSSSPIPISPSVBSPISSSSPSSSSSPISSSPVBSSSSSSSVBSSSSSVBSPSVBVBSSSVBSSVBSSSPSSSSPIVBPISPVBSVBPISSSSSSSVBPIPIVBSSSSPISSPSSPISVBSSSSPSSSSSSSSSVBSPISSSSPISSVBPISSVBPIPISSPISSSSSSSSSSSPISSSSPPISSPPIPISPSVBSPSPISSVBSPISSPSSSSSPSPSVBVBSPPISPISSPISPIVBSSVBVBPISSSSPSSSSSSVBSPISSPPISSSSSPISSSSSSSPISSSSSSSSPISSSSSVBSVBVBSSSVBSPSSSSSPISPSSSPIPISSSSSSVBSSSSSSPSSSSVBPIVBVBSSPSPSPSPSSSSSSPSSPVBSSSSSSSVBVBSPVBSPISPISSSPISSSSPISPISSVBSSSSSSSSPSSPSSSSVBPISSSPIPISSPVBSSSSSPISVBVBPIVBVBSSSSSPSVBSSPSSSSSSSSPISSSSVBPISSSSSSPSSVBSSSPSSSSVBSVBSSSPSSSVBSSPSSPVBSASSSSSSSSSVBSSSSSSSSPSSVBSSSSPVBSSSSVBSSSSSSVBSVBSSSSSSPISSSSPISPSPVBSSSPSPISPSSPPISPSSSSSPSPISVBSSSPVBSPSVBSPVBSSSPISPSPSSSSSSSSSPPIPISSPISSPSPISSSSSSPSSSSPPISSVBSSSPSSSPSPSPSSSSPISSPSPISSSPVBSSPSPSSPSSPVBSPSSPISSPPISPSSSPSSPISSSPSSSSPPISSPSSSSVBPIVBSSSSSSPISPISPISVBSPVBVBSSSSSSSSPSSSVBSPISPISSSPVBSSSPSPIVBSSPSPSSSPIPIPISSPSPIPISSSSSPSVBSSPISSSSSSSPSSPIPISPISPISPIVBSVBSSSPSSSPIVBSSSSSSSSSVBSSPIPISSSSSSSPISVBPISSSPSSPIPIVBSSPSPISSVBSPSSSSSPPISSSPISSSSVBSSPSSSSSSPISPSSSSSPISSPISSSPSPSSSSSSPSSPSSPSSPPISPSPSPSSSSSPISSSSVBSPSPSSPISSSSSSSSPISPSVBPISPISPPISPSSSSSSSSPSSPSSSSSSSSSSSSSSPPISSSPSSPVBVBSSSSSSSSSPSSSSSSSVBVBSSPVBSVBPIVBSSPISSSSVBPISPISSSPSSPISPIPISPSASSSSSSSSPSSSSSSSPISPISPISSSSSSPISPSSPSSPISSPISVBVBSSSSSSSSSSSSSSSSSSSPISSSSSPISSSSVBSPISSSSSSSVBSPISSSSSSSPISSSSVBSPPISSSSSSSSSSVBSSSPIVBSSSVBSPIVBSSSSPIVBSSPISVBSPSSPIVBPISSVBSVBSVBVBSSPSSSSSSSSSSSSSSVBSSSSPSSPIPIPISSSVBSVBSSPSSSSVBSSSSSPSSSVBVBSSSSSVBSSSSPSSVBSSVBSPSSSPSPSPISSVBSPSSVBSSSSSSPSPSSSVBSSSSSSSSSSSSPIPISPSPSSSSSPIPISVBSPISSSSSSSSSPSSPISSPSSSSSSSSSSSVBSSSSSSPISSSSSPIVBVBSPSSVBSPSSSSSSSSSSSSSSSSSSSSSSSSPSSVBSSVBSSPSVBSSSSSSPIVBSSVBSSSSSSPSSSPSSSSPISPIPISPSPSSPSSSSPSPSSSPSPVBSPSSPSPSSSSVBSSSSSSPSSSSSSSSSSPSSSSSSSSVBPISPSSSSSSSSPSSSSSSSSPISPSSSSSPSPPISSSPISSSSSSPSSPSSSSSSSSVBSSSPSPSSPISSSSSPSPSSPIVBSVBSSSSPVBVBSSPSSSSSSPVBSSPSSPSPSSPSSPSVBPISSPPISSPSSSSSPISSPSPSSSSSSSVBSSPPISSPSSSSSVBSSSVBSSVBSSSSPPISSSSSSSSSSSPIPISSSSPISPSSSSVBPISSSVBSSSPISSSPISSPISVBVBSVBSPIVBVBSSVBSPSSSSSSVBSPISSSSPIVBSPISPPISSVBVBPISPISVBSSSSVBSSSPISPISSSSPSSVBSVBVBSASSPSSSSSSSSPISSPSPSSPSPSSPSPSSPSSPISPPISSPSSPSPSPSSSSPIPISSSSPISSPSPSPSVBPISPSSSSPSSSSPSSSSVBSSSVBSVBSSSSPSSPIVBSSSPSSSSVBSPSSSSPISSSPPISSSSSSPIVBVBSSPSSSSPISVBSSPISPIPISVBVBSSSSSSSPVBVBSSPPIPISSSPSSSSVBVBVBPISSPISSPIPISSSSSSPISSSSSSPISSPIPISPSSSPISSSSSSPISPSVBSVBVBSSSPSSPPIPIVBVBSPSPSPSSPSSSSSSVBSPSSPSPSSPSSSPPISSSPIPISSSSVBSSVBSPSSSVBSVBSPPISPPISSPSSPISPSSSPIPISSSSPVBSSVBVBSSSSPSVBVBSSSSPSPVBSVBVBSPISVBVBSSVBVBSSSVBSSVBPIVBSSSSVBSSSPSSSPSSSSVBSPPISPSSSPPIPISSPISPISSSSSVBPISSSVBSSSSSVBSSSPSPISSPSVBSSPSPISVBSSVBSSPISSSSSSPSSSSVBVBVBSPSSVBSVBSVBSSSSPSSPSSSSSPSPISVBSSSSPVBSSPSPSPSSSSPISSPSSSSSPSSPSVBSSPSSVBSSSSSSSSSSVBSPSSSSPSSPSAPISSSSSSSSSSSSSSSSSSPISSPPISSPISSSSSSSPISVBSSPSSPSSSSVBVBSSSPSSPIPISPSSSSPISSPSPSPSSPSSSSSSSSSSSSSPSSSSSSPSSSSSSSSSSPSSSPSPSPSPSPPISSPSSSPSSSSPSSPSPISSSPSSSSSPSSSPSPIPISSPSSSSSSPPISSSSSSSSSSPVBSSSSVBSSPSSSSSSPSSSPSSPISSPISSPISSSSPSSSSSSSPSASVBSPVBVBSSSSSSSPSVBSSPISSPSSVBSSSSSPSPSVBSSPSPSVBSSSSSPSSSASVBPISSSSPISPSPSPSPPIVBPISASSPSSSSSSPISSSSPSSSPISSSPISSSSSPISSSSSPSSPISPSPSSSSSSSSPSPSSPISSPSSSSSSSSSVBSSSSPISPSSSPSSSPSVBSSSSSSSSVBSSSPPISVBPISSPIVBSSPSSSPIPIPISSSSSSSPIPISSSSSSPISSPISSPSPSSSSPSVBSPPISVBSSSSSPISSSSSPPISSSSSPSSSPPISSSSSSSSSSPSSSSSSSPSSPISSSSSSPSSPSSSSPSSSPSSSSSSSSSSSSSSPIPISPSPSSSSSSSSSPSPISPVBSSVBSSSSPISVBSPVBSSSPPISPISPSSPSSPSSSSPSPSVBVBVBPIVBSSSSSSPSPSVBPISSSSPVBSSSPSSSVBSSPPISSSSSSVBSPSVBVBSSPSPIVBSSSPVBSSSVBVBSSSSVBSVBSSSVBSSPSSPSSVBSSPISSSSSSPISSSSSVBSSSPSSVBSPSSSSSSSSSPISSSSPSSSSPISVBSPVBSSSPSSPISSPISSSSSVBSSPISSSVBSPISSSSPVBSPISSSSSSPISVBSVBPISSSSSPSPISPISSSPISVBSSPISVBSSAVBSSVBPISSSSSSSVBSSSPISSSSPISSSSSSPSSSSPSSSSVBSSSSPPISSSSSPISSPISSPSSSSPISSPISSSSSSVBSPISSPSSSPISSPSPISSPISVBPIPISPSPSSSPSPISSSSSSSSSSSPPISSPSSPSSPISSPISVBSSSSPSPISSSSSSSPSSPSVBSSSSPISSSSVBPISSPSSPSPSSSSSSSSSPISSSPIPISPISSSSSSPVBPISSSSSSSPSPISPIPISPISSPSSSSPISSSSSSSSSSSPISPSPISSSPISPISSSSSSSSPIVBSPISSSSSSSPISSSPSPSVBSSPSSPISPISSPISSSPSSPISSPISSSPPISPPISSSSSSSPISSPSPIPISPISSSSPISSPSPSPISSPSPSPSSSSSVBSSSSPSPISSSPISSSSPIPISSSSPSSSSSSSSSSPISSSSSVBSSSVBSSSSPSPSSPISSVBSSSSSPSSSSSSVBSSPSSSSSSSSVBSPISSSPISSSSSSSSSPSSSSPSSPSSSSSSSSSSVBSSSSPSSSPISSSPSPISSSSSPSPSSPSSPISSSPISSSPSSSSPISPISSPSVBSSPIPIVBVBPISPSSSSSSPISSSSSSSPISSSSSSSPSSSSPISSPSPPISSSSPISSSSSSSSSSSSSSSSSSSSSSSSSVBSSSPIVBSSSPPISSSSSSPISPISSSSPSSSSPISSPISSPSSSSSSSPISSSPSSSSSSPSSSPISVBSSSSSSVBSPPISSSSPISPSPISPSSSSSSPIVBSPSSVBSSPSSPSSSPSPSVBSSSSSPPISPSSSSSSSPSSSSSSSSSSSSVBSSSPSPISSSPSSPPISPSVBSSPSSPSVBSSPSPSSPSPVBSSVBSSPSSPISSSPISSPSSSSSSPISPSPISSPSSSSSSPSVBSVBSVBPIVBVBVBVBSSSVBPISSSPISSSSSVBSPSSSPVBSSPSSPPIPISSPISSSSSSAPISSSPISPSPISPSPSPISSSPSSPSSSSPPISSSSSPIPIPISSSPISSPISVBSSPISPPISSPIVBPISSSPIVBVBSSSSSSSSSSVBSVBSSSSPSSVBPIVBSSSSSSSSVBSSSSVBSPVBSPISVBSSVBPISSPSSPPISSVBSSPISSPISSSSSSSSPSPISSSSPSVBVBSSSSPISSSSPIVBVBSPVBVBVBSSSPISVBVBSSSSSVBSVBSSSSSSSSPSSPISPISSSSPPIVBSPISVBSVBSVBSPSSSSSSVBSPSVBSSSPSPSPISPISSPISSPVBVBSVBSPSPSPISSPSPSPPISPISPISASPISVBSSPIVBSPISSSSPISPSPISVBSSPIPISSSSSVBSSVBSPISSPISPSPSSVBSVBSPPISSPSPPISSPSSSSSPSSVBSSSSSSSSSSSSSPIVBSPSSSSSPSPVBSSSSSSPSSSPSVBVBSSPIVBSPIPISSSSSSSSSPSPIPISSPISPSSSSSSSSSSSSSSPSPPISSSSSPSSSSSSSSPIPISSSSSSSSPSPISPSSSSSSPISSPISSSPSPSSPISPIPISSSSSPPISPISSSSSSSPIPISSSSSVBSPSSSPSPSSSSPSSSPSPSPISSSSSSSPSSVBSSSSSSPSPSSSSSSPSSSSSSPSSPSPISSSSPSSSSSPSSSPSSPISSSSSSSSSPSSVBSSPSPSSSSSSSSVBSSPSVBSSVBVBSSSSSSSSPISSVBSVBSPISSSVBSSSVBPISSSSPVBVBPISSVBSPIPISPISSSSPISSSSSSSPISVBSSSVBSPSSSSPIVBSPSSSSSPSSSPISSSPISPISPSPIPISSSPISPIPIVBSSSPISSPISSSPISPISSSSSSSPSPISSPSSPISSSVBPISSVBSPISVBSSPSPIPIPISSVBSPSSSPISPSSPISSSPSSPSSSSSPSSSSPSSSVBSSSSSPISPSSSSSSVBSPSPISSSPSSVBSSSPSVBSSSSPSPSSSSSPIVBSPSSPSPSSSPPISVBSSSSSVBSSVBPISSPIPISPISPPIVBSSSVBPISPPIVBSPSPVBPISPIPISVBSVBPISPSSSSSSSVBPISVBSSSSSPIPIPISPSPPISPSSSSSSSSSSPSSSPISSSSPSSSSSPSPSSVBSSSPSSVBSSSSSPSSSSSPSSSSSPISSSSSSSSPISSSSSSSSSPISVBSPISSPISSSPSSSSSSSPIVBSSPSPSPSSSSSPSSPSSPSPSPISSSSPSSPSPISSSSSSPSSPSPSASPSSSSSSPISSPSSPSSSSPSPSSSSPSPISSSPSSVBSPSPSSPSPPISPSSPVBVBSSSPISSSVBSSSSSSPIVBPISPIVBPISSSSSPVBVBSSPPISSSVBSSSPISSSSSSSSSSSSSSSSSSSSSSPSPSSVBSSVBSPSSSPPISVBSSVBSSSSPSVBSSPISPSSPISSVBSSSPPISSPSPISSPSPISPSVBPISSSPSSSSSVBSSPIVBVBSPSSSSSSSSSSPSSSSSSSPSPSPPISPISSSSPVBSSSVBSPSSSSSSSSSPSSSPSSPIPISSVBVBSSSVBSPISPSSPSSSSSSSPSPPISSSSSSSPSPISSSSSPSPISSSSPISSVBSSSVBSSPIVBSPISPISSSSSSSPIPISPSSPSPISSSPSPSPSSSPSSPSPISSPSPISPSSSSVBPISSPSPSSSPIPIPIVBSSSSSSSSSVBSSSSPSSSPSPISPSPSPSPSSPPISSSSVBSSSSSVBVBPISPPISSVBSSPSSPSSSSPSSPSSPSSVBSSPISPSSSSSSPSSSSSSSSPSPSPSSSPSSSSSPISPSSSSSSPSPSSSSSSPISSSSSSSPISSSSSVBSVBPISSSSPISVBSPIVBSSPPISVBSVBPISSSSSVBPIVBSVBSSSSPISVBSSVBPISSSVBSSPISSVBSSSPSSSSVBSSPIVBSPSSPIVBSSSPIPISSSPISSPIVBSSSPVBSSSSPISVBSSSSPSSSSPIVBSPSVBSSSSSSSPISVBSSPIPISSSPISSSSPISSPSSSSSSSPSSSPSSPISPISSPSSSSVBSPSPSVBSPSSSSPISSSPISSPISSSPSSSSSSSSSSSPPISPSSVBSVBSSSVBSPISSPIPISSSSPPISSVBVBSSSSSSSSPISSSSSPISSSSSSPSSSSVBSPSAPISPPISPIPISSSPISPSASSPSSSSSVBVBSPISSSPIPISSSSPSPPISSSSSSPSSSSSSSSSASSSPSSSVBSPPISPSSSSSSSSSSSSPSPSSPISSSPSSVBSSSSASSSPSSPISSSPVBSSSPSSSPSSSSPISSPPISPSSSSSSPISPISSSSSSPIPIPISSSPSSSSPSSPSSSSPISSSSSSPIPISSSSSSPISSSPISSSPISSPSSSPVBSSSSSSSVBSVBSSPSSPSPSSPSPSSPSSPVBSPSSSSVBSSSPSPVBSPPISSPSSPISPISSSSSSPSSSSSSPISPSSSVBSSSSPIVBPISPISSSSSPSSSPISSSPSSSSVBSSSSSSSSSPISSPISPSPISSSSSSSPSSSSPSPSPSPVBSSPISSSPISPISSSSVBVBSSPSSSSSSSSSSSSSPISPIPISSSPSSPISSPSSSSSSSSSSPSSSSSSSSSSSPSSPSVBPISPIPISSSSPIVBSSSSSSPISSSPSSSSSSSVBSSVBSSPIPISSSPSSSSVBSPISSPSSVBPISPSPPIVBSSPISSPSPVBSSSSSSSSSPSPSSPSVBSSPSSPSPISPSSSSVBSPISPIVBSSSSSPSSVBSSSSSSVBSSSSSPSSSSSSSSSSSSSSSSSSSSPISSPSPIVBVBSSSSSSPISSSSSSSPISSSSSSSSPSPSPISSPSVBSSSSSPISSAVBSSSSSSSSVBSSSSSSSSPPISSSSSSPISPVBSSSPSSSSSSPIPISSSSVBSSSVBSSSSPSSSPIPISPISSSSSSSSSVBSVBSSSSPVBSSSVBSPSSSVBSSSPIPIPIVBSSPISPSSSSSSSPISSSSSPSSSSSSSPSSSVBSPSSSSPISSVBSSPSSPISPSSPVBSSSPISPSSPPISPSSPSSPSSSPISSSSSSSSSSPIVBSPISSPSSSSSSSPSVBPISSSPSSSSPSSSSSSSSPPISSSPISVBSPISSSVBPIVBSSPVBVBSSSSSPVBSSPSSSSSVBPISSSSSSSSPISSSSSSSSPSSSVBSSSPSSSSSSSSSSSSSSSASSSPISSVBSSSSPIVBSSSSSSSPSSSSSSPSVBSPSSSSSSPISSSPSSSVBSSSPSSPPISPIVBSSSSPSSPSPVBSSVBSSSSSSSSSSSSSSSSVBSPSSVBSVBSVBSPSSPISSSSPIPISSVBSPISSSSSASSPISSPISSPSSPIPISPSSPSSSSSPSSSSSPSSPSSSPSPSSSSSPPISSSSSPISVBPIPIPISPSSSPSVBSPPIPISVBSPSPPISSSSSSSSSPSPVBSPISSSSSPISSSSPISSSSSSSPISSSSPISSPSSPSSSVBSSPSSSSPISSSSPISVBSSSSSSPSSSSVBSPISPSSSPPISSSSPIPIVBSSPSPISSSSSSPISSSPIVBSPSVBSSSPSPSSSPISSSSPSSSSSSSPSSSSSSSSSSSPSPISSSSSSSPISSPSSSVBSVBSVBSSPSPVBVBSSPIVBPIPIPISVBSSSSSSSPSSVBPISSSSSPISVBSSSSVBPIVBSSVBSSSPISSSSPISSSSSSPSSSPSVBSPVBSSSSSSSPSSSSSPISSSPVBSPSPSSSSSSSSSPISSSSSSPISSSPSSPISSSPSSSSPSSPSPISPIPISVBSSPSSSSSSSSSSSPISSPSSSPISSSPSPSSSPVBSSPISSSSSSPSSSSPSSPSVBSPISSSSPIPISSSSPISPSSPSSPSSSSPSSSPSSPSVBSSSSPSSSPSSSSSPSSSSPIPIPISPSSSPISPSSSSPSSSSSSSVBVBSSSPIVBSSASPSPSPSSSSSSSPISPIPISSSVBSSVBVBPISSSSVBSPSSSSPSSSSVBSSSSPSAVBSSSVBSVBVBSSSSPSPSSSSSPSSSSPSASPSVBSSSPSPSSSSPSVBVBSPSSSSSVBSSSSASSSSSSSSSSPSSPISSVBSASSSPSSSSSPISPIPIPISASSSSVBPISSPSPSSSSPVBSPSSSSPVBSSSSSSSSSPSSPSSSSSSSPSSSPPISPIVBSPIPISSSSPSSPSSSVBSPSPSSSSSSSSSSPISPISVBPISVBSSSPSSSSSSVBSPSPIPISSSSSPSSSSPSSSPSPSSSSSPSSSSSSVBVBSSVBSSPISSSSSSPSSPISSSPSSSSSPSSSSSPISPSVBSSSSPSPISSSPVBPISVBVBSPSSSSPISPSPISSSSPSVBSSSPISPSPSSSSSVBSPSSPISSSPIPISSSSSSVBSPSPSSSSSPISSSSSSSPISSSSPISPSSVBSSSVBSSSPSSPSSSSSPSSSPSSSSVBVBPISSSSSSPIVBSSPVBSPSSSSSSASVBSSSSSPISPSSPSSPSPSSSSPPISPSSSPISSSSSSSPVBSPSSSSSSSVBSSSSSPSSSPISSSPSSPSSSSPISSSSPIPIPIPISPSSSSSPSSSPSSPSPPISPSSPIPISSASSPISPSPSSPIPISSPPIPISSSPSSSSPISSPISSPIPISSSSSPPISSPSSPIVBSPPISPISPISSSSSAPISSSPSSSPSSPIPISSPSSSSSSPSSPSASPPISSSSPPISSPSSSSVBSPSSSSSSSPISSSSSSSSSSSSPISSSSPSSSPISSSSSSPSSSSSSSSSSSSSSSSPSVBSASPSSSSPISPIVBSSPSASSPSSSSSSSSSPVBSSVBSSSSSSPPISSSSPSPSSPIPISPSSSSSPSPPISSPSPSSSSPISSSASSPISSSSVBSSAPISSSSSSPSPSPSSPIPISSPVBSPPISPISSSSSPISSSSPISSSSSSPSSSSSSPSSSSSSSPSSPSSSPSSVBSSSSPSSPSVBSPSPISSSSSSPSSSPVBPISSPSSSPISSSSPISPIVBSPSSSSSPSPSPSSPSPSPSPSSSPSPISPSSSPSSSSSSSSSSSSPSSVBVBSSSSPSSVBSSPSPSSSSPSSSPSPIPISPISSSSSSPSVBSSPSSPIPIPIPISSSSSSSPVBPISPISSSPSPISSSPSPVBSPISPISSSSSPVBSSSSSVBSPVBPISVBSSSPSPISPISSSSSSSSSSSSPISSPISSPSPISSPSSSPIVBPISSPSSPSPSSSSSPIVBSVBSPSSSSVBSSPIPISPSSSSVBVBSSASPISSSSASSPSSPIPIPIPISSSSSSSSSSSSSSSSSSSPISVBPIPIVBSSSSSPISPSSSSSSSVBSSPISSPSPSSPSPPIVBSSPISSSPSSPPISSVBSSSSSSSSSVBSSVBSPSSSSPISPSSSPSSSSSSSSSSSSSSSSSSSPISPSSPSSSSPSSPSPSSSSSSPSVBSSSPSSSSSSSPPIVBSSPISSSPSPISSSSSSSSPIPISSPSSPSVBSSSPSSPSPSSSSSPISPISSSSPSVBSSSSPSSSSSSSSSVBSPVBSSASSSSSSPVBSSSSPSSPIVBSVBSPSSSSSSSPISSSSPIVBVBSSVBSPVBSSSSPSPISSSPIVBVBSPSPSSVBPIVBSPSSSPSSSPISSSSPIVBSSPSSSPSPIVBSSSPSSSSSSPSPISSPPISSSVBVBSSPISSSSSPSSASSSSPIVBSPIVBSSSSVBVBSPSSPVBSSSSSPSSPSSVBSPSVBVBSSSVBSPPISSSPSVBSSSPSSSPIPISSSSSSPVBSSPISSSPSSPSSPSSPSSSSSPISSSSPSSSPSSVBSSSSSSSSSVBSPISSSSVBVBSSPSSSSSSSSPSSSPSSVBVBVBVBSSVBVBPISSPSPSSSSSSSSSPVBSSPSSSSSSSSPISSVBSSSSPISSPVBSPSPVBSSSSSSPISSPSVBSPSSSSPIPIVBSSSPIPISSSSSVBSSPIPISSSSSSPISPISPISSPPIPIPISSSPSSSPSSSSPISPISSSSSSSASSVBSVBSPISSSSPISPPIVBSSVBSSSSSSPISSPPISPSSPISSSSSSSSASSVBSSPISSVBSSPSPSPISVBSSPSSPVBSSVBSSSPISSPISSSSSSSPISSVBSSSPIVBSSVBSSVBSSPISASSSPSPSSPSSSSSVBSVBSSSSSSSSSSSPSASPPISSSSSSSSSSSSSSSSSSSSSPSSSSSSSSPSSPISSVBSSPIPIVBSSSSSSSSSSSSSSPSSSSSPSSSSSSSSSSSSSSPISSPSSSSSSSSVBSSSSPSSPPIPISSSPVBSSSSSSSSSASSSVBSSSSSSSSPSSSSVBSSSVBSSSSSSSSSSPSSPSPISSSPISVBSSPSSSSSSPISPIPISSSSPSPSSPSSSPSSSSPIVBSSPSSSPVBSSSSSSSSSPISSSSSSSSSSSSPSSSSPSSSPSSPISSSPISSSSSSSPIPISSSPSPPISSSSSSVBSSSSVBSPISPISPISSPSSSSSPSSSPIVBSPISPSSSSPISSPISSSPIVBSSSSSSSVBSVBVBVBSSSPISSPSSSPSPSSPSSSSASPISPIVBSSSPSSSPSSPSSSSSSSSSSPPISSPISSSPSSPSSSPSSSPIPISSVBPISSSSASSPISSASSSSSSSSVBPIPISSSPSSPIPISPVBSSSSSSSPISPSPISPSSSASSSSSSSSSPSSSPISPSSSSSSSPIVBSSSSSSPISSPIVBSPSSSVBSPSPSSVBSPSPSPISSSPSPSSSSPPISPSSSSSSVBSSSSSSPSSSSPSPSSPPISSPVBSSVBVBSPSSSPISVBSSSSSSSASSPISVBSPSPISSASSSPISSSPSSPSSPPISSSSSSSSSSSSSSSSSSSSSPIPISSPSVBPISPSSSSSPSVBVBSSSSSSSSSSSSPISVBSSPSPSSPSPSSSSPVBSSSSSPISSVBSSSSSPISSSSVBSSSSSPVBVBVBSPISSSSSSSSSSVBSSSSSSSSSSSSSPSSSSSSSSSVBSPISPSSSSPSSSSSVBVBSSPVBSSSPSPSPSVBSSSSPSSSPVBSSSSSSSSSSPSSSSPISAPIPIPISVBVBSPISPPISSSPSSSSSVBSSSSSSSSSSSSASSPPISPSSSSAVBSSSSSPISSSPISSPSSPSSSSSSPSPSSSPSSASSSSPSSPSSPSSSSPIVBSSPVBSSASSSPSSSPSSSSSSSPISVBVBSSPVBPISVBSSSPSPSASPSVBSSPSSVBSSSSSSSSPPISSSSASPSSVBPIVBSSSPSVBVBSSSVBSPISPIVBPISSSSSPSSVBSSVBSPSSSPSPSPISSSSVBSVBSVBSPSSVBVBSPISPISSPIVBPIVBSPSSPSVBSSSSSPSVBSSPSSASSSPSPISSPSSSSVBPISSPSSSSPVBSSSSSSSSSPSVBSSSSVBSSSSSSSSSSSSSPSSVBSSSPPISSVBSSPSVBVBSSSSPISPPISSSSPSPVBSPSSSSPSPVBVBSSAPISSPSPSSSPIVBPISSPISSPISSVBPIPISASVBSSSSSSSSSSSPISSSPVBSPPIPISPIVBSSSPSSSPPISVBSSSSSSPISSSASSSPSSPIVBSSSSVBPISSSPVBSPIPIVBVBPISSVBSVBSSSSSSSSSSSSPPISSSSSPSSSSSSSSSSSSSVBVBSSPSSSSSSPSSSPISSSSSPVBSSPSSSSSSSSSSSSSSSSSSSSSSVBSSPSSSSSSVBPISSSPSSSPIVBSPVBVBSSPISSSSSSSSSSPISVBSSSSPISSSSSPSSSSSSPSSSPSPPISVBSPISPISSSPSSSPSSSSPIVBVBVBSSSSSSPSPISPSSSVBSSSPSVBSSSSVBSSSPSSPVBSSSSSSSSSSVBSPSSSSPISPISVBSPISSSPISSSSSSSSPSSSSSSSSSPSPSSSVBSSSPVBSSSPSPSSSPSSSSSPSPVBSSSSPSPSSPSSPSSSSSSSSSSVBVBPIPIVBSVBVBSSSASPPISSSPIPISVBSPISSSSVBSSSSSSSPSPSSPISSVBSSVBSPISSSPISASSSSSSSSSSSSSSSSSSPISSSPISSSSSSPSSSSSPSSSSPISPSPPIPISASSSSSSSPVBSSPISPISSPISSPSSSPSSSSVBVBSSPSPSSSSPISSPSSSVBSPSPSSSSSSPSPSASSSSPSSSSSVBSSSSPSSSSSSSSSSPSSSVBSPSSSPSPPISSSSSSPISPSSSVBPISSPSSPISPSASSSSPSSPSSSSSSSSSSSSASASSVBSSPIPISSASPISSSPISPSAVBPISSAVBVBSPSSSSSSSPSSSVBVBSPIPISPISSASSSPSPSVBSSSSSSSSSSSSPSSPSPSSSSSSSPSPSSPSSPSSPISSSSSSSVBSSSSSPISSSSSSSSSSSSPSSSPSPIPISSSSSSVBSSSSPSPSVBSSSSPVBSVBSSSSSPISPISPSSPISSPSSSSSSPSSSPSSSSPISSSVBSSSSVBSSSSPISPPISSSPSVBSPISSSSSSSSSSPSPSPSPISSSSSSSSPSPSSSSVBSSVBSASPSSSPSSSSSSSSPPISSSSSSVBSVBSSPISSPISSSVBVBVBSPISSPSPSPSSSSSPSSPSPSPSSSSSPSSSPSSPSPSPISSSSSPISSSSSPISSSSSSSPISSVBSPISSPSPSSSPSPSSSSPIPISSSPIVBSSPISPSSSSSPISSPPISSSSSPSSASSVBSSSVBSSPSSSSSSSSSSPSVBVBSPSSSVBSSSVBSPSSSSSSPISSSSVBSSSPISSSPSVBSSSSSSPISPISSPSSSSVBSPSPISSPVBSSSSPIPISSSVBPIVBSSSSSSPSPPISSSPSSPSVBSSSSSSVBSSSSPSPSSSPISSSPSSVBSSSPSSVBSSSSSSSSPSPSSSSPISSSSSSPVBSSPSVBSSSSSPSSSVBSPSPSSSSSSVBVBVBPISPSSSSSSSSSPISPSPVBSSVBSSSAPISSPSSSVBSSSSSSSSSSSPISSPISSVBPISSPISPSSPIPISSSSVBPIPISSSVBSVBSSPSPIPIVBSSSSSPSSSSSSPISSPSPISSSSSSSSSVBSSSSSPISSSSSSPIVBSSSSSSPPISPSPISPSPVBSVBSSPSSSSSSSPSSSVBVBSPPISSSSVBSVBSSSPSSSSSPSSPSPISSSSSSSPSSSSPIVBSSPSSSSSVBPISVBSSPVBSSSPSVBSSSSPISSSSVBVBVBPISSSSPSSPISSSSSSSSSSPISSVBSAVBSPISSSPISSSSSSSVBSSVBSSPSSSSSSSPSSSPSSPSSPSPISSSSSSSSPVBSSSPVBSSASPISVBSSSSSSSPISVBSSSSSSSSSSSSSPSSSSSSPISPVBVBSPSSSSSPVBSPISSSSSSPISPISVBVBVBVBSSSPISSPISSPSPIVBSSVBSSSSSSPSVBSSSSSSSSVBSSSSPSSSPISSPSSSSSSSSASSSSPSPPISSVBSSVBSSSSPSPVBPIVBSSSSPSSSSSPISPISSPISSVBVBPISPIVBSVBSSSSSPSSSSSPSSPIVBVBPIPISPPISSSPSSSPISSPSSSSSSPSSASVBSVBSSSSPSPSSPISSSSPSSSSVBSSPPISVBSSSSSPSSPISSPISSSSSPSVBSSPISSSSPSSSSPSSSSPSPSSSSPPISSPSSSASSSSPISPSPISSSSSPSPISSPSPSPSSPSSSPSSPIVBSSPPISSPISPSSSSSSSPIPIPISPIVBSSSSSPSSSSSVBVBSSSSSSSSSSVBVBPISSPISPSPSSSSSSVBSPISSPSSSASSSSSPIVBSSPSPISSSPSPIVBSSSSSSSSSVBSSSPSVBSSVBSPISSSSSSSSPSSPISSPSSSSSSSSSSSSPISSSVBSSPSPSPISPISPISSSPSSSSSASSPSSSSSSSSSSSSSSSPSSSVBSSSSPSSSSPIPISSSSSSSSSSSPSSSSVBSSSSSPPISSSSSSVBSSSSVBVBSSSPPIVBSSSVBPIPIVBSSPSSSPISSPSSSSPSSPSVBPISSSPSPSPPISSSVBSVBVBSSPISSSSSSSSSSPSSSSSSSSPISSSSPSSSSSSSSSPISSSSVBVBSSSSSSSSSSSPISPIVBVBPISSSSSSPSSSAVBSSSSPSPSPPIPISVBSPISSSVBSSSSPSSSSSPISSSSSSSPISSPSSSPSSPSPVBVBSSSSSPISPSVBSPISPPIPISSPSSSVBPISPISVBSSVBVBPISPVBSSVBSSSSSSSSSVBSSSSSSSSSPSSSSSPISVBSSSSPSSSSSPISPSPSSSSPIPISSSSSVBSSSSVBSSVBSSPISSSVBVBSVBSPSPISSSSPISVBSSSSPSPSPSSSSVBSSPSSVBSSSSSSSPISPSSSPISVBSSPISSSSPSSPIVBSSSSSPPIPISSPSSSPIPISPSPISSPSSSSSVBPISSSSSPISSSPSPSSVBSSSSPISSAVBPISSPISPSPISSSPSPVBPISSSSSSPSPSASPSPISSPSPSPSSSPPISSSSSSSPSSSPSSSSSSSPSSPSPSSSSPIPISPIVBSPISSPSPSPSSSPPISSPISSSSSSSSSSSSPSSSSPISSSSPSSSSVBVBSSSSSSSSSPISPSSSSPISSSSPSPISP to numeric",
     "output_type": "error",
     "traceback": [
      "\u001b[1;31m---------------------------------------------------------------------------\u001b[0m",
      "\u001b[1;31mValueError\u001b[0m                                Traceback (most recent call last)",
      "\u001b[1;32m~\\anaconda3\\lib\\site-packages\\pandas\\core\\nanops.py\u001b[0m in \u001b[0;36m_ensure_numeric\u001b[1;34m(x)\u001b[0m\n\u001b[0;32m   1536\u001b[0m         \u001b[1;32mtry\u001b[0m\u001b[1;33m:\u001b[0m\u001b[1;33m\u001b[0m\u001b[1;33m\u001b[0m\u001b[0m\n\u001b[1;32m-> 1537\u001b[1;33m             \u001b[0mx\u001b[0m \u001b[1;33m=\u001b[0m \u001b[0mfloat\u001b[0m\u001b[1;33m(\u001b[0m\u001b[0mx\u001b[0m\u001b[1;33m)\u001b[0m\u001b[1;33m\u001b[0m\u001b[1;33m\u001b[0m\u001b[0m\n\u001b[0m\u001b[0;32m   1538\u001b[0m         \u001b[1;32mexcept\u001b[0m \u001b[0mValueError\u001b[0m\u001b[1;33m:\u001b[0m\u001b[1;33m\u001b[0m\u001b[1;33m\u001b[0m\u001b[0m\n",
      "\u001b[1;31mValueError\u001b[0m: could not convert string to float: 'SSSPPIVBSSSSSVBVBSSSPSSSSSPISSSPISSPPISSSSSSSSPSSPIVBSPSSSVBSSSPSSSPISSSPIPISSSPSSSSPISSSPSPSSSSSSPISSSSPISSSSSVBVBSVBSPISSSSSSSSVBSSVBSSPPISSSSSSSSSSPIVBSSSSSSSSSPISSSSSPVBSPSSSPSPSVBSSSPISPSSPVBSSSSPSSSSSSPSPSSPSPSSPSSPSPISSPSSPISSSSSPSSPSSSSPSSSPSSSSVBSPISPVBSSPSSSPSSPSSPSPSSSSSSSSSSPSPPISSVBSSSSSSSPSPSVBSVBPIPISSSSPPIPISSSSSPIPISSSSSVBSPPISVBSSPVBSSPPISSSSSSSVBSSPISSSSSPSSSSPSPVBSSSPPIPISPSSSSPISPSSSSPISSPSSSVBSPISSPISSVBSSSSSPSSPSPSSSSSPSSSSSSSSVBSSSSPIPIPISSSSSPSPIPISSPIPIPIPISSSSSSSSSSSSVBSSPISSSPSSSVBSSSSSSSSVBSSSPIVBSSSSPISSPISSSSSPVBSSSPISPSSVBSSSSSSSSSSSSSSSSVBSSSPSSSSVBSSSSSSPSSPISSPSPSSSPSSASSSPSVBSSSPISSPSSSPSPSPISSSSSSSPSSPSPIVBSSSSPSSSSSSVBSSPPISVBSSAPIVBSPISVBSPISSSVBSPIVBSVBPISSPPISSVBSPISSSSPSPISPIVBSSSVBSASVBSSSPIVBVBSPIVBSSSSSVBPISPISSVBVBSPISSSSPISPSVBPISPISSPISPIVBSPISSSVBSSSSPPIPISPISSVBSVBVBPIPIPISSVBPISPIVBSSSSPSVBVBSPSVBVBSPSPISPISPIPISSPPISSSSPISSPSSPISPISSSVBSSPVBSVBSVBVBSSSVBSPIPIVBSSSSSSVBSPIPIVBSVBPIPISSSSSPISSSSSPISPIVBSSPISSSPIPISSSPSSSSSVBSPSPSPSSSPISSPIPISSSSPSSSSSPISSSSSSSSSVBPISSSSSSSSPISSSSSPISPIPISSSSSSSSSSSSSSPISSSSPSSSSSPISSSSSPISSPISSSSSVBPISPISSSSPISSPPISPSSSSSSSSSSSSSSSVBSSSSSPISSPISSPISSSSSPISSPSPIPISSSPSSSPIPIPISSSSSSVBSSSSSSPSSSSPISPIPISSSSSSSSPSSSSPVBSPSSPSPISSSVBSSSSSSPISPISSSSSPSSSPVBPISSSSSSSSVBPISSSSPISPIVBSPISPISSSSSSSPISSSSSSSPISPSPSSPSSSSVBSSSSPSSSSSSSSPVBSSSSSSVBSSSSSSVBSSSPSSSSPSSASSSSSSSVBSSSSSPSSSPISSSSVBSSSSPSSSSSSSSPISSSSSSSSSSVBSSSSSPSVBSPIPISPISSSPIPISSSPISPISSSSSSVBSPVBSSSSSSSSSSVBPISSSSSSSSSSSSPSVBSVBSPSPSSSSSSPISSSSSSPSPSPISPISSPSSSSSSSSSSSSVBVBSSSPPISPSPISPSSSSPIVBVBPISSSPIVBVBPISPVBSSPISSSVBPIVBPISSSSSSPSSSSASPISPPISSSPIPISSSSSPISPISSSSPPIVBSSPISPSSVBSPSSSSSSSSSSSSSSSSSSSSVBSSPSPIPISSPPIPISSPISSSSSSSPISSSSSPISSSSPISSSSSSSSPSSSSVBSPSSSSPSSVBSSSSSSSSSSPSPISSSSSPISPISSSPSSSPISSSSSSSSPSSSSPPISSSSSSSSSSSSPSSSPIVBSSPIPIPISSPPISPISPISSSSSSPSSSSSSSPISSSSSSPISSPVBSPSPISSPSPSSSSPISSSPSPISVBSSSSSSPSSSSSSPISPSPISSSSVBSSPIPISVBSSVBPIVBSSSPISSPPISSPISSSPSPISPISPISSSSSPSSSSPISPSSSSPISPPIVBSSSSSPIPIPIVBSSSSSSSSSASSVBSSPISSSSSPIVBSSPSPISSSSSPSSSSSSSSSSSPIPIPISVBSASSSSVBPISSSSASSVBSPISPSSSPIVBSPSVBVBPISPSSSVBSSSSPPISPVBVBPISSSPISPPISSVBPIPISSSSSSPPIPISSSSSSSSSVBSSSPPISSSSSSSSPPISPIVBSPISSSPISSSPIVBSSSSSPIPISVBSPISVBSSSPPISSSVBSSSSSVBSSSVBSPSSPISSSSSSSSSSSSSSSSSVBVBSSSSPSSSSSSSSPSSSPISPSSVBSVBSSSSVBSSSPPISSPISSSVBVBSASSSVBPISSPIPISSSPSSSSSPSSSSSSSPSSPISSSSSSSSPISPIPIPISSSVBSSSSSSSSSSSSSSSSSSSPSSVBSPPISSSSPPISPVBVBSPSSSPSSPSSPISSSVBSSSPISSSSSVBSSVBSSSSPISSSSSSSSSSSVBSSVBSSVBSSSSSSPISPPISSSSSSPSSSSSSSSSSSSSPSSSVBSSSPSVBVBSSSSSPSPSSVBSVBSPSSSSSSPISSSSVBSPIPISSSSPPIVBSSPSSVBSSSSSPPISSSPSSSSVBSSPSSPSSSSPSVBSVBSPPISSSSSPISSPISSPSSPSSSSSSPISSSVBSSSSPSSPISVBSPSSASSSSPISPISSSSSPISSSPSVBSSPSSPISPSSSPSSSPISSSPSSPSSSPSPSPSSSPSSSSSPPISSSSPSSSSSSSSSSPISSSSSPSPSSSSSSSSSSPSSSPVBSPSSPSSSSSSPISSSSSSPSSSSVBSSPSSSSSVBSSPISSSSSPISPSPIVBPISSPIPISSSSVBSSSPISSSSPISSPSSSPSSSSSPIPISSSSPISPSSSPIPISPSVBSPISSSSPSSSSSPISSSPVBSSSSSSSVBSSSSSVBSPSVBVBSSSVBSSVBSSSPSSSSPIVBPISPVBSVBPISSSSSSSVBPIPIVBSSSSPISSPSSPISVBSSSSPSSSSSSSSSVBSPISSSSPISSVBPISSVBPIPISSPISSSSSSSSSSSPISSSSPPISSPPIPISPSVBSPSPISSVBSPISSPSSSSSPSPSVBVBSPPISPISSPISPIVBSSVBVBPISSSSPSSSSSSVBSPISSPPISSSSSPISSSSSSSPISSSSSSSSPISSSSSVBSVBVBSSSVBSPSSSSSPISPSSSPIPISSSSSSVBSSSSSSPSSSSVBPIVBVBSSPSPSPSPSSSSSSPSSPVBSSSSSSSVBVBSPVBSPISPISSSPISSSSPISPISSVBSSSSSSSSPSSPSSSSVBPISSSPIPISSPVBSSSSSPISVBVBPIVBVBSSSSSPSVBSSPSSSSSSSSPISSSSVBPISSSSSSPSSVBSSSPSSSSVBSVBSSSPSSSVBSSPSSPVBSASSSSSSSSSVBSSSSSSSSPSSVBSSSSPVBSSSSVBSSSSSSVBSVBSSSSSSPISSSSPISPSPVBSSSPSPISPSSPPISPSSSSSPSPISVBSSSPVBSPSVBSPVBSSSPISPSPSSSSSSSSSPPIPISSPISSPSPISSSSSSPSSSSPPISSVBSSSPSSSPSPSPSSSSPISSPSPISSSPVBSSPSPSSPSSPVBSPSSPISSPPISPSSSPSSPISSSPSSSSPPISSPSSSSVBPIVBSSSSSSPISPISPISVBSPVBVBSSSSSSSSPSSSVBSPISPISSSPVBSSSPSPIVBSSPSPSSSPIPIPISSPSPIPISSSSSPSVBSSPISSSSSSSPSSPIPISPISPISPIVBSVBSSSPSSSPIVBSSSSSSSSSVBSSPIPISSSSSSSPISVBPISSSPSSPIPIVBSSPSPISSVBSPSSSSSPPISSSPISSSSVBSSPSSSSSSPISPSSSSSPISSPISSSPSPSSSSSSPSSPSSPSSPPISPSPSPSSSSSPISSSSVBSPSPSSPISSSSSSSSPISPSVBPISPISPPISPSSSSSSSSPSSPSSSSSSSSSSSSSSPPISSSPSSPVBVBSSSSSSSSSPSSSSSSSVBVBSSPVBSVBPIVBSSPISSSSVBPISPISSSPSSPISPIPISPSASSSSSSSSPSSSSSSSPISPISPISSSSSSPISPSSPSSPISSPISVBVBSSSSSSSSSSSSSSSSSSSPISSSSSPISSSSVBSPISSSSSSSVBSPISSSSSSSPISSSSVBSPPISSSSSSSSSSVBSSSPIVBSSSVBSPIVBSSSSPIVBSSPISVBSPSSPIVBPISSVBSVBSVBVBSSPSSSSSSSSSSSSSSVBSSSSPSSPIPIPISSSVBSVBSSPSSSSVBSSSSSPSSSVBVBSSSSSVBSSSSPSSVBSSVBSPSSSPSPSPISSVBSPSSVBSSSSSSPSPSSSVBSSSSSSSSSSSSPIPISPSPSSSSSPIPISVBSPISSSSSSSSSPSSPISSPSSSSSSSSSSSVBSSSSSSPISSSSSPIVBVBSPSSVBSPSSSSSSSSSSSSSSSSSSSSSSSSPSSVBSSVBSSPSVBSSSSSSPIVBSSVBSSSSSSPSSSPSSSSPISPIPISPSPSSPSSSSPSPSSSPSPVBSPSSPSPSSSSVBSSSSSSPSSSSSSSSSSPSSSSSSSSVBPISPSSSSSSSSPSSSSSSSSPISPSSSSSPSPPISSSPISSSSSSPSSPSSSSSSSSVBSSSPSPSSPISSSSSPSPSSPIVBSVBSSSSPVBVBSSPSSSSSSPVBSSPSSPSPSSPSSPSVBPISSPPISSPSSSSSPISSPSPSSSSSSSVBSSPPISSPSSSSSVBSSSVBSSVBSSSSPPISSSSSSSSSSSPIPISSSSPISPSSSSVBPISSSVBSSSPISSSPISSPISVBVBSVBSPIVBVBSSVBSPSSSSSSVBSPISSSSPIVBSPISPPISSVBVBPISPISVBSSSSVBSSSPISPISSSSPSSVBSVBVBSASSPSSSSSSSSPISSPSPSSPSPSSPSPSSPSSPISPPISSPSSPSPSPSSSSPIPISSSSPISSPSPSPSVBPISPSSSSPSSSSPSSSSVBSSSVBSVBSSSSPSSPIVBSSSPSSSSVBSPSSSSPISSSPPISSSSSSPIVBVBSSPSSSSPISVBSSPISPIPISVBVBSSSSSSSPVBVBSSPPIPISSSPSSSSVBVBVBPISSPISSPIPISSSSSSPISSSSSSPISSPIPISPSSSPISSSSSSPISPSVBSVBVBSSSPSSPPIPIVBVBSPSPSPSSPSSSSSSVBSPSSPSPSSPSSSPPISSSPIPISSSSVBSSVBSPSSSVBSVBSPPISPPISSPSSPISPSSSPIPISSSSPVBSSVBVBSSSSPSVBVBSSSSPSPVBSVBVBSPISVBVBSSVBVBSSSVBSSVBPIVBSSSSVBSSSPSSSPSSSSVBSPPISPSSSPPIPISSPISPISSSSSVBPISSSVBSSSSSVBSSSPSPISSPSVBSSPSPISVBSSVBSSPISSSSSSPSSSSVBVBVBSPSSVBSVBSVBSSSSPSSPSSSSSPSPISVBSSSSPVBSSPSPSPSSSSPISSPSSSSSPSSPSVBSSPSSVBSSSSSSSSSSVBSPSSSSPSSPSAPISSSSSSSSSSSSSSSSSSPISSPPISSPISSSSSSSPISVBSSPSSPSSSSVBVBSSSPSSPIPISPSSSSPISSPSPSPSSPSSSSSSSSSSSSSPSSSSSSPSSSSSSSSSSPSSSPSPSPSPSPPISSPSSSPSSSSPSSPSPISSSPSSSSSPSSSPSPIPISSPSSSSSSPPISSSSSSSSSSPVBSSSSVBSSPSSSSSSPSSSPSSPISSPISSPISSSSPSSSSSSSPSASVBSPVBVBSSSSSSSPSVBSSPISSPSSVBSSSSSPSPSVBSSPSPSVBSSSSSPSSSASVBPISSSSPISPSPSPSPPIVBPISASSPSSSSSSPISSSSPSSSPISSSPISSSSSPISSSSSPSSPISPSPSSSSSSSSPSPSSPISSPSSSSSSSSSVBSSSSPISPSSSPSSSPSVBSSSSSSSSVBSSSPPISVBPISSPIVBSSPSSSPIPIPISSSSSSSPIPISSSSSSPISSPISSPSPSSSSPSVBSPPISVBSSSSSPISSSSSPPISSSSSPSSSPPISSSSSSSSSSPSSSSSSSPSSPISSSSSSPSSPSSSSPSSSPSSSSSSSSSSSSSSPIPISPSPSSSSSSSSSPSPISPVBSSVBSSSSPISVBSPVBSSSPPISPISPSSPSSPSSSSPSPSVBVBVBPIVBSSSSSSPSPSVBPISSSSPVBSSSPSSSVBSSPPISSSSSSVBSPSVBVBSSPSPIVBSSSPVBSSSVBVBSSSSVBSVBSSSVBSSPSSPSSVBSSPISSSSSSPISSSSSVBSSSPSSVBSPSSSSSSSSSPISSSSPSSSSPISVBSPVBSSSPSSPISSPISSSSSVBSSPISSSVBSPISSSSPVBSPISSSSSSPISVBSVBPISSSSSPSPISPISSSPISVBSSPISVBSSAVBSSVBPISSSSSSSVBSSSPISSSSPISSSSSSPSSSSPSSSSVBSSSSPPISSSSSPISSPISSPSSSSPISSPISSSSSSVBSPISSPSSSPISSPSPISSPISVBPIPISPSPSSSPSPISSSSSSSSSSSPPISSPSSPSSPISSPISVBSSSSPSPISSSSSSSPSSPSVBSSSSPISSSSVBPISSPSSPSPSSSSSSSSSPISSSPIPISPISSSSSSPVBPISSSSSSSPSPISPIPISPISSPSSSSPISSSSSSSSSSSPISPSPISSSPISPISSSSSSSSPIVBSPISSSSSSSPISSSPSPSVBSSPSSPISPISSPISSSPSSPISSPISSSPPISPPISSSSSSSPISSPSPIPISPISSSSPISSPSPSPISSPSPSPSSSSSVBSSSSPSPISSSPISSSSPIPISSSSPSSSSSSSSSSPISSSSSVBSSSVBSSSSPSPSSPISSVBSSSSSPSSSSSSVBSSPSSSSSSSSVBSPISSSPISSSSSSSSSPSSSSPSSPSSSSSSSSSSVBSSSSPSSSPISSSPSPISSSSSPSPSSPSSPISSSPISSSPSSSSPISPISSPSVBSSPIPIVBVBPISPSSSSSSPISSSSSSSPISSSSSSSPSSSSPISSPSPPISSSSPISSSSSSSSSSSSSSSSSSSSSSSSSVBSSSPIVBSSSPPISSSSSSPISPISSSSPSSSSPISSPISSPSSSSSSSPISSSPSSSSSSPSSSPISVBSSSSSSVBSPPISSSSPISPSPISPSSSSSSPIVBSPSSVBSSPSSPSSSPSPSVBSSSSSPPISPSSSSSSSPSSSSSSSSSSSSVBSSSPSPISSSPSSPPISPSVBSSPSSPSVBSSPSPSSPSPVBSSVBSSPSSPISSSPISSPSSSSSSPISPSPISSPSSSSSSPSVBSVBSVBPIVBVBVBVBSSSVBPISSSPISSSSSVBSPSSSPVBSSPSSPPIPISSPISSSSSSAPISSSPISPSPISPSPSPISSSPSSPSSSSPPISSSSSPIPIPISSSPISSPISVBSSPISPPISSPIVBPISSSPIVBVBSSSSSSSSSSVBSVBSSSSPSSVBPIVBSSSSSSSSVBSSSSVBSPVBSPISVBSSVBPISSPSSPPISSVBSSPISSPISSSSSSSSPSPISSSSPSVBVBSSSSPISSSSPIVBVBSPVBVBVBSSSPISVBVBSSSSSVBSVBSSSSSSSSPSSPISPISSSSPPIVBSPISVBSVBSVBSPSSSSSSVBSPSVBSSSPSPSPISPISSPISSPVBVBSVBSPSPSPISSPSPSPPISPISPISASPISVBSSPIVBSPISSSSPISPSPISVBSSPIPISSSSSVBSSVBSPISSPISPSPSSVBSVBSPPISSPSPPISSPSSSSSPSSVBSSSSSSSSSSSSSPIVBSPSSSSSPSPVBSSSSSSPSSSPSVBVBSSPIVBSPIPISSSSSSSSSPSPIPISSPISPSSSSSSSSSSSSSSPSPPISSSSSPSSSSSSSSPIPISSSSSSSSPSPISPSSSSSSPISSPISSSPSPSSPISPIPISSSSSPPISPISSSSSSSPIPISSSSSVBSPSSSPSPSSSSPSSSPSPSPISSSSSSSPSSVBSSSSSSPSPSSSSSSPSSSSSSPSSPSPISSSSPSSSSSPSSSPSSPISSSSSSSSSPSSVBSSPSPSSSSSSSSVBSSPSVBSSVBVBSSSSSSSSPISSVBSVBSPISSSVBSSSVBPISSSSPVBVBPISSVBSPIPISPISSSSPISSSSSSSPISVBSSSVBSPSSSSPIVBSPSSSSSPSSSPISSSPISPISPSPIPISSSPISPIPIVBSSSPISSPISSSPISPISSSSSSSPSPISSPSSPISSSVBPISSVBSPISVBSSPSPIPIPISSVBSPSSSPISPSSPISSSPSSPSSSSSPSSSSPSSSVBSSSSSPISPSSSSSSVBSPSPISSSPSSVBSSSPSVBSSSSPSPSSSSSPIVBSPSSPSPSSSPPISVBSSSSSVBSSVBPISSPIPISPISPPIVBSSSVBPISPPIVBSPSPVBPISPIPISVBSVBPISPSSSSSSSVBPISVBSSSSSPIPIPISPSPPISPSSSSSSSSSSPSSSPISSSSPSSSSSPSPSSVBSSSPSSVBSSSSSPSSSSSPSSSSSPISSSSSSSSPISSSSSSSSSPISVBSPISSPISSSPSSSSSSSPIVBSSPSPSPSSSSSPSSPSSPSPSPISSSSPSSPSPISSSSSSPSSPSPSASPSSSSSSPISSPSSPSSSSPSPSSSSPSPISSSPSSVBSPSPSSPSPPISPSSPVBVBSSSPISSSVBSSSSSSPIVBPISPIVBPISSSSSPVBVBSSPPISSSVBSSSPISSSSSSSSSSSSSSSSSSSSSSPSPSSVBSSVBSPSSSPPISVBSSVBSSSSPSVBSSPISPSSPISSVBSSSPPISSPSPISSPSPISPSVBPISSSPSSSSSVBSSPIVBVBSPSSSSSSSSSSPSSSSSSSPSPSPPISPISSSSPVBSSSVBSPSSSSSSSSSPSSSPSSPIPISSVBVBSSSVBSPISPSSPSSSSSSSPSPPISSSSSSSPSPISSSSSPSPISSSSPISSVBSSSVBSSPIVBSPISPISSSSSSSPIPISPSSPSPISSSPSPSPSSSPSSPSPISSPSPISPSSSSVBPISSPSPSSSPIPIPIVBSSSSSSSSSVBSSSSPSSSPSPISPSPSPSPSSPPISSSSVBSSSSSVBVBPISPPISSVBSSPSSPSSSSPSSPSSPSSVBSSPISPSSSSSSPSSSSSSSSPSPSPSSSPSSSSSPISPSSSSSSPSPSSSSSSPISSSSSSSPISSSSSVBSVBPISSSSPISVBSPIVBSSPPISVBSVBPISSSSSVBPIVBSVBSSSSPISVBSSVBPISSSVBSSPISSVBSSSPSSSSVBSSPIVBSPSSPIVBSSSPIPISSSPISSPIVBSSSPVBSSSSPISVBSSSSPSSSSPIVBSPSVBSSSSSSSPISVBSSPIPISSSPISSSSPISSPSSSSSSSPSSSPSSPISPISSPSSSSVBSPSPSVBSPSSSSPISSSPISSPISSSPSSSSSSSSSSSPPISPSSVBSVBSSSVBSPISSPIPISSSSPPISSVBVBSSSSSSSSPISSSSSPISSSSSSPSSSSVBSPSAPISPPISPIPISSSPISPSASSPSSSSSVBVBSPISSSPIPISSSSPSPPISSSSSSPSSSSSSSSSASSSPSSSVBSPPISPSSSSSSSSSSSSPSPSSPISSSPSSVBSSSSASSSPSSPISSSPVBSSSPSSSPSSSSPISSPPISPSSSSSSPISPISSSSSSPIPIPISSSPSSSSPSSPSSSSPISSSSSSPIPISSSSSSPISSSPISSSPISSPSSSPVBSSSSSSSVBSVBSSPSSPSPSSPSPSSPSSPVBSPSSSSVBSSSPSPVBSPPISSPSSPISPISSSSSSPSSSSSSPISPSSSVBSSSSPIVBPISPISSSSSPSSSPISSSPSSSSVBSSSSSSSSSPISSPISPSPISSSSSSSPSSSSPSPSPSPVBSSPISSSPISPISSSSVBVBSSPSSSSSSSSSSSSSPISPIPISSSPSSPISSPSSSSSSSSSSPSSSSSSSSSSSPSSPSVBPISPIPISSSSPIVBSSSSSSPISSSPSSSSSSSVBSSVBSSPIPISSSPSSSSVBSPISSPSSVBPISPSPPIVBSSPISSPSPVBSSSSSSSSSPSPSSPSVBSSPSSPSPISPSSSSVBSPISPIVBSSSSSPSSVBSSSSSSVBSSSSSPSSSSSSSSSSSSSSSSSSSSPISSPSPIVBVBSSSSSSPISSSSSSSPISSSSSSSSPSPSPISSPSVBSSSSSPISSAVBSSSSSSSSVBSSSSSSSSPPISSSSSSPISPVBSSSPSSSSSSPIPISSSSVBSSSVBSSSSPSSSPIPISPISSSSSSSSSVBSVBSSSSPVBSSSVBSPSSSVBSSSPIPIPIVBSSPISPSSSSSSSPISSSSSPSSSSSSSPSSSVBSPSSSSPISSVBSSPSSPISPSSPVBSSSPISPSSPPISPSSPSSPSSSPISSSSSSSSSSPIVBSPISSPSSSSSSSPSVBPISSSPSSSSPSSSSSSSSPPISSSPISVBSPISSSVBPIVBSSPVBVBSSSSSPVBSSPSSSSSVBPISSSSSSSSPISSSSSSSSPSSSVBSSSPSSSSSSSSSSSSSSSASSSPISSVBSSSSPIVBSSSSSSSPSSSSSSPSVBSPSSSSSSPISSSPSSSVBSSSPSSPPISPIVBSSSSPSSPSPVBSSVBSSSSSSSSSSSSSSSSVBSPSSVBSVBSVBSPSSPISSSSPIPISSVBSPISSSSSASSPISSPISSPSSPIPISPSSPSSSSSPSSSSSPSSPSSSPSPSSSSSPPISSSSSPISVBPIPIPISPSSSPSVBSPPIPISVBSPSPPISSSSSSSSSPSPVBSPISSSSSPISSSSPISSSSSSSPISSSSPISSPSSPSSSVBSSPSSSSPISSSSPISVBSSSSSSPSSSSVBSPISPSSSPPISSSSPIPIVBSSPSPISSSSSSPISSSPIVBSPSVBSSSPSPSSSPISSSSPSSSSSSSPSSSSSSSSSSSPSPISSSSSSSPISSPSSSVBSVBSVBSSPSPVBVBSSPIVBPIPIPISVBSSSSSSSPSSVBPISSSSSPISVBSSSSVBPIVBSSVBSSSPISSSSPISSSSSSPSSSPSVBSPVBSSSSSSSPSSSSSPISSSPVBSPSPSSSSSSSSSPISSSSSSPISSSPSSPISSSPSSSSPSSPSPISPIPISVBSSPSSSSSSSSSSSPISSPSSSPISSSPSPSSSPVBSSPISSSSSSPSSSSPSSPSVBSPISSSSPIPISSSSPISPSSPSSPSSSSPSSSPSSPSVBSSSSPSSSPSSSSSPSSSSPIPIPISPSSSPISPSSSSPSSSSSSSVBVBSSSPIVBSSASPSPSPSSSSSSSPISPIPISSSVBSSVBVBPISSSSVBSPSSSSPSSSSVBSSSSPSAVBSSSVBSVBVBSSSSPSPSSSSSPSSSSPSASPSVBSSSPSPSSSSPSVBVBSPSSSSSVBSSSSASSSSSSSSSSPSSPISSVBSASSSPSSSSSPISPIPIPISASSSSVBPISSPSPSSSSPVBSPSSSSPVBSSSSSSSSSPSSPSSSSSSSPSSSPPISPIVBSPIPISSSSPSSPSSSVBSPSPSSSSSSSSSSPISPISVBPISVBSSSPSSSSSSVBSPSPIPISSSSSPSSSSPSSSPSPSSSSSPSSSSSSVBVBSSVBSSPISSSSSSPSSPISSSPSSSSSPSSSSSPISPSVBSSSSPSPISSSPVBPISVBVBSPSSSSPISPSPISSSSPSVBSSSPISPSPSSSSSVBSPSSPISSSPIPISSSSSSVBSPSPSSSSSPISSSSSSSPISSSSPISPSSVBSSSVBSSSPSSPSSSSSPSSSPSSSSVBVBPISSSSSSPIVBSSPVBSPSSSSSSASVBSSSSSPISPSSPSSPSPSSSSPPISPSSSPISSSSSSSPVBSPSSSSSSSVBSSSSSPSSSPISSSPSSPSSSSPISSSSPIPIPIPISPSSSSSPSSSPSSPSPPISPSSPIPISSASSPISPSPSSPIPISSPPIPISSSPSSSSPISSPISSPIPISSSSSPPISSPSSPIVBSPPISPISPISSSSSAPISSSPSSSPSSPIPISSPSSSSSSPSSPSASPPISSSSPPISSPSSSSVBSPSSSSSSSPISSSSSSSSSSSSPISSSSPSSSPISSSSSSPSSSSSSSSSSSSSSSSPSVBSASPSSSSPISPIVBSSPSASSPSSSSSSSSSPVBSSVBSSSSSSPPISSSSPSPSSPIPISPSSSSSPSPPISSPSPSSSSPISSSASSPISSSSVBSSAPISSSSSSPSPSPSSPIPISSPVBSPPISPISSSSSPISSSSPISSSSSSPSSSSSSPSSSSSSSPSSPSSSPSSVBSSSSPSSPSVBSPSPISSSSSSPSSSPVBPISSPSSSPISSSSPISPIVBSPSSSSSPSPSPSSPSPSPSPSSSPSPISPSSSPSSSSSSSSSSSSPSSVBVBSSSSPSSVBSSPSPSSSSPSSSPSPIPISPISSSSSSPSVBSSPSSPIPIPIPISSSSSSSPVBPISPISSSPSPISSSPSPVBSPISPISSSSSPVBSSSSSVBSPVBPISVBSSSPSPISPISSSSSSSSSSSSPISSPISSPSPISSPSSSPIVBPISSPSSPSPSSSSSPIVBSVBSPSSSSVBSSPIPISPSSSSVBVBSSASPISSSSASSPSSPIPIPIPISSSSSSSSSSSSSSSSSSSPISVBPIPIVBSSSSSPISPSSSSSSSVBSSPISSPSPSSPSPPIVBSSPISSSPSSPPISSVBSSSSSSSSSVBSSVBSPSSSSPISPSSSPSSSSSSSSSSSSSSSSSSSPISPSSPSSSSPSSPSPSSSSSSPSVBSSSPSSSSSSSPPIVBSSPISSSPSPISSSSSSSSPIPISSPSSPSVBSSSPSSPSPSSSSSPISPISSSSPSVBSSSSPSSSSSSSSSVBSPVBSSASSSSSSPVBSSSSPSSPIVBSVBSPSSSSSSSPISSSSPIVBVBSSVBSPVBSSSSPSPISSSPIVBVBSPSPSSVBPIVBSPSSSPSSSPISSSSPIVBSSPSSSPSPIVBSSSPSSSSSSPSPISSPPISSSVBVBSSPISSSSSPSSASSSSPIVBSPIVBSSSSVBVBSPSSPVBSSSSSPSSPSSVBSPSVBVBSSSVBSPPISSSPSVBSSSPSSSPIPISSSSSSPVBSSPISSSPSSPSSPSSPSSSSSPISSSSPSSSPSSVBSSSSSSSSSVBSPISSSSVBVBSSPSSSSSSSSPSSSPSSVBVBVBVBSSVBVBPISSPSPSSSSSSSSSPVBSSPSSSSSSSSPISSVBSSSSPISSPVBSPSPVBSSSSSSPISSPSVBSPSSSSPIPIVBSSSPIPISSSSSVBSSPIPISSSSSSPISPISPISSPPIPIPISSSPSSSPSSSSPISPISSSSSSSASSVBSVBSPISSSSPISPPIVBSSVBSSSSSSPISSPPISPSSPISSSSSSSSASSVBSSPISSVBSSPSPSPISVBSSPSSPVBSSVBSSSPISSPISSSSSSSPISSVBSSSPIVBSSVBSSVBSSPISASSSPSPSSPSSSSSVBSVBSSSSSSSSSSSPSASPPISSSSSSSSSSSSSSSSSSSSSPSSSSSSSSPSSPISSVBSSPIPIVBSSSSSSSSSSSSSSPSSSSSPSSSSSSSSSSSSSSPISSPSSSSSSSSVBSSSSPSSPPIPISSSPVBSSSSSSSSSASSSVBSSSSSSSSPSSSSVBSSSVBSSSSSSSSSSPSSPSPISSSPISVBSSPSSSSSSPISPIPISSSSPSPSSPSSSPSSSSPIVBSSPSSSPVBSSSSSSSSSPISSSSSSSSSSSSPSSSSPSSSPSSPISSSPISSSSSSSPIPISSSPSPPISSSSSSVBSSSSVBSPISPISPISSPSSSSSPSSSPIVBSPISPSSSSPISSPISSSPIVBSSSSSSSVBSVBVBVBSSSPISSPSSSPSPSSPSSSSASPISPIVBSSSPSSSPSSPSSSSSSSSSSPPISSPISSSPSSPSSSPSSSPIPISSVBPISSSSASSPISSASSSSSSSSVBPIPISSSPSSPIPISPVBSSSSSSSPISPSPISPSSSASSSSSSSSSPSSSPISPSSSSSSSPIVBSSSSSSPISSPIVBSPSSSVBSPSPSSVBSPSPSPISSSPSPSSSSPPISPSSSSSSVBSSSSSSPSSSSPSPSSPPISSPVBSSVBVBSPSSSPISVBSSSSSSSASSPISVBSPSPISSASSSPISSSPSSPSSPPISSSSSSSSSSSSSSSSSSSSSPIPISSPSVBPISPSSSSSPSVBVBSSSSSSSSSSSSPISVBSSPSPSSPSPSSSSPVBSSSSSPISSVBSSSSSPISSSSVBSSSSSPVBVBVBSPISSSSSSSSSSVBSSSSSSSSSSSSSPSSSSSSSSSVBSPISPSSSSPSSSSSVBVBSSPVBSSSPSPSPSVBSSSSPSSSPVBSSSSSSSSSSPSSSSPISAPIPIPISVBVBSPISPPISSSPSSSSSVBSSSSSSSSSSSSASSPPISPSSSSAVBSSSSSPISSSPISSPSSPSSSSSSPSPSSSPSSASSSSPSSPSSPSSSSPIVBSSPVBSSASSSPSSSPSSSSSSSPISVBVBSSPVBPISVBSSSPSPSASPSVBSSPSSVBSSSSSSSSPPISSSSASPSSVBPIVBSSSPSVBVBSSSVBSPISPIVBPISSSSSPSSVBSSVBSPSSSPSPSPISSSSVBSVBSVBSPSSVBVBSPISPISSPIVBPIVBSPSSPSVBSSSSSPSVBSSPSSASSSPSPISSPSSSSVBPISSPSSSSPVBSSSSSSSSSPSVBSSSSVBSSSSSSSSSSSSSPSSVBSSSPPISSVBSSPSVBVBSSSSPISPPISSSSPSPVBSPSSSSPSPVBVBSSAPISSPSPSSSPIVBPISSPISSPISSVBPIPISASVBSSSSSSSSSSSPISSSPVBSPPIPISPIVBSSSPSSSPPISVBSSSSSSPISSSASSSPSSPIVBSSSSVBPISSSPVBSPIPIVBVBPISSVBSVBSSSSSSSSSSSSPPISSSSSPSSSSSSSSSSSSSVBVBSSPSSSSSSPSSSPISSSSSPVBSSPSSSSSSSSSSSSSSSSSSSSSSVBSSPSSSSSSVBPISSSPSSSPIVBSPVBVBSSPISSSSSSSSSSPISVBSSSSPISSSSSPSSSSSSPSSSPSPPISVBSPISPISSSPSSSPSSSSPIVBVBVBSSSSSSPSPISPSSSVBSSSPSVBSSSSVBSSSPSSPVBSSSSSSSSSSVBSPSSSSPISPISVBSPISSSPISSSSSSSSPSSSSSSSSSPSPSSSVBSSSPVBSSSPSPSSSPSSSSSPSPVBSSSSPSPSSPSSPSSSSSSSSSSVBVBPIPIVBSVBVBSSSASPPISSSPIPISVBSPISSSSVBSSSSSSSPSPSSPISSVBSSVBSPISSSPISASSSSSSSSSSSSSSSSSSPISSSPISSSSSSPSSSSSPSSSSPISPSPPIPISASSSSSSSPVBSSPISPISSPISSPSSSPSSSSVBVBSSPSPSSSSPISSPSSSVBSPSPSSSSSSPSPSASSSSPSSSSSVBSSSSPSSSSSSSSSSPSSSVBSPSSSPSPPISSSSSSPISPSSSVBPISSPSSPISPSASSSSPSSPSSSSSSSSSSSSASASSVBSSPIPISSASPISSSPISPSAVBPISSAVBVBSPSSSSSSSPSSSVBVBSPIPISPISSASSSPSPSVBSSSSSSSSSSSSPSSPSPSSSSSSSPSPSSPSSPSSPISSSSSSSVBSSSSSPISSSSSSSSSSSSPSSSPSPIPISSSSSSVBSSSSPSPSVBSSSSPVBSVBSSSSSPISPISPSSPISSPSSSSSSPSSSPSSSSPISSSVBSSSSVBSSSSPISPPISSSPSVBSPISSSSSSSSSSPSPSPSPISSSSSSSSPSPSSSSVBSSVBSASPSSSPSSSSSSSSPPISSSSSSVBSVBSSPISSPISSSVBVBVBSPISSPSPSPSSSSSPSSPSPSPSSSSSPSSSPSSPSPSPISSSSSPISSSSSPISSSSSSSPISSVBSPISSPSPSSSPSPSSSSPIPISSSPIVBSSPISPSSSSSPISSPPISSSSSPSSASSVBSSSVBSSPSSSSSSSSSSPSVBVBSPSSSVBSSSVBSPSSSSSSPISSSSVBSSSPISSSPSVBSSSSSSPISPISSPSSSSVBSPSPISSPVBSSSSPIPISSSVBPIVBSSSSSSPSPPISSSPSSPSVBSSSSSSVBSSSSPSPSSSPISSSPSSVBSSSPSSVBSSSSSSSSPSPSSSSPISSSSSSPVBSSPSVBSSSSSPSSSVBSPSPSSSSSSVBVBVBPISPSSSSSSSSSPISPSPVBSSVBSSSAPISSPSSSVBSSSSSSSSSSSPISSPISSVBPISSPISPSSPIPISSSSVBPIPISSSVBSVBSSPSPIPIVBSSSSSPSSSSSSPISSPSPISSSSSSSSSVBSSSSSPISSSSSSPIVBSSSSSSPPISPSPISPSPVBSVBSSPSSSSSSSPSSSVBVBSPPISSSSVBSVBSSSPSSSSSPSSPSPISSSSSSSPSSSSPIVBSSPSSSSSVBPISVBSSPVBSSSPSVBSSSSPISSSSVBVBVBPISSSSPSSPISSSSSSSSSSPISSVBSAVBSPISSSPISSSSSSSVBSSVBSSPSSSSSSSPSSSPSSPSSPSPISSSSSSSSPVBSSSPVBSSASPISVBSSSSSSSPISVBSSSSSSSSSSSSSPSSSSSSPISPVBVBSPSSSSSPVBSPISSSSSSPISPISVBVBVBVBSSSPISSPISSPSPIVBSSVBSSSSSSPSVBSSSSSSSSVBSSSSPSSSPISSPSSSSSSSSASSSSPSPPISSVBSSVBSSSSPSPVBPIVBSSSSPSSSSSPISPISSPISSVBVBPISPIVBSVBSSSSSPSSSSSPSSPIVBVBPIPISPPISSSPSSSPISSPSSSSSSPSSASVBSVBSSSSPSPSSPISSSSPSSSSVBSSPPISVBSSSSSPSSPISSPISSSSSPSVBSSPISSSSPSSSSPSSSSPSPSSSSPPISSPSSSASSSSPISPSPISSSSSPSPISSPSPSPSSPSSSPSSPIVBSSPPISSPISPSSSSSSSPIPIPISPIVBSSSSSPSSSSSVBVBSSSSSSSSSSVBVBPISSPISPSPSSSSSSVBSPISSPSSSASSSSSPIVBSSPSPISSSPSPIVBSSSSSSSSSVBSSSPSVBSSVBSPISSSSSSSSPSSPISSPSSSSSSSSSSSSPISSSVBSSPSPSPISPISPISSSPSSSSSASSPSSSSSSSSSSSSSSSPSSSVBSSSSPSSSSPIPISSSSSSSSSSSPSSSSVBSSSSSPPISSSSSSVBSSSSVBVBSSSPPIVBSSSVBPIPIVBSSPSSSPISSPSSSSPSSPSVBPISSSPSPSPPISSSVBSVBVBSSPISSSSSSSSSSPSSSSSSSSPISSSSPSSSSSSSSSPISSSSVBVBSSSSSSSSSSSPISPIVBVBPISSSSSSPSSSAVBSSSSPSPSPPIPISVBSPISSSVBSSSSPSSSSSPISSSSSSSPISSPSSSPSSPSPVBVBSSSSSPISPSVBSPISPPIPISSPSSSVBPISPISVBSSVBVBPISPVBSSVBSSSSSSSSSVBSSSSSSSSSPSSSSSPISVBSSSSPSSSSSPISPSPSSSSPIPISSSSSVBSSSSVBSSVBSSPISSSVBVBSVBSPSPISSSSPISVBSSSSPSPSPSSSSVBSSPSSVBSSSSSSSPISPSSSPISVBSSPISSSSPSSPIVBSSSSSPPIPISSPSSSPIPISPSPISSPSSSSSVBPISSSSSPISSSPSPSSVBSSSSPISSAVBPISSPISPSPISSSPSPVBPISSSSSSPSPSASPSPISSPSPSPSSSPPISSSSSSSPSSSPSSSSSSSPSSPSPSSSSPIPISPIVBSPISSPSPSPSSSPPISSPISSSSSSSSSSSSPSSSSPISSSSPSSSSVBVBSSSSSSSSSPISPSSSSPISSSSPSPISP'",
      "\nDuring handling of the above exception, another exception occurred:\n",
      "\u001b[1;31mValueError\u001b[0m                                Traceback (most recent call last)",
      "\u001b[1;32m~\\anaconda3\\lib\\site-packages\\pandas\\core\\nanops.py\u001b[0m in \u001b[0;36m_ensure_numeric\u001b[1;34m(x)\u001b[0m\n\u001b[0;32m   1540\u001b[0m             \u001b[1;32mtry\u001b[0m\u001b[1;33m:\u001b[0m\u001b[1;33m\u001b[0m\u001b[1;33m\u001b[0m\u001b[0m\n\u001b[1;32m-> 1541\u001b[1;33m                 \u001b[0mx\u001b[0m \u001b[1;33m=\u001b[0m \u001b[0mcomplex\u001b[0m\u001b[1;33m(\u001b[0m\u001b[0mx\u001b[0m\u001b[1;33m)\u001b[0m\u001b[1;33m\u001b[0m\u001b[1;33m\u001b[0m\u001b[0m\n\u001b[0m\u001b[0;32m   1542\u001b[0m             \u001b[1;32mexcept\u001b[0m \u001b[0mValueError\u001b[0m \u001b[1;32mas\u001b[0m \u001b[0merr\u001b[0m\u001b[1;33m:\u001b[0m\u001b[1;33m\u001b[0m\u001b[1;33m\u001b[0m\u001b[0m\n",
      "\u001b[1;31mValueError\u001b[0m: complex() arg is a malformed string",
      "\nThe above exception was the direct cause of the following exception:\n",
      "\u001b[1;31mTypeError\u001b[0m                                 Traceback (most recent call last)",
      "\u001b[1;32m~\\AppData\\Local\\Temp/ipykernel_8044/3147788023.py\u001b[0m in \u001b[0;36m<module>\u001b[1;34m\u001b[0m\n\u001b[1;32m----> 1\u001b[1;33m \u001b[0mprint\u001b[0m\u001b[1;33m(\u001b[0m\u001b[0mmelb_data\u001b[0m\u001b[1;33m[\u001b[0m\u001b[1;34m'Price'\u001b[0m\u001b[1;33m]\u001b[0m\u001b[1;33m.\u001b[0m\u001b[0mmean\u001b[0m\u001b[1;33m(\u001b[0m\u001b[1;33m)\u001b[0m\u001b[1;33m)\u001b[0m\u001b[1;33m\u001b[0m\u001b[1;33m\u001b[0m\u001b[0m\n\u001b[0m",
      "\u001b[1;32m~\\anaconda3\\lib\\site-packages\\pandas\\core\\generic.py\u001b[0m in \u001b[0;36mmean\u001b[1;34m(self, axis, skipna, level, numeric_only, **kwargs)\u001b[0m\n\u001b[0;32m  11116\u001b[0m         )\n\u001b[0;32m  11117\u001b[0m         \u001b[1;32mdef\u001b[0m \u001b[0mmean\u001b[0m\u001b[1;33m(\u001b[0m\u001b[0mself\u001b[0m\u001b[1;33m,\u001b[0m \u001b[0maxis\u001b[0m\u001b[1;33m=\u001b[0m\u001b[1;32mNone\u001b[0m\u001b[1;33m,\u001b[0m \u001b[0mskipna\u001b[0m\u001b[1;33m=\u001b[0m\u001b[1;32mNone\u001b[0m\u001b[1;33m,\u001b[0m \u001b[0mlevel\u001b[0m\u001b[1;33m=\u001b[0m\u001b[1;32mNone\u001b[0m\u001b[1;33m,\u001b[0m \u001b[0mnumeric_only\u001b[0m\u001b[1;33m=\u001b[0m\u001b[1;32mNone\u001b[0m\u001b[1;33m,\u001b[0m \u001b[1;33m**\u001b[0m\u001b[0mkwargs\u001b[0m\u001b[1;33m)\u001b[0m\u001b[1;33m:\u001b[0m\u001b[1;33m\u001b[0m\u001b[1;33m\u001b[0m\u001b[0m\n\u001b[1;32m> 11118\u001b[1;33m             \u001b[1;32mreturn\u001b[0m \u001b[0mNDFrame\u001b[0m\u001b[1;33m.\u001b[0m\u001b[0mmean\u001b[0m\u001b[1;33m(\u001b[0m\u001b[0mself\u001b[0m\u001b[1;33m,\u001b[0m \u001b[0maxis\u001b[0m\u001b[1;33m,\u001b[0m \u001b[0mskipna\u001b[0m\u001b[1;33m,\u001b[0m \u001b[0mlevel\u001b[0m\u001b[1;33m,\u001b[0m \u001b[0mnumeric_only\u001b[0m\u001b[1;33m,\u001b[0m \u001b[1;33m**\u001b[0m\u001b[0mkwargs\u001b[0m\u001b[1;33m)\u001b[0m\u001b[1;33m\u001b[0m\u001b[1;33m\u001b[0m\u001b[0m\n\u001b[0m\u001b[0;32m  11119\u001b[0m \u001b[1;33m\u001b[0m\u001b[0m\n\u001b[0;32m  11120\u001b[0m         \u001b[1;31m# pandas\\core\\generic.py:10924: error: Cannot assign to a method\u001b[0m\u001b[1;33m\u001b[0m\u001b[1;33m\u001b[0m\u001b[1;33m\u001b[0m\u001b[0m\n",
      "\u001b[1;32m~\\anaconda3\\lib\\site-packages\\pandas\\core\\generic.py\u001b[0m in \u001b[0;36mmean\u001b[1;34m(self, axis, skipna, level, numeric_only, **kwargs)\u001b[0m\n\u001b[0;32m  10724\u001b[0m \u001b[1;33m\u001b[0m\u001b[0m\n\u001b[0;32m  10725\u001b[0m     \u001b[1;32mdef\u001b[0m \u001b[0mmean\u001b[0m\u001b[1;33m(\u001b[0m\u001b[0mself\u001b[0m\u001b[1;33m,\u001b[0m \u001b[0maxis\u001b[0m\u001b[1;33m=\u001b[0m\u001b[1;32mNone\u001b[0m\u001b[1;33m,\u001b[0m \u001b[0mskipna\u001b[0m\u001b[1;33m=\u001b[0m\u001b[1;32mNone\u001b[0m\u001b[1;33m,\u001b[0m \u001b[0mlevel\u001b[0m\u001b[1;33m=\u001b[0m\u001b[1;32mNone\u001b[0m\u001b[1;33m,\u001b[0m \u001b[0mnumeric_only\u001b[0m\u001b[1;33m=\u001b[0m\u001b[1;32mNone\u001b[0m\u001b[1;33m,\u001b[0m \u001b[1;33m**\u001b[0m\u001b[0mkwargs\u001b[0m\u001b[1;33m)\u001b[0m\u001b[1;33m:\u001b[0m\u001b[1;33m\u001b[0m\u001b[1;33m\u001b[0m\u001b[0m\n\u001b[1;32m> 10726\u001b[1;33m         return self._stat_function(\n\u001b[0m\u001b[0;32m  10727\u001b[0m             \u001b[1;34m\"mean\"\u001b[0m\u001b[1;33m,\u001b[0m \u001b[0mnanops\u001b[0m\u001b[1;33m.\u001b[0m\u001b[0mnanmean\u001b[0m\u001b[1;33m,\u001b[0m \u001b[0maxis\u001b[0m\u001b[1;33m,\u001b[0m \u001b[0mskipna\u001b[0m\u001b[1;33m,\u001b[0m \u001b[0mlevel\u001b[0m\u001b[1;33m,\u001b[0m \u001b[0mnumeric_only\u001b[0m\u001b[1;33m,\u001b[0m \u001b[1;33m**\u001b[0m\u001b[0mkwargs\u001b[0m\u001b[1;33m\u001b[0m\u001b[1;33m\u001b[0m\u001b[0m\n\u001b[0;32m  10728\u001b[0m         )\n",
      "\u001b[1;32m~\\anaconda3\\lib\\site-packages\\pandas\\core\\generic.py\u001b[0m in \u001b[0;36m_stat_function\u001b[1;34m(self, name, func, axis, skipna, level, numeric_only, **kwargs)\u001b[0m\n\u001b[0;32m  10709\u001b[0m         \u001b[1;32mif\u001b[0m \u001b[0mlevel\u001b[0m \u001b[1;32mis\u001b[0m \u001b[1;32mnot\u001b[0m \u001b[1;32mNone\u001b[0m\u001b[1;33m:\u001b[0m\u001b[1;33m\u001b[0m\u001b[1;33m\u001b[0m\u001b[0m\n\u001b[0;32m  10710\u001b[0m             \u001b[1;32mreturn\u001b[0m \u001b[0mself\u001b[0m\u001b[1;33m.\u001b[0m\u001b[0m_agg_by_level\u001b[0m\u001b[1;33m(\u001b[0m\u001b[0mname\u001b[0m\u001b[1;33m,\u001b[0m \u001b[0maxis\u001b[0m\u001b[1;33m=\u001b[0m\u001b[0maxis\u001b[0m\u001b[1;33m,\u001b[0m \u001b[0mlevel\u001b[0m\u001b[1;33m=\u001b[0m\u001b[0mlevel\u001b[0m\u001b[1;33m,\u001b[0m \u001b[0mskipna\u001b[0m\u001b[1;33m=\u001b[0m\u001b[0mskipna\u001b[0m\u001b[1;33m)\u001b[0m\u001b[1;33m\u001b[0m\u001b[1;33m\u001b[0m\u001b[0m\n\u001b[1;32m> 10711\u001b[1;33m         return self._reduce(\n\u001b[0m\u001b[0;32m  10712\u001b[0m             \u001b[0mfunc\u001b[0m\u001b[1;33m,\u001b[0m \u001b[0mname\u001b[0m\u001b[1;33m=\u001b[0m\u001b[0mname\u001b[0m\u001b[1;33m,\u001b[0m \u001b[0maxis\u001b[0m\u001b[1;33m=\u001b[0m\u001b[0maxis\u001b[0m\u001b[1;33m,\u001b[0m \u001b[0mskipna\u001b[0m\u001b[1;33m=\u001b[0m\u001b[0mskipna\u001b[0m\u001b[1;33m,\u001b[0m \u001b[0mnumeric_only\u001b[0m\u001b[1;33m=\u001b[0m\u001b[0mnumeric_only\u001b[0m\u001b[1;33m\u001b[0m\u001b[1;33m\u001b[0m\u001b[0m\n\u001b[0;32m  10713\u001b[0m         )\n",
      "\u001b[1;32m~\\anaconda3\\lib\\site-packages\\pandas\\core\\series.py\u001b[0m in \u001b[0;36m_reduce\u001b[1;34m(self, op, name, axis, skipna, numeric_only, filter_type, **kwds)\u001b[0m\n\u001b[0;32m   4180\u001b[0m                 )\n\u001b[0;32m   4181\u001b[0m             \u001b[1;32mwith\u001b[0m \u001b[0mnp\u001b[0m\u001b[1;33m.\u001b[0m\u001b[0merrstate\u001b[0m\u001b[1;33m(\u001b[0m\u001b[0mall\u001b[0m\u001b[1;33m=\u001b[0m\u001b[1;34m\"ignore\"\u001b[0m\u001b[1;33m)\u001b[0m\u001b[1;33m:\u001b[0m\u001b[1;33m\u001b[0m\u001b[1;33m\u001b[0m\u001b[0m\n\u001b[1;32m-> 4182\u001b[1;33m                 \u001b[1;32mreturn\u001b[0m \u001b[0mop\u001b[0m\u001b[1;33m(\u001b[0m\u001b[0mdelegate\u001b[0m\u001b[1;33m,\u001b[0m \u001b[0mskipna\u001b[0m\u001b[1;33m=\u001b[0m\u001b[0mskipna\u001b[0m\u001b[1;33m,\u001b[0m \u001b[1;33m**\u001b[0m\u001b[0mkwds\u001b[0m\u001b[1;33m)\u001b[0m\u001b[1;33m\u001b[0m\u001b[1;33m\u001b[0m\u001b[0m\n\u001b[0m\u001b[0;32m   4183\u001b[0m \u001b[1;33m\u001b[0m\u001b[0m\n\u001b[0;32m   4184\u001b[0m     \u001b[1;32mdef\u001b[0m \u001b[0m_reindex_indexer\u001b[0m\u001b[1;33m(\u001b[0m\u001b[0mself\u001b[0m\u001b[1;33m,\u001b[0m \u001b[0mnew_index\u001b[0m\u001b[1;33m,\u001b[0m \u001b[0mindexer\u001b[0m\u001b[1;33m,\u001b[0m \u001b[0mcopy\u001b[0m\u001b[1;33m)\u001b[0m\u001b[1;33m:\u001b[0m\u001b[1;33m\u001b[0m\u001b[1;33m\u001b[0m\u001b[0m\n",
      "\u001b[1;32m~\\anaconda3\\lib\\site-packages\\pandas\\core\\nanops.py\u001b[0m in \u001b[0;36m_f\u001b[1;34m(*args, **kwargs)\u001b[0m\n\u001b[0;32m     71\u001b[0m             \u001b[1;32mtry\u001b[0m\u001b[1;33m:\u001b[0m\u001b[1;33m\u001b[0m\u001b[1;33m\u001b[0m\u001b[0m\n\u001b[0;32m     72\u001b[0m                 \u001b[1;32mwith\u001b[0m \u001b[0mnp\u001b[0m\u001b[1;33m.\u001b[0m\u001b[0merrstate\u001b[0m\u001b[1;33m(\u001b[0m\u001b[0minvalid\u001b[0m\u001b[1;33m=\u001b[0m\u001b[1;34m\"ignore\"\u001b[0m\u001b[1;33m)\u001b[0m\u001b[1;33m:\u001b[0m\u001b[1;33m\u001b[0m\u001b[1;33m\u001b[0m\u001b[0m\n\u001b[1;32m---> 73\u001b[1;33m                     \u001b[1;32mreturn\u001b[0m \u001b[0mf\u001b[0m\u001b[1;33m(\u001b[0m\u001b[1;33m*\u001b[0m\u001b[0margs\u001b[0m\u001b[1;33m,\u001b[0m \u001b[1;33m**\u001b[0m\u001b[0mkwargs\u001b[0m\u001b[1;33m)\u001b[0m\u001b[1;33m\u001b[0m\u001b[1;33m\u001b[0m\u001b[0m\n\u001b[0m\u001b[0;32m     74\u001b[0m             \u001b[1;32mexcept\u001b[0m \u001b[0mValueError\u001b[0m \u001b[1;32mas\u001b[0m \u001b[0me\u001b[0m\u001b[1;33m:\u001b[0m\u001b[1;33m\u001b[0m\u001b[1;33m\u001b[0m\u001b[0m\n\u001b[0;32m     75\u001b[0m                 \u001b[1;31m# we want to transform an object array\u001b[0m\u001b[1;33m\u001b[0m\u001b[1;33m\u001b[0m\u001b[1;33m\u001b[0m\u001b[0m\n",
      "\u001b[1;32m~\\anaconda3\\lib\\site-packages\\pandas\\core\\nanops.py\u001b[0m in \u001b[0;36mf\u001b[1;34m(values, axis, skipna, **kwds)\u001b[0m\n\u001b[0;32m    133\u001b[0m                     \u001b[0mresult\u001b[0m \u001b[1;33m=\u001b[0m \u001b[0malt\u001b[0m\u001b[1;33m(\u001b[0m\u001b[0mvalues\u001b[0m\u001b[1;33m,\u001b[0m \u001b[0maxis\u001b[0m\u001b[1;33m=\u001b[0m\u001b[0maxis\u001b[0m\u001b[1;33m,\u001b[0m \u001b[0mskipna\u001b[0m\u001b[1;33m=\u001b[0m\u001b[0mskipna\u001b[0m\u001b[1;33m,\u001b[0m \u001b[1;33m**\u001b[0m\u001b[0mkwds\u001b[0m\u001b[1;33m)\u001b[0m\u001b[1;33m\u001b[0m\u001b[1;33m\u001b[0m\u001b[0m\n\u001b[0;32m    134\u001b[0m             \u001b[1;32melse\u001b[0m\u001b[1;33m:\u001b[0m\u001b[1;33m\u001b[0m\u001b[1;33m\u001b[0m\u001b[0m\n\u001b[1;32m--> 135\u001b[1;33m                 \u001b[0mresult\u001b[0m \u001b[1;33m=\u001b[0m \u001b[0malt\u001b[0m\u001b[1;33m(\u001b[0m\u001b[0mvalues\u001b[0m\u001b[1;33m,\u001b[0m \u001b[0maxis\u001b[0m\u001b[1;33m=\u001b[0m\u001b[0maxis\u001b[0m\u001b[1;33m,\u001b[0m \u001b[0mskipna\u001b[0m\u001b[1;33m=\u001b[0m\u001b[0mskipna\u001b[0m\u001b[1;33m,\u001b[0m \u001b[1;33m**\u001b[0m\u001b[0mkwds\u001b[0m\u001b[1;33m)\u001b[0m\u001b[1;33m\u001b[0m\u001b[1;33m\u001b[0m\u001b[0m\n\u001b[0m\u001b[0;32m    136\u001b[0m \u001b[1;33m\u001b[0m\u001b[0m\n\u001b[0;32m    137\u001b[0m             \u001b[1;32mreturn\u001b[0m \u001b[0mresult\u001b[0m\u001b[1;33m\u001b[0m\u001b[1;33m\u001b[0m\u001b[0m\n",
      "\u001b[1;32m~\\anaconda3\\lib\\site-packages\\pandas\\core\\nanops.py\u001b[0m in \u001b[0;36mnew_func\u001b[1;34m(values, axis, skipna, mask, **kwargs)\u001b[0m\n\u001b[0;32m    392\u001b[0m             \u001b[0mmask\u001b[0m \u001b[1;33m=\u001b[0m \u001b[0misna\u001b[0m\u001b[1;33m(\u001b[0m\u001b[0mvalues\u001b[0m\u001b[1;33m)\u001b[0m\u001b[1;33m\u001b[0m\u001b[1;33m\u001b[0m\u001b[0m\n\u001b[0;32m    393\u001b[0m \u001b[1;33m\u001b[0m\u001b[0m\n\u001b[1;32m--> 394\u001b[1;33m         \u001b[0mresult\u001b[0m \u001b[1;33m=\u001b[0m \u001b[0mfunc\u001b[0m\u001b[1;33m(\u001b[0m\u001b[0mvalues\u001b[0m\u001b[1;33m,\u001b[0m \u001b[0maxis\u001b[0m\u001b[1;33m=\u001b[0m\u001b[0maxis\u001b[0m\u001b[1;33m,\u001b[0m \u001b[0mskipna\u001b[0m\u001b[1;33m=\u001b[0m\u001b[0mskipna\u001b[0m\u001b[1;33m,\u001b[0m \u001b[0mmask\u001b[0m\u001b[1;33m=\u001b[0m\u001b[0mmask\u001b[0m\u001b[1;33m,\u001b[0m \u001b[1;33m**\u001b[0m\u001b[0mkwargs\u001b[0m\u001b[1;33m)\u001b[0m\u001b[1;33m\u001b[0m\u001b[1;33m\u001b[0m\u001b[0m\n\u001b[0m\u001b[0;32m    395\u001b[0m \u001b[1;33m\u001b[0m\u001b[0m\n\u001b[0;32m    396\u001b[0m         \u001b[1;32mif\u001b[0m \u001b[0mdatetimelike\u001b[0m\u001b[1;33m:\u001b[0m\u001b[1;33m\u001b[0m\u001b[1;33m\u001b[0m\u001b[0m\n",
      "\u001b[1;32m~\\anaconda3\\lib\\site-packages\\pandas\\core\\nanops.py\u001b[0m in \u001b[0;36mnanmean\u001b[1;34m(values, axis, skipna, mask)\u001b[0m\n\u001b[0;32m    631\u001b[0m \u001b[1;33m\u001b[0m\u001b[0m\n\u001b[0;32m    632\u001b[0m     \u001b[0mcount\u001b[0m \u001b[1;33m=\u001b[0m \u001b[0m_get_counts\u001b[0m\u001b[1;33m(\u001b[0m\u001b[0mvalues\u001b[0m\u001b[1;33m.\u001b[0m\u001b[0mshape\u001b[0m\u001b[1;33m,\u001b[0m \u001b[0mmask\u001b[0m\u001b[1;33m,\u001b[0m \u001b[0maxis\u001b[0m\u001b[1;33m,\u001b[0m \u001b[0mdtype\u001b[0m\u001b[1;33m=\u001b[0m\u001b[0mdtype_count\u001b[0m\u001b[1;33m)\u001b[0m\u001b[1;33m\u001b[0m\u001b[1;33m\u001b[0m\u001b[0m\n\u001b[1;32m--> 633\u001b[1;33m     \u001b[0mthe_sum\u001b[0m \u001b[1;33m=\u001b[0m \u001b[0m_ensure_numeric\u001b[0m\u001b[1;33m(\u001b[0m\u001b[0mvalues\u001b[0m\u001b[1;33m.\u001b[0m\u001b[0msum\u001b[0m\u001b[1;33m(\u001b[0m\u001b[0maxis\u001b[0m\u001b[1;33m,\u001b[0m \u001b[0mdtype\u001b[0m\u001b[1;33m=\u001b[0m\u001b[0mdtype_sum\u001b[0m\u001b[1;33m)\u001b[0m\u001b[1;33m)\u001b[0m\u001b[1;33m\u001b[0m\u001b[1;33m\u001b[0m\u001b[0m\n\u001b[0m\u001b[0;32m    634\u001b[0m \u001b[1;33m\u001b[0m\u001b[0m\n\u001b[0;32m    635\u001b[0m     \u001b[1;32mif\u001b[0m \u001b[0maxis\u001b[0m \u001b[1;32mis\u001b[0m \u001b[1;32mnot\u001b[0m \u001b[1;32mNone\u001b[0m \u001b[1;32mand\u001b[0m \u001b[0mgetattr\u001b[0m\u001b[1;33m(\u001b[0m\u001b[0mthe_sum\u001b[0m\u001b[1;33m,\u001b[0m \u001b[1;34m\"ndim\"\u001b[0m\u001b[1;33m,\u001b[0m \u001b[1;32mFalse\u001b[0m\u001b[1;33m)\u001b[0m\u001b[1;33m:\u001b[0m\u001b[1;33m\u001b[0m\u001b[1;33m\u001b[0m\u001b[0m\n",
      "\u001b[1;32m~\\anaconda3\\lib\\site-packages\\pandas\\core\\nanops.py\u001b[0m in \u001b[0;36m_ensure_numeric\u001b[1;34m(x)\u001b[0m\n\u001b[0;32m   1542\u001b[0m             \u001b[1;32mexcept\u001b[0m \u001b[0mValueError\u001b[0m \u001b[1;32mas\u001b[0m \u001b[0merr\u001b[0m\u001b[1;33m:\u001b[0m\u001b[1;33m\u001b[0m\u001b[1;33m\u001b[0m\u001b[0m\n\u001b[0;32m   1543\u001b[0m                 \u001b[1;31m# e.g. \"foo\"\u001b[0m\u001b[1;33m\u001b[0m\u001b[1;33m\u001b[0m\u001b[1;33m\u001b[0m\u001b[0m\n\u001b[1;32m-> 1544\u001b[1;33m                 \u001b[1;32mraise\u001b[0m \u001b[0mTypeError\u001b[0m\u001b[1;33m(\u001b[0m\u001b[1;34mf\"Could not convert {x} to numeric\"\u001b[0m\u001b[1;33m)\u001b[0m \u001b[1;32mfrom\u001b[0m \u001b[0merr\u001b[0m\u001b[1;33m\u001b[0m\u001b[1;33m\u001b[0m\u001b[0m\n\u001b[0m\u001b[0;32m   1545\u001b[0m     \u001b[1;32mreturn\u001b[0m \u001b[0mx\u001b[0m\u001b[1;33m\u001b[0m\u001b[1;33m\u001b[0m\u001b[0m\n\u001b[0;32m   1546\u001b[0m \u001b[1;33m\u001b[0m\u001b[0m\n",
      "\u001b[1;31mTypeError\u001b[0m: Could not convert SSSPPIVBSSSSSVBVBSSSPSSSSSPISSSPISSPPISSSSSSSSPSSPIVBSPSSSVBSSSPSSSPISSSPIPISSSPSSSSPISSSPSPSSSSSSPISSSSPISSSSSVBVBSVBSPISSSSSSSSVBSSVBSSPPISSSSSSSSSSPIVBSSSSSSSSSPISSSSSPVBSPSSSPSPSVBSSSPISPSSPVBSSSSPSSSSSSPSPSSPSPSSPSSPSPISSPSSPISSSSSPSSPSSSSPSSSPSSSSVBSPISPVBSSPSSSPSSPSSPSPSSSSSSSSSSPSPPISSVBSSSSSSSPSPSVBSVBPIPISSSSPPIPISSSSSPIPISSSSSVBSPPISVBSSPVBSSPPISSSSSSSVBSSPISSSSSPSSSSPSPVBSSSPPIPISPSSSSPISPSSSSPISSPSSSVBSPISSPISSVBSSSSSPSSPSPSSSSSPSSSSSSSSVBSSSSPIPIPISSSSSPSPIPISSPIPIPIPISSSSSSSSSSSSVBSSPISSSPSSSVBSSSSSSSSVBSSSPIVBSSSSPISSPISSSSSPVBSSSPISPSSVBSSSSSSSSSSSSSSSSVBSSSPSSSSVBSSSSSSPSSPISSPSPSSSPSSASSSPSVBSSSPISSPSSSPSPSPISSSSSSSPSSPSPIVBSSSSPSSSSSSVBSSPPISVBSSAPIVBSPISVBSPISSSVBSPIVBSVBPISSPPISSVBSPISSSSPSPISPIVBSSSVBSASVBSSSPIVBVBSPIVBSSSSSVBPISPISSVBVBSPISSSSPISPSVBPISPISSPISPIVBSPISSSVBSSSSPPIPISPISSVBSVBVBPIPIPISSVBPISPIVBSSSSPSVBVBSPSVBVBSPSPISPISPIPISSPPISSSSPISSPSSPISPISSSVBSSPVBSVBSVBVBSSSVBSPIPIVBSSSSSSVBSPIPIVBSVBPIPISSSSSPISSSSSPISPIVBSSPISSSPIPISSSPSSSSSVBSPSPSPSSSPISSPIPISSSSPSSSSSPISSSSSSSSSVBPISSSSSSSSPISSSSSPISPIPISSSSSSSSSSSSSSPISSSSPSSSSSPISSSSSPISSPISSSSSVBPISPISSSSPISSPPISPSSSSSSSSSSSSSSSVBSSSSSPISSPISSPISSSSSPISSPSPIPISSSPSSSPIPIPISSSSSSVBSSSSSSPSSSSPISPIPISSSSSSSSPSSSSPVBSPSSPSPISSSVBSSSSSSPISPISSSSSPSSSPVBPISSSSSSSSVBPISSSSPISPIVBSPISPISSSSSSSPISSSSSSSPISPSPSSPSSSSVBSSSSPSSSSSSSSPVBSSSSSSVBSSSSSSVBSSSPSSSSPSSASSSSSSSVBSSSSSPSSSPISSSSVBSSSSPSSSSSSSSPISSSSSSSSSSVBSSSSSPSVBSPIPISPISSSPIPISSSPISPISSSSSSVBSPVBSSSSSSSSSSVBPISSSSSSSSSSSSPSVBSVBSPSPSSSSSSPISSSSSSPSPSPISPISSPSSSSSSSSSSSSVBVBSSSPPISPSPISPSSSSPIVBVBPISSSPIVBVBPISPVBSSPISSSVBPIVBPISSSSSSPSSSSASPISPPISSSPIPISSSSSPISPISSSSPPIVBSSPISPSSVBSPSSSSSSSSSSSSSSSSSSSSVBSSPSPIPISSPPIPISSPISSSSSSSPISSSSSPISSSSPISSSSSSSSPSSSSVBSPSSSSPSSVBSSSSSSSSSSPSPISSSSSPISPISSSPSSSPISSSSSSSSPSSSSPPISSSSSSSSSSSSPSSSPIVBSSPIPIPISSPPISPISPISSSSSSPSSSSSSSPISSSSSSPISSPVBSPSPISSPSPSSSSPISSSPSPISVBSSSSSSPSSSSSSPISPSPISSSSVBSSPIPISVBSSVBPIVBSSSPISSPPISSPISSSPSPISPISPISSSSSPSSSSPISPSSSSPISPPIVBSSSSSPIPIPIVBSSSSSSSSSASSVBSSPISSSSSPIVBSSPSPISSSSSPSSSSSSSSSSSPIPIPISVBSASSSSVBPISSSSASSVBSPISPSSSPIVBSPSVBVBPISPSSSVBSSSSPPISPVBVBPISSSPISPPISSVBPIPISSSSSSPPIPISSSSSSSSSVBSSSPPISSSSSSSSPPISPIVBSPISSSPISSSPIVBSSSSSPIPISVBSPISVBSSSPPISSSVBSSSSSVBSSSVBSPSSPISSSSSSSSSSSSSSSSSVBVBSSSSPSSSSSSSSPSSSPISPSSVBSVBSSSSVBSSSPPISSPISSSVBVBSASSSVBPISSPIPISSSPSSSSSPSSSSSSSPSSPISSSSSSSSPISPIPIPISSSVBSSSSSSSSSSSSSSSSSSSPSSVBSPPISSSSPPISPVBVBSPSSSPSSPSSPISSSVBSSSPISSSSSVBSSVBSSSSPISSSSSSSSSSSVBSSVBSSVBSSSSSSPISPPISSSSSSPSSSSSSSSSSSSSPSSSVBSSSPSVBVBSSSSSPSPSSVBSVBSPSSSSSSPISSSSVBSPIPISSSSPPIVBSSPSSVBSSSSSPPISSSPSSSSVBSSPSSPSSSSPSVBSVBSPPISSSSSPISSPISSPSSPSSSSSSPISSSVBSSSSPSSPISVBSPSSASSSSPISPISSSSSPISSSPSVBSSPSSPISPSSSPSSSPISSSPSSPSSSPSPSPSSSPSSSSSPPISSSSPSSSSSSSSSSPISSSSSPSPSSSSSSSSSSPSSSPVBSPSSPSSSSSSPISSSSSSPSSSSVBSSPSSSSSVBSSPISSSSSPISPSPIVBPISSPIPISSSSVBSSSPISSSSPISSPSSSPSSSSSPIPISSSSPISPSSSPIPISPSVBSPISSSSPSSSSSPISSSPVBSSSSSSSVBSSSSSVBSPSVBVBSSSVBSSVBSSSPSSSSPIVBPISPVBSVBPISSSSSSSVBPIPIVBSSSSPISSPSSPISVBSSSSPSSSSSSSSSVBSPISSSSPISSVBPISSVBPIPISSPISSSSSSSSSSSPISSSSPPISSPPIPISPSVBSPSPISSVBSPISSPSSSSSPSPSVBVBSPPISPISSPISPIVBSSVBVBPISSSSPSSSSSSVBSPISSPPISSSSSPISSSSSSSPISSSSSSSSPISSSSSVBSVBVBSSSVBSPSSSSSPISPSSSPIPISSSSSSVBSSSSSSPSSSSVBPIVBVBSSPSPSPSPSSSSSSPSSPVBSSSSSSSVBVBSPVBSPISPISSSPISSSSPISPISSVBSSSSSSSSPSSPSSSSVBPISSSPIPISSPVBSSSSSPISVBVBPIVBVBSSSSSPSVBSSPSSSSSSSSPISSSSVBPISSSSSSPSSVBSSSPSSSSVBSVBSSSPSSSVBSSPSSPVBSASSSSSSSSSVBSSSSSSSSPSSVBSSSSPVBSSSSVBSSSSSSVBSVBSSSSSSPISSSSPISPSPVBSSSPSPISPSSPPISPSSSSSPSPISVBSSSPVBSPSVBSPVBSSSPISPSPSSSSSSSSSPPIPISSPISSPSPISSSSSSPSSSSPPISSVBSSSPSSSPSPSPSSSSPISSPSPISSSPVBSSPSPSSPSSPVBSPSSPISSPPISPSSSPSSPISSSPSSSSPPISSPSSSSVBPIVBSSSSSSPISPISPISVBSPVBVBSSSSSSSSPSSSVBSPISPISSSPVBSSSPSPIVBSSPSPSSSPIPIPISSPSPIPISSSSSPSVBSSPISSSSSSSPSSPIPISPISPISPIVBSVBSSSPSSSPIVBSSSSSSSSSVBSSPIPISSSSSSSPISVBPISSSPSSPIPIVBSSPSPISSVBSPSSSSSPPISSSPISSSSVBSSPSSSSSSPISPSSSSSPISSPISSSPSPSSSSSSPSSPSSPSSPPISPSPSPSSSSSPISSSSVBSPSPSSPISSSSSSSSPISPSVBPISPISPPISPSSSSSSSSPSSPSSSSSSSSSSSSSSPPISSSPSSPVBVBSSSSSSSSSPSSSSSSSVBVBSSPVBSVBPIVBSSPISSSSVBPISPISSSPSSPISPIPISPSASSSSSSSSPSSSSSSSPISPISPISSSSSSPISPSSPSSPISSPISVBVBSSSSSSSSSSSSSSSSSSSPISSSSSPISSSSVBSPISSSSSSSVBSPISSSSSSSPISSSSVBSPPISSSSSSSSSSVBSSSPIVBSSSVBSPIVBSSSSPIVBSSPISVBSPSSPIVBPISSVBSVBSVBVBSSPSSSSSSSSSSSSSSVBSSSSPSSPIPIPISSSVBSVBSSPSSSSVBSSSSSPSSSVBVBSSSSSVBSSSSPSSVBSSVBSPSSSPSPSPISSVBSPSSVBSSSSSSPSPSSSVBSSSSSSSSSSSSPIPISPSPSSSSSPIPISVBSPISSSSSSSSSPSSPISSPSSSSSSSSSSSVBSSSSSSPISSSSSPIVBVBSPSSVBSPSSSSSSSSSSSSSSSSSSSSSSSSPSSVBSSVBSSPSVBSSSSSSPIVBSSVBSSSSSSPSSSPSSSSPISPIPISPSPSSPSSSSPSPSSSPSPVBSPSSPSPSSSSVBSSSSSSPSSSSSSSSSSPSSSSSSSSVBPISPSSSSSSSSPSSSSSSSSPISPSSSSSPSPPISSSPISSSSSSPSSPSSSSSSSSVBSSSPSPSSPISSSSSPSPSSPIVBSVBSSSSPVBVBSSPSSSSSSPVBSSPSSPSPSSPSSPSVBPISSPPISSPSSSSSPISSPSPSSSSSSSVBSSPPISSPSSSSSVBSSSVBSSVBSSSSPPISSSSSSSSSSSPIPISSSSPISPSSSSVBPISSSVBSSSPISSSPISSPISVBVBSVBSPIVBVBSSVBSPSSSSSSVBSPISSSSPIVBSPISPPISSVBVBPISPISVBSSSSVBSSSPISPISSSSPSSVBSVBVBSASSPSSSSSSSSPISSPSPSSPSPSSPSPSSPSSPISPPISSPSSPSPSPSSSSPIPISSSSPISSPSPSPSVBPISPSSSSPSSSSPSSSSVBSSSVBSVBSSSSPSSPIVBSSSPSSSSVBSPSSSSPISSSPPISSSSSSPIVBVBSSPSSSSPISVBSSPISPIPISVBVBSSSSSSSPVBVBSSPPIPISSSPSSSSVBVBVBPISSPISSPIPISSSSSSPISSSSSSPISSPIPISPSSSPISSSSSSPISPSVBSVBVBSSSPSSPPIPIVBVBSPSPSPSSPSSSSSSVBSPSSPSPSSPSSSPPISSSPIPISSSSVBSSVBSPSSSVBSVBSPPISPPISSPSSPISPSSSPIPISSSSPVBSSVBVBSSSSPSVBVBSSSSPSPVBSVBVBSPISVBVBSSVBVBSSSVBSSVBPIVBSSSSVBSSSPSSSPSSSSVBSPPISPSSSPPIPISSPISPISSSSSVBPISSSVBSSSSSVBSSSPSPISSPSVBSSPSPISVBSSVBSSPISSSSSSPSSSSVBVBVBSPSSVBSVBSVBSSSSPSSPSSSSSPSPISVBSSSSPVBSSPSPSPSSSSPISSPSSSSSPSSPSVBSSPSSVBSSSSSSSSSSVBSPSSSSPSSPSAPISSSSSSSSSSSSSSSSSSPISSPPISSPISSSSSSSPISVBSSPSSPSSSSVBVBSSSPSSPIPISPSSSSPISSPSPSPSSPSSSSSSSSSSSSSPSSSSSSPSSSSSSSSSSPSSSPSPSPSPSPPISSPSSSPSSSSPSSPSPISSSPSSSSSPSSSPSPIPISSPSSSSSSPPISSSSSSSSSSPVBSSSSVBSSPSSSSSSPSSSPSSPISSPISSPISSSSPSSSSSSSPSASVBSPVBVBSSSSSSSPSVBSSPISSPSSVBSSSSSPSPSVBSSPSPSVBSSSSSPSSSASVBPISSSSPISPSPSPSPPIVBPISASSPSSSSSSPISSSSPSSSPISSSPISSSSSPISSSSSPSSPISPSPSSSSSSSSPSPSSPISSPSSSSSSSSSVBSSSSPISPSSSPSSSPSVBSSSSSSSSVBSSSPPISVBPISSPIVBSSPSSSPIPIPISSSSSSSPIPISSSSSSPISSPISSPSPSSSSPSVBSPPISVBSSSSSPISSSSSPPISSSSSPSSSPPISSSSSSSSSSPSSSSSSSPSSPISSSSSSPSSPSSSSPSSSPSSSSSSSSSSSSSSPIPISPSPSSSSSSSSSPSPISPVBSSVBSSSSPISVBSPVBSSSPPISPISPSSPSSPSSSSPSPSVBVBVBPIVBSSSSSSPSPSVBPISSSSPVBSSSPSSSVBSSPPISSSSSSVBSPSVBVBSSPSPIVBSSSPVBSSSVBVBSSSSVBSVBSSSVBSSPSSPSSVBSSPISSSSSSPISSSSSVBSSSPSSVBSPSSSSSSSSSPISSSSPSSSSPISVBSPVBSSSPSSPISSPISSSSSVBSSPISSSVBSPISSSSPVBSPISSSSSSPISVBSVBPISSSSSPSPISPISSSPISVBSSPISVBSSAVBSSVBPISSSSSSSVBSSSPISSSSPISSSSSSPSSSSPSSSSVBSSSSPPISSSSSPISSPISSPSSSSPISSPISSSSSSVBSPISSPSSSPISSPSPISSPISVBPIPISPSPSSSPSPISSSSSSSSSSSPPISSPSSPSSPISSPISVBSSSSPSPISSSSSSSPSSPSVBSSSSPISSSSVBPISSPSSPSPSSSSSSSSSPISSSPIPISPISSSSSSPVBPISSSSSSSPSPISPIPISPISSPSSSSPISSSSSSSSSSSPISPSPISSSPISPISSSSSSSSPIVBSPISSSSSSSPISSSPSPSVBSSPSSPISPISSPISSSPSSPISSPISSSPPISPPISSSSSSSPISSPSPIPISPISSSSPISSPSPSPISSPSPSPSSSSSVBSSSSPSPISSSPISSSSPIPISSSSPSSSSSSSSSSPISSSSSVBSSSVBSSSSPSPSSPISSVBSSSSSPSSSSSSVBSSPSSSSSSSSVBSPISSSPISSSSSSSSSPSSSSPSSPSSSSSSSSSSVBSSSSPSSSPISSSPSPISSSSSPSPSSPSSPISSSPISSSPSSSSPISPISSPSVBSSPIPIVBVBPISPSSSSSSPISSSSSSSPISSSSSSSPSSSSPISSPSPPISSSSPISSSSSSSSSSSSSSSSSSSSSSSSSVBSSSPIVBSSSPPISSSSSSPISPISSSSPSSSSPISSPISSPSSSSSSSPISSSPSSSSSSPSSSPISVBSSSSSSVBSPPISSSSPISPSPISPSSSSSSPIVBSPSSVBSSPSSPSSSPSPSVBSSSSSPPISPSSSSSSSPSSSSSSSSSSSSVBSSSPSPISSSPSSPPISPSVBSSPSSPSVBSSPSPSSPSPVBSSVBSSPSSPISSSPISSPSSSSSSPISPSPISSPSSSSSSPSVBSVBSVBPIVBVBVBVBSSSVBPISSSPISSSSSVBSPSSSPVBSSPSSPPIPISSPISSSSSSAPISSSPISPSPISPSPSPISSSPSSPSSSSPPISSSSSPIPIPISSSPISSPISVBSSPISPPISSPIVBPISSSPIVBVBSSSSSSSSSSVBSVBSSSSPSSVBPIVBSSSSSSSSVBSSSSVBSPVBSPISVBSSVBPISSPSSPPISSVBSSPISSPISSSSSSSSPSPISSSSPSVBVBSSSSPISSSSPIVBVBSPVBVBVBSSSPISVBVBSSSSSVBSVBSSSSSSSSPSSPISPISSSSPPIVBSPISVBSVBSVBSPSSSSSSVBSPSVBSSSPSPSPISPISSPISSPVBVBSVBSPSPSPISSPSPSPPISPISPISASPISVBSSPIVBSPISSSSPISPSPISVBSSPIPISSSSSVBSSVBSPISSPISPSPSSVBSVBSPPISSPSPPISSPSSSSSPSSVBSSSSSSSSSSSSSPIVBSPSSSSSPSPVBSSSSSSPSSSPSVBVBSSPIVBSPIPISSSSSSSSSPSPIPISSPISPSSSSSSSSSSSSSSPSPPISSSSSPSSSSSSSSPIPISSSSSSSSPSPISPSSSSSSPISSPISSSPSPSSPISPIPISSSSSPPISPISSSSSSSPIPISSSSSVBSPSSSPSPSSSSPSSSPSPSPISSSSSSSPSSVBSSSSSSPSPSSSSSSPSSSSSSPSSPSPISSSSPSSSSSPSSSPSSPISSSSSSSSSPSSVBSSPSPSSSSSSSSVBSSPSVBSSVBVBSSSSSSSSPISSVBSVBSPISSSVBSSSVBPISSSSPVBVBPISSVBSPIPISPISSSSPISSSSSSSPISVBSSSVBSPSSSSPIVBSPSSSSSPSSSPISSSPISPISPSPIPISSSPISPIPIVBSSSPISSPISSSPISPISSSSSSSPSPISSPSSPISSSVBPISSVBSPISVBSSPSPIPIPISSVBSPSSSPISPSSPISSSPSSPSSSSSPSSSSPSSSVBSSSSSPISPSSSSSSVBSPSPISSSPSSVBSSSPSVBSSSSPSPSSSSSPIVBSPSSPSPSSSPPISVBSSSSSVBSSVBPISSPIPISPISPPIVBSSSVBPISPPIVBSPSPVBPISPIPISVBSVBPISPSSSSSSSVBPISVBSSSSSPIPIPISPSPPISPSSSSSSSSSSPSSSPISSSSPSSSSSPSPSSVBSSSPSSVBSSSSSPSSSSSPSSSSSPISSSSSSSSPISSSSSSSSSPISVBSPISSPISSSPSSSSSSSPIVBSSPSPSPSSSSSPSSPSSPSPSPISSSSPSSPSPISSSSSSPSSPSPSASPSSSSSSPISSPSSPSSSSPSPSSSSPSPISSSPSSVBSPSPSSPSPPISPSSPVBVBSSSPISSSVBSSSSSSPIVBPISPIVBPISSSSSPVBVBSSPPISSSVBSSSPISSSSSSSSSSSSSSSSSSSSSSPSPSSVBSSVBSPSSSPPISVBSSVBSSSSPSVBSSPISPSSPISSVBSSSPPISSPSPISSPSPISPSVBPISSSPSSSSSVBSSPIVBVBSPSSSSSSSSSSPSSSSSSSPSPSPPISPISSSSPVBSSSVBSPSSSSSSSSSPSSSPSSPIPISSVBVBSSSVBSPISPSSPSSSSSSSPSPPISSSSSSSPSPISSSSSPSPISSSSPISSVBSSSVBSSPIVBSPISPISSSSSSSPIPISPSSPSPISSSPSPSPSSSPSSPSPISSPSPISPSSSSVBPISSPSPSSSPIPIPIVBSSSSSSSSSVBSSSSPSSSPSPISPSPSPSPSSPPISSSSVBSSSSSVBVBPISPPISSVBSSPSSPSSSSPSSPSSPSSVBSSPISPSSSSSSPSSSSSSSSPSPSPSSSPSSSSSPISPSSSSSSPSPSSSSSSPISSSSSSSPISSSSSVBSVBPISSSSPISVBSPIVBSSPPISVBSVBPISSSSSVBPIVBSVBSSSSPISVBSSVBPISSSVBSSPISSVBSSSPSSSSVBSSPIVBSPSSPIVBSSSPIPISSSPISSPIVBSSSPVBSSSSPISVBSSSSPSSSSPIVBSPSVBSSSSSSSPISVBSSPIPISSSPISSSSPISSPSSSSSSSPSSSPSSPISPISSPSSSSVBSPSPSVBSPSSSSPISSSPISSPISSSPSSSSSSSSSSSPPISPSSVBSVBSSSVBSPISSPIPISSSSPPISSVBVBSSSSSSSSPISSSSSPISSSSSSPSSSSVBSPSAPISPPISPIPISSSPISPSASSPSSSSSVBVBSPISSSPIPISSSSPSPPISSSSSSPSSSSSSSSSASSSPSSSVBSPPISPSSSSSSSSSSSSPSPSSPISSSPSSVBSSSSASSSPSSPISSSPVBSSSPSSSPSSSSPISSPPISPSSSSSSPISPISSSSSSPIPIPISSSPSSSSPSSPSSSSPISSSSSSPIPISSSSSSPISSSPISSSPISSPSSSPVBSSSSSSSVBSVBSSPSSPSPSSPSPSSPSSPVBSPSSSSVBSSSPSPVBSPPISSPSSPISPISSSSSSPSSSSSSPISPSSSVBSSSSPIVBPISPISSSSSPSSSPISSSPSSSSVBSSSSSSSSSPISSPISPSPISSSSSSSPSSSSPSPSPSPVBSSPISSSPISPISSSSVBVBSSPSSSSSSSSSSSSSPISPIPISSSPSSPISSPSSSSSSSSSSPSSSSSSSSSSSPSSPSVBPISPIPISSSSPIVBSSSSSSPISSSPSSSSSSSVBSSVBSSPIPISSSPSSSSVBSPISSPSSVBPISPSPPIVBSSPISSPSPVBSSSSSSSSSPSPSSPSVBSSPSSPSPISPSSSSVBSPISPIVBSSSSSPSSVBSSSSSSVBSSSSSPSSSSSSSSSSSSSSSSSSSSPISSPSPIVBVBSSSSSSPISSSSSSSPISSSSSSSSPSPSPISSPSVBSSSSSPISSAVBSSSSSSSSVBSSSSSSSSPPISSSSSSPISPVBSSSPSSSSSSPIPISSSSVBSSSVBSSSSPSSSPIPISPISSSSSSSSSVBSVBSSSSPVBSSSVBSPSSSVBSSSPIPIPIVBSSPISPSSSSSSSPISSSSSPSSSSSSSPSSSVBSPSSSSPISSVBSSPSSPISPSSPVBSSSPISPSSPPISPSSPSSPSSSPISSSSSSSSSSPIVBSPISSPSSSSSSSPSVBPISSSPSSSSPSSSSSSSSPPISSSPISVBSPISSSVBPIVBSSPVBVBSSSSSPVBSSPSSSSSVBPISSSSSSSSPISSSSSSSSPSSSVBSSSPSSSSSSSSSSSSSSSASSSPISSVBSSSSPIVBSSSSSSSPSSSSSSPSVBSPSSSSSSPISSSPSSSVBSSSPSSPPISPIVBSSSSPSSPSPVBSSVBSSSSSSSSSSSSSSSSVBSPSSVBSVBSVBSPSSPISSSSPIPISSVBSPISSSSSASSPISSPISSPSSPIPISPSSPSSSSSPSSSSSPSSPSSSPSPSSSSSPPISSSSSPISVBPIPIPISPSSSPSVBSPPIPISVBSPSPPISSSSSSSSSPSPVBSPISSSSSPISSSSPISSSSSSSPISSSSPISSPSSPSSSVBSSPSSSSPISSSSPISVBSSSSSSPSSSSVBSPISPSSSPPISSSSPIPIVBSSPSPISSSSSSPISSSPIVBSPSVBSSSPSPSSSPISSSSPSSSSSSSPSSSSSSSSSSSPSPISSSSSSSPISSPSSSVBSVBSVBSSPSPVBVBSSPIVBPIPIPISVBSSSSSSSPSSVBPISSSSSPISVBSSSSVBPIVBSSVBSSSPISSSSPISSSSSSPSSSPSVBSPVBSSSSSSSPSSSSSPISSSPVBSPSPSSSSSSSSSPISSSSSSPISSSPSSPISSSPSSSSPSSPSPISPIPISVBSSPSSSSSSSSSSSPISSPSSSPISSSPSPSSSPVBSSPISSSSSSPSSSSPSSPSVBSPISSSSPIPISSSSPISPSSPSSPSSSSPSSSPSSPSVBSSSSPSSSPSSSSSPSSSSPIPIPISPSSSPISPSSSSPSSSSSSSVBVBSSSPIVBSSASPSPSPSSSSSSSPISPIPISSSVBSSVBVBPISSSSVBSPSSSSPSSSSVBSSSSPSAVBSSSVBSVBVBSSSSPSPSSSSSPSSSSPSASPSVBSSSPSPSSSSPSVBVBSPSSSSSVBSSSSASSSSSSSSSSPSSPISSVBSASSSPSSSSSPISPIPIPISASSSSVBPISSPSPSSSSPVBSPSSSSPVBSSSSSSSSSPSSPSSSSSSSPSSSPPISPIVBSPIPISSSSPSSPSSSVBSPSPSSSSSSSSSSPISPISVBPISVBSSSPSSSSSSVBSPSPIPISSSSSPSSSSPSSSPSPSSSSSPSSSSSSVBVBSSVBSSPISSSSSSPSSPISSSPSSSSSPSSSSSPISPSVBSSSSPSPISSSPVBPISVBVBSPSSSSPISPSPISSSSPSVBSSSPISPSPSSSSSVBSPSSPISSSPIPISSSSSSVBSPSPSSSSSPISSSSSSSPISSSSPISPSSVBSSSVBSSSPSSPSSSSSPSSSPSSSSVBVBPISSSSSSPIVBSSPVBSPSSSSSSASVBSSSSSPISPSSPSSPSPSSSSPPISPSSSPISSSSSSSPVBSPSSSSSSSVBSSSSSPSSSPISSSPSSPSSSSPISSSSPIPIPIPISPSSSSSPSSSPSSPSPPISPSSPIPISSASSPISPSPSSPIPISSPPIPISSSPSSSSPISSPISSPIPISSSSSPPISSPSSPIVBSPPISPISPISSSSSAPISSSPSSSPSSPIPISSPSSSSSSPSSPSASPPISSSSPPISSPSSSSVBSPSSSSSSSPISSSSSSSSSSSSPISSSSPSSSPISSSSSSPSSSSSSSSSSSSSSSSPSVBSASPSSSSPISPIVBSSPSASSPSSSSSSSSSPVBSSVBSSSSSSPPISSSSPSPSSPIPISPSSSSSPSPPISSPSPSSSSPISSSASSPISSSSVBSSAPISSSSSSPSPSPSSPIPISSPVBSPPISPISSSSSPISSSSPISSSSSSPSSSSSSPSSSSSSSPSSPSSSPSSVBSSSSPSSPSVBSPSPISSSSSSPSSSPVBPISSPSSSPISSSSPISPIVBSPSSSSSPSPSPSSPSPSPSPSSSPSPISPSSSPSSSSSSSSSSSSPSSVBVBSSSSPSSVBSSPSPSSSSPSSSPSPIPISPISSSSSSPSVBSSPSSPIPIPIPISSSSSSSPVBPISPISSSPSPISSSPSPVBSPISPISSSSSPVBSSSSSVBSPVBPISVBSSSPSPISPISSSSSSSSSSSSPISSPISSPSPISSPSSSPIVBPISSPSSPSPSSSSSPIVBSVBSPSSSSVBSSPIPISPSSSSVBVBSSASPISSSSASSPSSPIPIPIPISSSSSSSSSSSSSSSSSSSPISVBPIPIVBSSSSSPISPSSSSSSSVBSSPISSPSPSSPSPPIVBSSPISSSPSSPPISSVBSSSSSSSSSVBSSVBSPSSSSPISPSSSPSSSSSSSSSSSSSSSSSSSPISPSSPSSSSPSSPSPSSSSSSPSVBSSSPSSSSSSSPPIVBSSPISSSPSPISSSSSSSSPIPISSPSSPSVBSSSPSSPSPSSSSSPISPISSSSPSVBSSSSPSSSSSSSSSVBSPVBSSASSSSSSPVBSSSSPSSPIVBSVBSPSSSSSSSPISSSSPIVBVBSSVBSPVBSSSSPSPISSSPIVBVBSPSPSSVBPIVBSPSSSPSSSPISSSSPIVBSSPSSSPSPIVBSSSPSSSSSSPSPISSPPISSSVBVBSSPISSSSSPSSASSSSPIVBSPIVBSSSSVBVBSPSSPVBSSSSSPSSPSSVBSPSVBVBSSSVBSPPISSSPSVBSSSPSSSPIPISSSSSSPVBSSPISSSPSSPSSPSSPSSSSSPISSSSPSSSPSSVBSSSSSSSSSVBSPISSSSVBVBSSPSSSSSSSSPSSSPSSVBVBVBVBSSVBVBPISSPSPSSSSSSSSSPVBSSPSSSSSSSSPISSVBSSSSPISSPVBSPSPVBSSSSSSPISSPSVBSPSSSSPIPIVBSSSPIPISSSSSVBSSPIPISSSSSSPISPISPISSPPIPIPISSSPSSSPSSSSPISPISSSSSSSASSVBSVBSPISSSSPISPPIVBSSVBSSSSSSPISSPPISPSSPISSSSSSSSASSVBSSPISSVBSSPSPSPISVBSSPSSPVBSSVBSSSPISSPISSSSSSSPISSVBSSSPIVBSSVBSSVBSSPISASSSPSPSSPSSSSSVBSVBSSSSSSSSSSSPSASPPISSSSSSSSSSSSSSSSSSSSSPSSSSSSSSPSSPISSVBSSPIPIVBSSSSSSSSSSSSSSPSSSSSPSSSSSSSSSSSSSSPISSPSSSSSSSSVBSSSSPSSPPIPISSSPVBSSSSSSSSSASSSVBSSSSSSSSPSSSSVBSSSVBSSSSSSSSSSPSSPSPISSSPISVBSSPSSSSSSPISPIPISSSSPSPSSPSSSPSSSSPIVBSSPSSSPVBSSSSSSSSSPISSSSSSSSSSSSPSSSSPSSSPSSPISSSPISSSSSSSPIPISSSPSPPISSSSSSVBSSSSVBSPISPISPISSPSSSSSPSSSPIVBSPISPSSSSPISSPISSSPIVBSSSSSSSVBSVBVBVBSSSPISSPSSSPSPSSPSSSSASPISPIVBSSSPSSSPSSPSSSSSSSSSSPPISSPISSSPSSPSSSPSSSPIPISSVBPISSSSASSPISSASSSSSSSSVBPIPISSSPSSPIPISPVBSSSSSSSPISPSPISPSSSASSSSSSSSSPSSSPISPSSSSSSSPIVBSSSSSSPISSPIVBSPSSSVBSPSPSSVBSPSPSPISSSPSPSSSSPPISPSSSSSSVBSSSSSSPSSSSPSPSSPPISSPVBSSVBVBSPSSSPISVBSSSSSSSASSPISVBSPSPISSASSSPISSSPSSPSSPPISSSSSSSSSSSSSSSSSSSSSPIPISSPSVBPISPSSSSSPSVBVBSSSSSSSSSSSSPISVBSSPSPSSPSPSSSSPVBSSSSSPISSVBSSSSSPISSSSVBSSSSSPVBVBVBSPISSSSSSSSSSVBSSSSSSSSSSSSSPSSSSSSSSSVBSPISPSSSSPSSSSSVBVBSSPVBSSSPSPSPSVBSSSSPSSSPVBSSSSSSSSSSPSSSSPISAPIPIPISVBVBSPISPPISSSPSSSSSVBSSSSSSSSSSSSASSPPISPSSSSAVBSSSSSPISSSPISSPSSPSSSSSSPSPSSSPSSASSSSPSSPSSPSSSSPIVBSSPVBSSASSSPSSSPSSSSSSSPISVBVBSSPVBPISVBSSSPSPSASPSVBSSPSSVBSSSSSSSSPPISSSSASPSSVBPIVBSSSPSVBVBSSSVBSPISPIVBPISSSSSPSSVBSSVBSPSSSPSPSPISSSSVBSVBSVBSPSSVBVBSPISPISSPIVBPIVBSPSSPSVBSSSSSPSVBSSPSSASSSPSPISSPSSSSVBPISSPSSSSPVBSSSSSSSSSPSVBSSSSVBSSSSSSSSSSSSSPSSVBSSSPPISSVBSSPSVBVBSSSSPISPPISSSSPSPVBSPSSSSPSPVBVBSSAPISSPSPSSSPIVBPISSPISSPISSVBPIPISASVBSSSSSSSSSSSPISSSPVBSPPIPISPIVBSSSPSSSPPISVBSSSSSSPISSSASSSPSSPIVBSSSSVBPISSSPVBSPIPIVBVBPISSVBSVBSSSSSSSSSSSSPPISSSSSPSSSSSSSSSSSSSVBVBSSPSSSSSSPSSSPISSSSSPVBSSPSSSSSSSSSSSSSSSSSSSSSSVBSSPSSSSSSVBPISSSPSSSPIVBSPVBVBSSPISSSSSSSSSSPISVBSSSSPISSSSSPSSSSSSPSSSPSPPISVBSPISPISSSPSSSPSSSSPIVBVBVBSSSSSSPSPISPSSSVBSSSPSVBSSSSVBSSSPSSPVBSSSSSSSSSSVBSPSSSSPISPISVBSPISSSPISSSSSSSSPSSSSSSSSSPSPSSSVBSSSPVBSSSPSPSSSPSSSSSPSPVBSSSSPSPSSPSSPSSSSSSSSSSVBVBPIPIVBSVBVBSSSASPPISSSPIPISVBSPISSSSVBSSSSSSSPSPSSPISSVBSSVBSPISSSPISASSSSSSSSSSSSSSSSSSPISSSPISSSSSSPSSSSSPSSSSPISPSPPIPISASSSSSSSPVBSSPISPISSPISSPSSSPSSSSVBVBSSPSPSSSSPISSPSSSVBSPSPSSSSSSPSPSASSSSPSSSSSVBSSSSPSSSSSSSSSSPSSSVBSPSSSPSPPISSSSSSPISPSSSVBPISSPSSPISPSASSSSPSSPSSSSSSSSSSSSASASSVBSSPIPISSASPISSSPISPSAVBPISSAVBVBSPSSSSSSSPSSSVBVBSPIPISPISSASSSPSPSVBSSSSSSSSSSSSPSSPSPSSSSSSSPSPSSPSSPSSPISSSSSSSVBSSSSSPISSSSSSSSSSSSPSSSPSPIPISSSSSSVBSSSSPSPSVBSSSSPVBSVBSSSSSPISPISPSSPISSPSSSSSSPSSSPSSSSPISSSVBSSSSVBSSSSPISPPISSSPSVBSPISSSSSSSSSSPSPSPSPISSSSSSSSPSPSSSSVBSSVBSASPSSSPSSSSSSSSPPISSSSSSVBSVBSSPISSPISSSVBVBVBSPISSPSPSPSSSSSPSSPSPSPSSSSSPSSSPSSPSPSPISSSSSPISSSSSPISSSSSSSPISSVBSPISSPSPSSSPSPSSSSPIPISSSPIVBSSPISPSSSSSPISSPPISSSSSPSSASSVBSSSVBSSPSSSSSSSSSSPSVBVBSPSSSVBSSSVBSPSSSSSSPISSSSVBSSSPISSSPSVBSSSSSSPISPISSPSSSSVBSPSPISSPVBSSSSPIPISSSVBPIVBSSSSSSPSPPISSSPSSPSVBSSSSSSVBSSSSPSPSSSPISSSPSSVBSSSPSSVBSSSSSSSSPSPSSSSPISSSSSSPVBSSPSVBSSSSSPSSSVBSPSPSSSSSSVBVBVBPISPSSSSSSSSSPISPSPVBSSVBSSSAPISSPSSSVBSSSSSSSSSSSPISSPISSVBPISSPISPSSPIPISSSSVBPIPISSSVBSVBSSPSPIPIVBSSSSSPSSSSSSPISSPSPISSSSSSSSSVBSSSSSPISSSSSSPIVBSSSSSSPPISPSPISPSPVBSVBSSPSSSSSSSPSSSVBVBSPPISSSSVBSVBSSSPSSSSSPSSPSPISSSSSSSPSSSSPIVBSSPSSSSSVBPISVBSSPVBSSSPSVBSSSSPISSSSVBVBVBPISSSSPSSPISSSSSSSSSSPISSVBSAVBSPISSSPISSSSSSSVBSSVBSSPSSSSSSSPSSSPSSPSSPSPISSSSSSSSPVBSSSPVBSSASPISVBSSSSSSSPISVBSSSSSSSSSSSSSPSSSSSSPISPVBVBSPSSSSSPVBSPISSSSSSPISPISVBVBVBVBSSSPISSPISSPSPIVBSSVBSSSSSSPSVBSSSSSSSSVBSSSSPSSSPISSPSSSSSSSSASSSSPSPPISSVBSSVBSSSSPSPVBPIVBSSSSPSSSSSPISPISSPISSVBVBPISPIVBSVBSSSSSPSSSSSPSSPIVBVBPIPISPPISSSPSSSPISSPSSSSSSPSSASVBSVBSSSSPSPSSPISSSSPSSSSVBSSPPISVBSSSSSPSSPISSPISSSSSPSVBSSPISSSSPSSSSPSSSSPSPSSSSPPISSPSSSASSSSPISPSPISSSSSPSPISSPSPSPSSPSSSPSSPIVBSSPPISSPISPSSSSSSSPIPIPISPIVBSSSSSPSSSSSVBVBSSSSSSSSSSVBVBPISSPISPSPSSSSSSVBSPISSPSSSASSSSSPIVBSSPSPISSSPSPIVBSSSSSSSSSVBSSSPSVBSSVBSPISSSSSSSSPSSPISSPSSSSSSSSSSSSPISSSVBSSPSPSPISPISPISSSPSSSSSASSPSSSSSSSSSSSSSSSPSSSVBSSSSPSSSSPIPISSSSSSSSSSSPSSSSVBSSSSSPPISSSSSSVBSSSSVBVBSSSPPIVBSSSVBPIPIVBSSPSSSPISSPSSSSPSSPSVBPISSSPSPSPPISSSVBSVBVBSSPISSSSSSSSSSPSSSSSSSSPISSSSPSSSSSSSSSPISSSSVBVBSSSSSSSSSSSPISPIVBVBPISSSSSSPSSSAVBSSSSPSPSPPIPISVBSPISSSVBSSSSPSSSSSPISSSSSSSPISSPSSSPSSPSPVBVBSSSSSPISPSVBSPISPPIPISSPSSSVBPISPISVBSSVBVBPISPVBSSVBSSSSSSSSSVBSSSSSSSSSPSSSSSPISVBSSSSPSSSSSPISPSPSSSSPIPISSSSSVBSSSSVBSSVBSSPISSSVBVBSVBSPSPISSSSPISVBSSSSPSPSPSSSSVBSSPSSVBSSSSSSSPISPSSSPISVBSSPISSSSPSSPIVBSSSSSPPIPISSPSSSPIPISPSPISSPSSSSSVBPISSSSSPISSSPSPSSVBSSSSPISSAVBPISSPISPSPISSSPSPVBPISSSSSSPSPSASPSPISSPSPSPSSSPPISSSSSSSPSSSPSSSSSSSPSSPSPSSSSPIPISPIVBSPISSPSPSPSSSPPISSPISSSSSSSSSSSSPSSSSPISSSSPSSSSVBVBSSSSSSSSSPISPSSSSPISSSSPSPISP to numeric"
     ]
    }
   ],
   "source": [
    "print(melb_data['Price'].mean())"
   ]
  },
  {
   "cell_type": "code",
   "execution_count": 21,
   "id": "b16d7fed",
   "metadata": {},
   "outputs": [
    {
     "name": "stdout",
     "output_type": "stream",
     "text": [
      "0.09764079662364533\n"
     ]
    }
   ],
   "source": [
    "landsize_median = melb_data['Landsize'].median() \n",
    "landsize_mean =  melb_data['Landsize'].mean()\n",
    "print(abs(landsize_median - landsize_mean)/landsize_mean)\n",
    "# 0.21205713983546193"
   ]
  },
  {
   "cell_type": "code",
   "execution_count": 22,
   "id": "73401585",
   "metadata": {},
   "outputs": [
    {
     "name": "stdout",
     "output_type": "stream",
     "text": [
      "u\n"
     ]
    }
   ],
   "source": [
    "print(melb_data['Rooms'].max())"
   ]
  },
  {
   "cell_type": "code",
   "execution_count": 23,
   "id": "02abbcc6",
   "metadata": {},
   "outputs": [
    {
     "data": {
      "text/plain": [
       "0    21650.0\n",
       "dtype: float64"
      ]
     },
     "execution_count": 23,
     "metadata": {},
     "output_type": "execute_result"
    }
   ],
   "source": [
    "melb_data['Regionname'].mode()"
   ]
  },
  {
   "cell_type": "code",
   "execution_count": 24,
   "id": "6f269125",
   "metadata": {},
   "outputs": [
    {
     "data": {
      "text/plain": [
       "21650.0    0.026436\n",
       "8870.0     0.021944\n",
       "14949.0    0.019146\n",
       "10969.0    0.018336\n",
       "14577.0    0.017599\n",
       "             ...   \n",
       "3307.0     0.000074\n",
       "3122.0     0.000074\n",
       "1863.0     0.000074\n",
       "2493.0     0.000074\n",
       "1328.0     0.000074\n",
       "Name: Regionname, Length: 311, dtype: float64"
      ]
     },
     "execution_count": 24,
     "metadata": {},
     "output_type": "execute_result"
    }
   ],
   "source": [
    "melb_data['Regionname'].value_counts(normalize=True)\n"
   ]
  },
  {
   "cell_type": "code",
   "execution_count": 25,
   "id": "07928da6",
   "metadata": {},
   "outputs": [
    {
     "name": "stdout",
     "output_type": "stream",
     "text": [
      "<class 'pandas.core.frame.DataFrame'>\n",
      "Int64Index: 13580 entries, 0 to 13579\n",
      "Data columns (total 23 columns):\n",
      " #   Column         Non-Null Count  Dtype  \n",
      "---  ------         --------------  -----  \n",
      " 0   index          13580 non-null  object \n",
      " 1   Suburb         13580 non-null  object \n",
      " 2   Address        13580 non-null  int64  \n",
      " 3   Rooms          13580 non-null  object \n",
      " 4   Type           13580 non-null  float64\n",
      " 5   Price          13580 non-null  object \n",
      " 6   Method         13580 non-null  object \n",
      " 7   SellerG        13580 non-null  object \n",
      " 8   Date           13580 non-null  float64\n",
      " 9   Distance       13580 non-null  int64  \n",
      " 10  Postcode       13580 non-null  int64  \n",
      " 11  Bedroom        13580 non-null  int64  \n",
      " 12  Bathroom       13580 non-null  int64  \n",
      " 13  Car            13580 non-null  int64  \n",
      " 14  Landsize       13580 non-null  float64\n",
      " 15  BuildingArea   13580 non-null  float64\n",
      " 16  YearBuilt      12211 non-null  object \n",
      " 17  CouncilArea    13580 non-null  float64\n",
      " 18  Lattitude      13580 non-null  float64\n",
      " 19  Longtitude     13580 non-null  object \n",
      " 20  Regionname     13580 non-null  float64\n",
      " 21  Propertycount  13580 non-null  int64  \n",
      " 22  Coordinates    13580 non-null  float64\n",
      "dtypes: float64(8), int64(7), object(8)\n",
      "memory usage: 2.5+ MB\n"
     ]
    }
   ],
   "source": [
    "melb_data.info()"
   ]
  },
  {
   "cell_type": "code",
   "execution_count": null,
   "id": "b54f960d",
   "metadata": {},
   "outputs": [
    {
     "data": {
      "text/plain": [
       "'u'"
      ]
     },
     "execution_count": 93,
     "metadata": {},
     "output_type": "execute_result"
    }
   ],
   "source": [
    "melb_data.iloc[:,4]"
   ]
  },
  {
   "cell_type": "code",
   "execution_count": null,
   "id": "fcb3f38e",
   "metadata": {},
   "outputs": [
    {
     "ename": "TypeError",
     "evalue": "'DataFrame' object is not callable",
     "output_type": "error",
     "traceback": [
      "\u001b[1;31m---------------------------------------------------------------------------\u001b[0m",
      "\u001b[1;31mTypeError\u001b[0m                                 Traceback (most recent call last)",
      "\u001b[1;32m<ipython-input-139-1bd4cd59dd53>\u001b[0m in \u001b[0;36m<module>\u001b[1;34m\u001b[0m\n\u001b[1;32m----> 1\u001b[1;33m \u001b[0mmelb_data\u001b[0m\u001b[1;33m(\u001b[0m\u001b[1;33m)\u001b[0m\u001b[1;33m.\u001b[0m\u001b[0mcount\u001b[0m\u001b[1;33m(\u001b[0m\u001b[1;33m)\u001b[0m\u001b[1;33m\u001b[0m\u001b[1;33m\u001b[0m\u001b[0m\n\u001b[0m",
      "\u001b[1;31mTypeError\u001b[0m: 'DataFrame' object is not callable"
     ]
    }
   ],
   "source": [
    "melb_data().count()"
   ]
  },
  {
   "cell_type": "code",
   "execution_count": null,
   "id": "15615ca8",
   "metadata": {},
   "outputs": [
    {
     "name": "stdout",
     "output_type": "stream",
     "text": [
      "0.09764079662364533\n"
     ]
    }
   ],
   "source": [
    "landsize_median = melb_data['BuildingArea'].median() \n",
    "landsize_mean =  melb_data['BuildingArea'].mean()\n",
    "print(abs(landsize_median - landsize_mean)/landsize_mean)"
   ]
  },
  {
   "cell_type": "code",
   "execution_count": null,
   "id": "d75f719a",
   "metadata": {},
   "outputs": [
    {
     "name": "stdout",
     "output_type": "stream",
     "text": [
      "   0\n",
      "0  2\n"
     ]
    }
   ],
   "source": [
    "dd = pd.DataFrame([1, 2, 4, 2, 3, 2, 1, 5, 6])\n",
    "print(dd.mode())"
   ]
  },
  {
   "cell_type": "code",
   "execution_count": null,
   "id": "35abdf7b",
   "metadata": {},
   "outputs": [
    {
     "ename": "TypeError",
     "evalue": "'DataFrame' object is not callable",
     "output_type": "error",
     "traceback": [
      "\u001b[1;31m---------------------------------------------------------------------------\u001b[0m",
      "\u001b[1;31mTypeError\u001b[0m                                 Traceback (most recent call last)",
      "\u001b[1;32m<ipython-input-80-e0cb349a3d88>\u001b[0m in \u001b[0;36m<module>\u001b[1;34m\u001b[0m\n\u001b[1;32m----> 1\u001b[1;33m \u001b[0mmelb_data\u001b[0m\u001b[1;33m(\u001b[0m\u001b[1;34m'type'\u001b[0m\u001b[1;33m)\u001b[0m\u001b[1;33m\u001b[0m\u001b[1;33m\u001b[0m\u001b[0m\n\u001b[0m",
      "\u001b[1;31mTypeError\u001b[0m: 'DataFrame' object is not callable"
     ]
    }
   ],
   "source": [
    "melb_data('type')"
   ]
  },
  {
   "cell_type": "code",
   "execution_count": null,
   "id": "3703360b",
   "metadata": {},
   "outputs": [
    {
     "data": {
      "text/plain": [
       "21650.0"
      ]
     },
     "execution_count": 5,
     "metadata": {},
     "output_type": "execute_result"
    }
   ],
   "source": [
    "melb_data['Propertycount'].max()"
   ]
  },
  {
   "cell_type": "code",
   "execution_count": null,
   "id": "ae81074b",
   "metadata": {},
   "outputs": [
    {
     "data": {
      "text/plain": [
       "5"
      ]
     },
     "execution_count": 10,
     "metadata": {},
     "output_type": "execute_result"
    }
   ],
   "source": [
    "melb_data[(melb_data['SellerG'] == 'Nelson') & (melb_data['Price']>3e6)].shape[0]"
   ]
  },
  {
   "cell_type": "code",
   "execution_count": null,
   "id": "2f322f9b",
   "metadata": {},
   "outputs": [
    {
     "data": {
      "text/plain": [
       "34"
      ]
     },
     "execution_count": 7,
     "metadata": {},
     "output_type": "execute_result"
    }
   ],
   "source": [
    "melb_data[melb_data['Bathroom'] == 0].shape[0]"
   ]
  },
  {
   "cell_type": "code",
   "execution_count": null,
   "id": "bb22cd5a",
   "metadata": {},
   "outputs": [
    {
     "data": {
      "text/plain": [
       "412500.0"
      ]
     },
     "execution_count": 16,
     "metadata": {},
     "output_type": "execute_result"
    }
   ],
   "source": [
    "melb_data[(melb_data['BuildingArea'] == 0)]['Price'].min()"
   ]
  },
  {
   "cell_type": "code",
   "execution_count": null,
   "id": "8e70e76c",
   "metadata": {},
   "outputs": [
    {
     "data": {
      "text/plain": [
       "769238"
      ]
     },
     "execution_count": 24,
     "metadata": {},
     "output_type": "execute_result"
    }
   ],
   "source": [
    "int(melb_data[(melb_data['Price']<1e6) & ((melb_data['Rooms']>5) | (melb_data['YearBuilt']>2015))]['Price'].mean())"
   ]
  },
  {
   "cell_type": "code",
   "execution_count": null,
   "id": "756b1138",
   "metadata": {},
   "outputs": [
    {
     "data": {
      "text/plain": [
       "0    Northern Metropolitan\n",
       "dtype: object"
      ]
     },
     "execution_count": 25,
     "metadata": {},
     "output_type": "execute_result"
    }
   ],
   "source": [
    "melb_data[(melb_data['Type'] == 'h') & (melb_data['Price'] < 3000000)]['Regionname'].mode()\n"
   ]
  },
  {
   "cell_type": "code",
   "execution_count": null,
   "id": "93c12854",
   "metadata": {
    "scrolled": true
   },
   "outputs": [
    {
     "data": {
      "text/html": [
       "<div>\n",
       "<style scoped>\n",
       "    .dataframe tbody tr th:only-of-type {\n",
       "        vertical-align: middle;\n",
       "    }\n",
       "\n",
       "    .dataframe tbody tr th {\n",
       "        vertical-align: top;\n",
       "    }\n",
       "\n",
       "    .dataframe thead th {\n",
       "        text-align: right;\n",
       "    }\n",
       "</style>\n",
       "<table border=\"1\" class=\"dataframe\">\n",
       "  <thead>\n",
       "    <tr style=\"text-align: right;\">\n",
       "      <th></th>\n",
       "      <th>gender</th>\n",
       "      <th>race/ethnicity</th>\n",
       "      <th>parental level of education</th>\n",
       "      <th>lunch</th>\n",
       "      <th>test preparation course</th>\n",
       "      <th>math score</th>\n",
       "      <th>reading score</th>\n",
       "      <th>writing score</th>\n",
       "    </tr>\n",
       "  </thead>\n",
       "  <tbody>\n",
       "    <tr>\n",
       "      <th>0</th>\n",
       "      <td>female</td>\n",
       "      <td>group B</td>\n",
       "      <td>bachelor's degree</td>\n",
       "      <td>standard</td>\n",
       "      <td>none</td>\n",
       "      <td>72</td>\n",
       "      <td>72</td>\n",
       "      <td>74</td>\n",
       "    </tr>\n",
       "    <tr>\n",
       "      <th>1</th>\n",
       "      <td>female</td>\n",
       "      <td>group C</td>\n",
       "      <td>some college</td>\n",
       "      <td>standard</td>\n",
       "      <td>completed</td>\n",
       "      <td>69</td>\n",
       "      <td>90</td>\n",
       "      <td>88</td>\n",
       "    </tr>\n",
       "    <tr>\n",
       "      <th>2</th>\n",
       "      <td>female</td>\n",
       "      <td>group B</td>\n",
       "      <td>master's degree</td>\n",
       "      <td>standard</td>\n",
       "      <td>none</td>\n",
       "      <td>90</td>\n",
       "      <td>95</td>\n",
       "      <td>93</td>\n",
       "    </tr>\n",
       "    <tr>\n",
       "      <th>3</th>\n",
       "      <td>male</td>\n",
       "      <td>group A</td>\n",
       "      <td>associate's degree</td>\n",
       "      <td>free/reduced</td>\n",
       "      <td>none</td>\n",
       "      <td>47</td>\n",
       "      <td>57</td>\n",
       "      <td>44</td>\n",
       "    </tr>\n",
       "    <tr>\n",
       "      <th>4</th>\n",
       "      <td>male</td>\n",
       "      <td>group C</td>\n",
       "      <td>some college</td>\n",
       "      <td>standard</td>\n",
       "      <td>none</td>\n",
       "      <td>76</td>\n",
       "      <td>78</td>\n",
       "      <td>75</td>\n",
       "    </tr>\n",
       "    <tr>\n",
       "      <th>...</th>\n",
       "      <td>...</td>\n",
       "      <td>...</td>\n",
       "      <td>...</td>\n",
       "      <td>...</td>\n",
       "      <td>...</td>\n",
       "      <td>...</td>\n",
       "      <td>...</td>\n",
       "      <td>...</td>\n",
       "    </tr>\n",
       "    <tr>\n",
       "      <th>995</th>\n",
       "      <td>female</td>\n",
       "      <td>group E</td>\n",
       "      <td>master's degree</td>\n",
       "      <td>standard</td>\n",
       "      <td>completed</td>\n",
       "      <td>88</td>\n",
       "      <td>99</td>\n",
       "      <td>95</td>\n",
       "    </tr>\n",
       "    <tr>\n",
       "      <th>996</th>\n",
       "      <td>male</td>\n",
       "      <td>group C</td>\n",
       "      <td>high school</td>\n",
       "      <td>free/reduced</td>\n",
       "      <td>none</td>\n",
       "      <td>62</td>\n",
       "      <td>55</td>\n",
       "      <td>55</td>\n",
       "    </tr>\n",
       "    <tr>\n",
       "      <th>997</th>\n",
       "      <td>female</td>\n",
       "      <td>group C</td>\n",
       "      <td>high school</td>\n",
       "      <td>free/reduced</td>\n",
       "      <td>completed</td>\n",
       "      <td>59</td>\n",
       "      <td>71</td>\n",
       "      <td>65</td>\n",
       "    </tr>\n",
       "    <tr>\n",
       "      <th>998</th>\n",
       "      <td>female</td>\n",
       "      <td>group D</td>\n",
       "      <td>some college</td>\n",
       "      <td>standard</td>\n",
       "      <td>completed</td>\n",
       "      <td>68</td>\n",
       "      <td>78</td>\n",
       "      <td>77</td>\n",
       "    </tr>\n",
       "    <tr>\n",
       "      <th>999</th>\n",
       "      <td>female</td>\n",
       "      <td>group D</td>\n",
       "      <td>some college</td>\n",
       "      <td>free/reduced</td>\n",
       "      <td>none</td>\n",
       "      <td>77</td>\n",
       "      <td>86</td>\n",
       "      <td>86</td>\n",
       "    </tr>\n",
       "  </tbody>\n",
       "</table>\n",
       "<p>1000 rows × 8 columns</p>\n",
       "</div>"
      ],
      "text/plain": [
       "     gender race/ethnicity parental level of education         lunch  \\\n",
       "0    female        group B           bachelor's degree      standard   \n",
       "1    female        group C                some college      standard   \n",
       "2    female        group B             master's degree      standard   \n",
       "3      male        group A          associate's degree  free/reduced   \n",
       "4      male        group C                some college      standard   \n",
       "..      ...            ...                         ...           ...   \n",
       "995  female        group E             master's degree      standard   \n",
       "996    male        group C                 high school  free/reduced   \n",
       "997  female        group C                 high school  free/reduced   \n",
       "998  female        group D                some college      standard   \n",
       "999  female        group D                some college  free/reduced   \n",
       "\n",
       "    test preparation course  math score  reading score  writing score  \n",
       "0                      none          72             72             74  \n",
       "1                 completed          69             90             88  \n",
       "2                      none          90             95             93  \n",
       "3                      none          47             57             44  \n",
       "4                      none          76             78             75  \n",
       "..                      ...         ...            ...            ...  \n",
       "995               completed          88             99             95  \n",
       "996                    none          62             55             55  \n",
       "997               completed          59             71             65  \n",
       "998               completed          68             78             77  \n",
       "999                    none          77             86             86  \n",
       "\n",
       "[1000 rows x 8 columns]"
      ]
     },
     "metadata": {},
     "output_type": "display_data"
    }
   ],
   "source": [
    "student_data = pd.read_csv('data/students_performance.csv', index_col = False)\n",
    "display(student_data)\n"
   ]
  },
  {
   "cell_type": "code",
   "execution_count": null,
   "id": "ffdc29c0",
   "metadata": {},
   "outputs": [
    {
     "data": {
      "text/plain": [
       "gender                               female\n",
       "race/ethnicity                      group C\n",
       "parental level of education    some college\n",
       "lunch                              standard\n",
       "test preparation course           completed\n",
       "math score                               70\n",
       "reading score                            89\n",
       "writing score                            88\n",
       "Name: 155, dtype: object"
      ]
     },
     "execution_count": 35,
     "metadata": {},
     "output_type": "execute_result"
    }
   ],
   "source": [
    "student_data.iloc[155]"
   ]
  },
  {
   "cell_type": "code",
   "execution_count": null,
   "id": "cbbcbab5",
   "metadata": {},
   "outputs": [],
   "source": [
    "import numpy as np"
   ]
  },
  {
   "cell_type": "code",
   "execution_count": null,
   "id": "4b29b9b1",
   "metadata": {},
   "outputs": [
    {
     "name": "stdout",
     "output_type": "stream",
     "text": [
      "<class 'pandas.core.frame.DataFrame'>\n",
      "RangeIndex: 1000 entries, 0 to 999\n",
      "Data columns (total 8 columns):\n",
      " #   Column                       Non-Null Count  Dtype \n",
      "---  ------                       --------------  ----- \n",
      " 0   gender                       1000 non-null   object\n",
      " 1   race/ethnicity               1000 non-null   object\n",
      " 2   parental level of education  1000 non-null   object\n",
      " 3   lunch                        1000 non-null   object\n",
      " 4   test preparation course      1000 non-null   object\n",
      " 5   math score                   1000 non-null   int64 \n",
      " 6   reading score                1000 non-null   int64 \n",
      " 7   writing score                1000 non-null   int64 \n",
      "dtypes: int64(3), object(5)\n",
      "memory usage: 62.6+ KB\n"
     ]
    }
   ],
   "source": [
    "student_data.info()"
   ]
  },
  {
   "cell_type": "code",
   "execution_count": null,
   "id": "58963de2",
   "metadata": {},
   "outputs": [
    {
     "data": {
      "text/plain": [
       "73.89385474860335"
      ]
     },
     "execution_count": 68,
     "metadata": {},
     "output_type": "execute_result"
    }
   ],
   "source": [
    "student_data[student_data['test preparation course']=='completed']['reading score'].mean()  "
   ]
  },
  {
   "cell_type": "code",
   "execution_count": null,
   "id": "c311e7ab",
   "metadata": {},
   "outputs": [
    {
     "data": {
      "text/plain": [
       "1"
      ]
     },
     "execution_count": 72,
     "metadata": {},
     "output_type": "execute_result"
    }
   ],
   "source": [
    "student_data[student_data['math score'] == 0].shape[0]"
   ]
  },
  {
   "cell_type": "code",
   "execution_count": null,
   "id": "2b5915aa",
   "metadata": {},
   "outputs": [
    {
     "data": {
      "text/plain": [
       "70.03410852713178"
      ]
     },
     "execution_count": 76,
     "metadata": {},
     "output_type": "execute_result"
    }
   ],
   "source": [
    "student_data[student_data['lunch'] == 'standard']['math score'].mean()\n",
    "#student_data[student_data['lunch'] == 'free/reduced']['math score'].mean()"
   ]
  },
  {
   "cell_type": "code",
   "execution_count": null,
   "id": "365ee318",
   "metadata": {},
   "outputs": [
    {
     "data": {
      "text/plain": [
       "some college          0.226\n",
       "associate's degree    0.222\n",
       "high school           0.196\n",
       "some high school      0.179\n",
       "bachelor's degree     0.118\n",
       "master's degree       0.059\n",
       "Name: parental level of education, dtype: float64"
      ]
     },
     "execution_count": 77,
     "metadata": {},
     "output_type": "execute_result"
    }
   ],
   "source": [
    "student_data[\"parental level of education\"].value_counts(normalize=True)"
   ]
  },
  {
   "cell_type": "code",
   "execution_count": null,
   "id": "61c89645",
   "metadata": {},
   "outputs": [],
   "source": []
  }
 ],
 "metadata": {
  "interpreter": {
   "hash": "a51fa6082086332b51f4af37d655567322193265f00529cfc9de09bafcd806ca"
  },
  "kernelspec": {
   "display_name": "Python 3.8.8 64-bit ('base': conda)",
   "language": "python",
   "name": "python3"
  },
  "language_info": {
   "codemirror_mode": {
    "name": "ipython",
    "version": 3
   },
   "file_extension": ".py",
   "mimetype": "text/x-python",
   "name": "python",
   "nbconvert_exporter": "python",
   "pygments_lexer": "ipython3",
   "version": "3.8.8"
  }
 },
 "nbformat": 4,
 "nbformat_minor": 5
}
